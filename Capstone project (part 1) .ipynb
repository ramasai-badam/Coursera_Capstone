{
    "cells": [
        {
            "cell_type": "markdown",
            "metadata": {
                "collapsed": true
            },
            "source": "# The Battle of Neighborhoods (Week 1)\n------\n## Applied Data Science Course IBM"
        },
        {
            "cell_type": "markdown",
            "metadata": {},
            "source": "### Description \n\nEvery day a new startup is being registered. This project aims to show the startups can be affected based on their location and category to which they belong. Every startup aims to get funding so that they can succeed in the race to keep up. But unfortunately some startups fail at starting and some take time to succeed / fail . \n\nWe'll use Data Science techniques to get an idea of the startups success. An interactive map will be shown with startups based on their location."
        },
        {
            "cell_type": "markdown",
            "metadata": {},
            "source": "### Data\n\nThe dataset was provided by kaggle.\nhttps://www.kaggle.com/arindam235/startup-investments-crunchbase\n\n**Based on the problem following are the attributes are considered to be influential :**\n\n1. company name \n2. category\n3. total funding\n4. status\n5. location\n6. founded year\n7. funding rounds\n\nAfter the completion the analysis , maps with pointers will be displayed based on various conditions.\n\nFor displaying interactive maps **foursquare** api will be used.\n    "
        }
    ],
    "metadata": {
        "kernelspec": {
            "display_name": "Python 3.6",
            "language": "python",
            "name": "python3"
        },
        "language_info": {
            "codemirror_mode": {
                "name": "ipython",
                "version": 3
            },
            "file_extension": ".py",
            "mimetype": "text/x-python",
            "name": "python",
            "nbconvert_exporter": "python",
            "pygments_lexer": "ipython3",
            "version": "3.6.9"
        }
    },
    "nbformat": 4,
    "nbformat_minor": 1
}