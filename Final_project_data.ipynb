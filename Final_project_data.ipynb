{
  "nbformat": 4,
  "nbformat_minor": 0,
  "metadata": {
    "colab": {
      "name": "Final project data .ipynb",
      "provenance": [],
      "authorship_tag": "ABX9TyNZPSkZ/vRHFGhzxEIdmdjV",
      "include_colab_link": true
    },
    "kernelspec": {
      "name": "python3",
      "display_name": "Python 3"
    }
  },
  "cells": [
    {
      "cell_type": "markdown",
      "metadata": {
        "id": "view-in-github",
        "colab_type": "text"
      },
      "source": [
        "<a href=\"https://colab.research.google.com/github/ramasai-badam/Coursera_Capstone/blob/master/Final_project_data.ipynb\" target=\"_parent\"><img src=\"https://colab.research.google.com/assets/colab-badge.svg\" alt=\"Open In Colab\"/></a>"
      ]
    },
    {
      "cell_type": "markdown",
      "metadata": {
        "id": "o-jAxz_XJBoa",
        "colab_type": "text"
      },
      "source": [
        "# The Battle of Neighborhoods (Week 1)\n",
        "---\n",
        "## Applied Data Science Course IBM"
      ]
    },
    {
      "cell_type": "markdown",
      "metadata": {
        "id": "m9dwCaiwI_AQ",
        "colab_type": "text"
      },
      "source": [
        "### Data\n",
        "\n",
        "The dataset was provided by kaggle.\n",
        "https://www.kaggle.com/arindam235/startup-investments-crunchbase\n",
        "\n",
        "**Based on the problem following are the attributes are considered to be influential :**\n",
        "\n",
        "1. company name \n",
        "2. category\n",
        "3. total funding\n",
        "4. status\n",
        "5. location\n",
        "6. founded year\n",
        "7. funding rounds\n",
        "\n",
        "After the completion the analysis , maps with pointers will be displayed based on various conditions.\n",
        "\n",
        "For displaying interactive maps **foursquare** api will be used.\n",
        "    "
      ]
    }
  ]
}