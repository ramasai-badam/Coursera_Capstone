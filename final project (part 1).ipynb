{
  "nbformat": 4,
  "nbformat_minor": 0,
  "metadata": {
    "kernelspec": {
      "display_name": "Python 3.6",
      "language": "python",
      "name": "python3"
    },
    "language_info": {
      "codemirror_mode": {
        "name": "ipython",
        "version": 3
      },
      "file_extension": ".py",
      "mimetype": "text/x-python",
      "name": "python",
      "nbconvert_exporter": "python",
      "pygments_lexer": "ipython3",
      "version": "3.6.9"
    },
    "colab": {
      "name": "Capstone final assignment .ipynb",
      "provenance": [],
      "include_colab_link": true
    }
  },
  "cells": [
    {
      "cell_type": "markdown",
      "metadata": {
        "id": "view-in-github",
        "colab_type": "text"
      },
      "source": [
        "<a href=\"https://colab.research.google.com/github/ramasai-badam/Coursera_Capstone/blob/master/final%20project%20(part%201).ipynb\" target=\"_parent\"><img src=\"https://colab.research.google.com/assets/colab-badge.svg\" alt=\"Open In Colab\"/></a>"
      ]
    },
    {
      "cell_type": "markdown",
      "metadata": {
        "collapsed": true,
        "id": "-3P3y4K7GWNL",
        "colab_type": "text"
      },
      "source": [
        "# The Battle of Neighborhoods (Week 1)\n",
        "------\n",
        "## Applied Data Science Course IBM"
      ]
    },
    {
      "cell_type": "markdown",
      "metadata": {
        "id": "MLZbGxHNGWNT",
        "colab_type": "text"
      },
      "source": [
        "### Description \n",
        "\n",
        "Every day a new startup is being registered. This project aims to show the startups can be affected based on their location and category to which they belong. Every startup aims to get funding so that they can succeed in the race to keep up. But unfortunately some startups fail at starting and some take time to succeed / fail . \n",
        "\n",
        "We'll use Data Science techniques to get an idea of the startups success. An interactive map will be shown with startups based on their location."
      ]
    },
    {
      "cell_type": "markdown",
      "metadata": {
        "id": "RkFeMoGeGWNV",
        "colab_type": "text"
      },
      "source": [
        "### Data\n",
        "\n",
        "The dataset was provided by kaggle.\n",
        "https://www.kaggle.com/arindam235/startup-investments-crunchbase\n",
        "\n",
        "**Based on the problem following are the attributes are considered to be influential :**\n",
        "\n",
        "1. company name \n",
        "2. category\n",
        "3. total funding\n",
        "4. status\n",
        "5. location\n",
        "6. founded year\n",
        "7. funding rounds\n",
        "\n",
        "After the completion the analysis , maps with pointers will be displayed based on various conditions.\n",
        "\n",
        "For displaying interactive maps **foursquare** api will be used.\n",
        "    "
      ]
    },
    {
      "cell_type": "code",
      "metadata": {
        "id": "ujr_dQszGWNc",
        "colab_type": "code",
        "colab": {}
      },
      "source": [
        "import pandas as pd "
      ],
      "execution_count": 0,
      "outputs": []
    },
    {
      "cell_type": "code",
      "metadata": {
        "id": "UoA2yzRjGWNn",
        "colab_type": "code",
        "colab": {}
      },
      "source": [
        ""
      ],
      "execution_count": 0,
      "outputs": []
    }
  ]
}