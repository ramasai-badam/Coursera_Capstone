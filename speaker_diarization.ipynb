{
  "nbformat": 4,
  "nbformat_minor": 0,
  "metadata": {
    "colab": {
      "name": "speaker diarization",
      "provenance": [],
      "collapsed_sections": [],
      "mount_file_id": "1b7J-0x3ci-ZcXEO0-7ll-Mu89KQEhxqV",
      "authorship_tag": "ABX9TyMYgKOG+Uk0sQTjFl1CnOJV",
      "include_colab_link": true
    },
    "kernelspec": {
      "name": "python3",
      "display_name": "Python 3"
    },
    "accelerator": "GPU"
  },
  "cells": [
    {
      "cell_type": "markdown",
      "metadata": {
        "id": "view-in-github",
        "colab_type": "text"
      },
      "source": [
        "<a href=\"https://colab.research.google.com/github/ramasai-badam/Coursera_Capstone/blob/master/speaker_diarization.ipynb\" target=\"_parent\"><img src=\"https://colab.research.google.com/assets/colab-badge.svg\" alt=\"Open In Colab\"/></a>"
      ]
    },
    {
      "cell_type": "code",
      "metadata": {
        "id": "bBe1GdjBR6t3",
        "colab_type": "code",
        "colab": {
          "base_uri": "https://localhost:8080/",
          "height": 136
        },
        "outputId": "5516831d-e987-4e35-8528-bdc6dad35045"
      },
      "source": [
        "!git clone https://github.com/resemble-ai/Resemblyzer.git"
      ],
      "execution_count": null,
      "outputs": [
        {
          "output_type": "stream",
          "text": [
            "Cloning into 'Resemblyzer'...\n",
            "remote: Enumerating objects: 9, done.\u001b[K\n",
            "remote: Counting objects:  11% (1/9)\u001b[K\rremote: Counting objects:  22% (2/9)\u001b[K\rremote: Counting objects:  33% (3/9)\u001b[K\rremote: Counting objects:  44% (4/9)\u001b[K\rremote: Counting objects:  55% (5/9)\u001b[K\rremote: Counting objects:  66% (6/9)\u001b[K\rremote: Counting objects:  77% (7/9)\u001b[K\rremote: Counting objects:  88% (8/9)\u001b[K\rremote: Counting objects: 100% (9/9)\u001b[K\rremote: Counting objects: 100% (9/9), done.\u001b[K\n",
            "remote: Compressing objects: 100% (9/9), done.\u001b[K\n",
            "remote: Total 595 (delta 2), reused 1 (delta 0), pack-reused 586\u001b[K\n",
            "Receiving objects: 100% (595/595), 101.46 MiB | 48.23 MiB/s, done.\n",
            "Resolving deltas: 100% (99/99), done.\n"
          ],
          "name": "stdout"
        }
      ]
    },
    {
      "cell_type": "code",
      "metadata": {
        "id": "9kUT-qfxXcAR",
        "colab_type": "code",
        "colab": {
          "base_uri": "https://localhost:8080/",
          "height": 187
        },
        "outputId": "65779312-f28d-487c-d7f5-20eb9d3c7bc9"
      },
      "source": [
        "!pip install webrtcvad"
      ],
      "execution_count": null,
      "outputs": [
        {
          "output_type": "stream",
          "text": [
            "Collecting webrtcvad\n",
            "\u001b[?25l  Downloading https://files.pythonhosted.org/packages/89/34/e2de2d97f3288512b9ea56f92e7452f8207eb5a0096500badf9dfd48f5e6/webrtcvad-2.0.10.tar.gz (66kB)\n",
            "\r\u001b[K     |█████                           | 10kB 26.4MB/s eta 0:00:01\r\u001b[K     |██████████                      | 20kB 3.0MB/s eta 0:00:01\r\u001b[K     |██████████████▉                 | 30kB 4.0MB/s eta 0:00:01\r\u001b[K     |███████████████████▉            | 40kB 4.3MB/s eta 0:00:01\r\u001b[K     |████████████████████████▊       | 51kB 3.5MB/s eta 0:00:01\r\u001b[K     |█████████████████████████████▊  | 61kB 4.0MB/s eta 0:00:01\r\u001b[K     |████████████████████████████████| 71kB 3.2MB/s \n",
            "\u001b[?25hBuilding wheels for collected packages: webrtcvad\n",
            "  Building wheel for webrtcvad (setup.py) ... \u001b[?25l\u001b[?25hdone\n",
            "  Created wheel for webrtcvad: filename=webrtcvad-2.0.10-cp36-cp36m-linux_x86_64.whl size=71376 sha256=180f2110f12ffac60f02cf9861ac2677201309ea12ff64866c0f4e3d224fa931\n",
            "  Stored in directory: /root/.cache/pip/wheels/44/2a/18/bd1aec41cac7c3051fe95d92a6ed446122ea31dc713c432fa1\n",
            "Successfully built webrtcvad\n",
            "Installing collected packages: webrtcvad\n",
            "Successfully installed webrtcvad-2.0.10\n"
          ],
          "name": "stdout"
        }
      ]
    },
    {
      "cell_type": "code",
      "metadata": {
        "id": "ZyOKN-dUXeO2",
        "colab_type": "code",
        "colab": {
          "base_uri": "https://localhost:8080/",
          "height": 221
        },
        "outputId": "961a8d6a-f63f-4f4c-a255-2b370d1a189e"
      },
      "source": [
        "!pip install librosa"
      ],
      "execution_count": null,
      "outputs": [
        {
          "output_type": "stream",
          "text": [
            "Requirement already satisfied: librosa in /usr/local/lib/python3.6/dist-packages (0.6.3)\n",
            "Requirement already satisfied: scikit-learn!=0.19.0,>=0.14.0 in /usr/local/lib/python3.6/dist-packages (from librosa) (0.22.2.post1)\n",
            "Requirement already satisfied: resampy>=0.2.0 in /usr/local/lib/python3.6/dist-packages (from librosa) (0.2.2)\n",
            "Requirement already satisfied: numba>=0.38.0 in /usr/local/lib/python3.6/dist-packages (from librosa) (0.48.0)\n",
            "Requirement already satisfied: scipy>=1.0.0 in /usr/local/lib/python3.6/dist-packages (from librosa) (1.4.1)\n",
            "Requirement already satisfied: six>=1.3 in /usr/local/lib/python3.6/dist-packages (from librosa) (1.15.0)\n",
            "Requirement already satisfied: numpy>=1.8.0 in /usr/local/lib/python3.6/dist-packages (from librosa) (1.18.5)\n",
            "Requirement already satisfied: joblib>=0.12 in /usr/local/lib/python3.6/dist-packages (from librosa) (0.16.0)\n",
            "Requirement already satisfied: audioread>=2.0.0 in /usr/local/lib/python3.6/dist-packages (from librosa) (2.1.8)\n",
            "Requirement already satisfied: decorator>=3.0.0 in /usr/local/lib/python3.6/dist-packages (from librosa) (4.4.2)\n",
            "Requirement already satisfied: setuptools in /usr/local/lib/python3.6/dist-packages (from numba>=0.38.0->librosa) (49.2.0)\n",
            "Requirement already satisfied: llvmlite<0.32.0,>=0.31.0dev0 in /usr/local/lib/python3.6/dist-packages (from numba>=0.38.0->librosa) (0.31.0)\n"
          ],
          "name": "stdout"
        }
      ]
    },
    {
      "cell_type": "code",
      "metadata": {
        "id": "k_G_jgqGg_uk",
        "colab_type": "code",
        "colab": {
          "base_uri": "https://localhost:8080/",
          "height": 170
        },
        "outputId": "e5c9c111-4024-4ba9-b758-67b175bb6f42"
      },
      "source": [
        "!pip install ffmpeg"
      ],
      "execution_count": null,
      "outputs": [
        {
          "output_type": "stream",
          "text": [
            "Collecting ffmpeg\n",
            "  Downloading https://files.pythonhosted.org/packages/f0/cc/3b7408b8ecf7c1d20ad480c3eaed7619857bf1054b690226e906fdf14258/ffmpeg-1.4.tar.gz\n",
            "Building wheels for collected packages: ffmpeg\n",
            "  Building wheel for ffmpeg (setup.py) ... \u001b[?25l\u001b[?25hdone\n",
            "  Created wheel for ffmpeg: filename=ffmpeg-1.4-cp36-none-any.whl size=6084 sha256=43fd05970d53e39220c13b32f854cd946bcb9f76fc9c1fc423a675e026a72dfc\n",
            "  Stored in directory: /root/.cache/pip/wheels/b6/68/c3/a05a35f647ba871e5572b9bbfc0b95fd1c6637a2219f959e7a\n",
            "Successfully built ffmpeg\n",
            "Installing collected packages: ffmpeg\n",
            "Successfully installed ffmpeg-1.4\n"
          ],
          "name": "stdout"
        }
      ]
    },
    {
      "cell_type": "code",
      "metadata": {
        "id": "0gmnOfAXTXTY",
        "colab_type": "code",
        "colab": {
          "base_uri": "https://localhost:8080/",
          "height": 34
        },
        "outputId": "39813b8a-bfe7-451d-c65b-bd2b40d445cb"
      },
      "source": [
        "cd Resemblyzer\n"
      ],
      "execution_count": null,
      "outputs": [
        {
          "output_type": "stream",
          "text": [
            "/content/Resemblyzer\n"
          ],
          "name": "stdout"
        }
      ]
    },
    {
      "cell_type": "code",
      "metadata": {
        "id": "c-oovYXITZw4",
        "colab_type": "code",
        "colab": {
          "base_uri": "https://localhost:8080/",
          "height": 51
        },
        "outputId": "3e8f6423-bde0-465e-b394-688745078da1"
      },
      "source": [
        "from resemblyzer import preprocess_wav, VoiceEncoder\n",
        "from pathlib import Path\n",
        "\n",
        "#give the file path to your audio file\n",
        "audio_file_path = \"/content/drive/My Drive/threepeople.wav\"\n",
        "wav_fpath = Path(audio_file_path)\n",
        "\n",
        "wav = preprocess_wav(wav_fpath)\n",
        "encoder = VoiceEncoder(\"cpu\")\n",
        "_, cont_embeds, wav_splits = encoder.embed_utterance(wav, return_partials=True, rate=16)\n",
        "print(cont_embeds.shape)"
      ],
      "execution_count": null,
      "outputs": [
        {
          "output_type": "stream",
          "text": [
            "Loaded the voice encoder model on cpu in 0.03 seconds.\n",
            "(2826, 256)\n"
          ],
          "name": "stdout"
        }
      ]
    },
    {
      "cell_type": "code",
      "metadata": {
        "id": "nHLKsanRZJmX",
        "colab_type": "code",
        "colab": {
          "base_uri": "https://localhost:8080/",
          "height": 85
        },
        "outputId": "ca00a9e6-dc3b-43c8-bf89-7a6338d72fa0"
      },
      "source": [
        "!pip install spectralcluster"
      ],
      "execution_count": null,
      "outputs": [
        {
          "output_type": "stream",
          "text": [
            "Collecting spectralcluster\n",
            "  Downloading https://files.pythonhosted.org/packages/24/a7/12c567ed32165ccaa0a40bd55384958751a2049891c109fb9a1d3996e7a0/spectralcluster-0.1.0-py3-none-any.whl\n",
            "Installing collected packages: spectralcluster\n",
            "Successfully installed spectralcluster-0.1.0\n"
          ],
          "name": "stdout"
        }
      ]
    },
    {
      "cell_type": "code",
      "metadata": {
        "id": "hMbYucWxZY4n",
        "colab_type": "code",
        "colab": {}
      },
      "source": [
        "from spectralcluster import SpectralClusterer\n",
        "\n",
        "clusterer = SpectralClusterer(\n",
        "    min_clusters=3,\n",
        "    max_clusters=15,\n",
        "    p_percentile=0.90,\n",
        "    gaussian_blur_sigma=1)\n",
        "\n",
        "labels = clusterer.predict(cont_embeds)"
      ],
      "execution_count": null,
      "outputs": []
    },
    {
      "cell_type": "code",
      "metadata": {
        "id": "d5UWWrItZjQV",
        "colab_type": "code",
        "colab": {}
      },
      "source": [
        "def create_labelling(labels,wav_splits):\n",
        "    from resemblyzer import sampling_rate\n",
        "    times = [((s.start + s.stop) / 2) / sampling_rate for s in wav_splits]\n",
        "    labelling = []\n",
        "    start_time = 0\n",
        "\n",
        "    for i,time in enumerate(times):\n",
        "        if i>0 and labels[i]!=labels[i-1]:\n",
        "            temp = [str(labels[i-1]),start_time,time]\n",
        "            labelling.append(tuple(temp))\n",
        "            start_time = time\n",
        "        if i==len(times)-1:\n",
        "            temp = [str(labels[i]),start_time,time]\n",
        "            labelling.append(tuple(temp))\n",
        "\n",
        "    return labelling\n",
        "  \n",
        "labelling = create_labelling(labels,wav_splits)"
      ],
      "execution_count": null,
      "outputs": []
    },
    {
      "cell_type": "code",
      "metadata": {
        "id": "mBG9W3NMZr7S",
        "colab_type": "code",
        "colab": {
          "base_uri": "https://localhost:8080/",
          "height": 782
        },
        "outputId": "9c42200f-d6bb-42de-f8f6-b3be3ac92d0d"
      },
      "source": [
        "labelling"
      ],
      "execution_count": null,
      "outputs": [
        {
          "output_type": "execute_result",
          "data": {
            "text/plain": [
              "[('1', 0, 5.84),\n",
              " ('0', 5.84, 12.38),\n",
              " ('1', 12.38, 20.6),\n",
              " ('0', 20.6, 24.26),\n",
              " ('1', 24.26, 31.64),\n",
              " ('0', 31.64, 32.0),\n",
              " ('2', 32.0, 33.86),\n",
              " ('0', 33.86, 33.92),\n",
              " ('1', 33.92, 33.98),\n",
              " ('0', 33.98, 34.1),\n",
              " ('1', 34.1, 40.04),\n",
              " ('0', 40.04, 47.6),\n",
              " ('2', 47.6, 49.28),\n",
              " ('0', 49.28, 54.14),\n",
              " ('1', 54.14, 54.5),\n",
              " ('0', 54.5, 54.86),\n",
              " ('1', 54.86, 54.92),\n",
              " ('0', 54.92, 55.4),\n",
              " ('1', 55.4, 55.46),\n",
              " ('0', 55.46, 59.06),\n",
              " ('1', 59.06, 66.74),\n",
              " ('0', 66.74, 66.86),\n",
              " ('1', 66.86, 66.98),\n",
              " ('0', 66.98, 76.16),\n",
              " ('1', 76.16, 78.08),\n",
              " ('0', 78.08, 78.32),\n",
              " ('2', 78.32, 81.32),\n",
              " ('0', 81.32, 87.86),\n",
              " ('1', 87.86, 94.82),\n",
              " ('0', 94.82, 97.7),\n",
              " ('2', 97.7, 98.96),\n",
              " ('0', 98.96, 104.12),\n",
              " ('1', 104.12, 109.1),\n",
              " ('0', 109.1, 118.76),\n",
              " ('1', 118.76, 130.04),\n",
              " ('0', 130.04, 134.72),\n",
              " ('2', 134.72, 134.84),\n",
              " ('0', 134.84, 135.02),\n",
              " ('2', 135.02, 136.94),\n",
              " ('0', 136.94, 140.18),\n",
              " ('1', 140.18, 143.78),\n",
              " ('0', 143.78, 152.18),\n",
              " ('2', 152.18, 157.94),\n",
              " ('1', 157.94, 161.72),\n",
              " ('0', 161.72, 170.3)]"
            ]
          },
          "metadata": {
            "tags": []
          },
          "execution_count": 10
        }
      ]
    },
    {
      "cell_type": "code",
      "metadata": {
        "id": "CtUtZMR8fDLU",
        "colab_type": "code",
        "colab": {
          "base_uri": "https://localhost:8080/",
          "height": 102
        },
        "outputId": "dedf9c61-7913-48de-9ddb-f3408a63f8df"
      },
      "source": [
        "!pip install azure-cognitiveservices-speech"
      ],
      "execution_count": null,
      "outputs": [
        {
          "output_type": "stream",
          "text": [
            "Collecting azure-cognitiveservices-speech\n",
            "\u001b[?25l  Downloading https://files.pythonhosted.org/packages/40/83/4f983ed1191c5806a91d12ae040b2278d479a0fe5c2224911541b704acb5/azure_cognitiveservices_speech-1.13.0-cp36-cp36m-manylinux1_x86_64.whl (4.6MB)\n",
            "\u001b[K     |████████████████████████████████| 4.6MB 5.6MB/s \n",
            "\u001b[?25hInstalling collected packages: azure-cognitiveservices-speech\n",
            "Successfully installed azure-cognitiveservices-speech-1.13.0\n"
          ],
          "name": "stdout"
        }
      ]
    },
    {
      "cell_type": "code",
      "metadata": {
        "id": "x7uxbv_CjWv9",
        "colab_type": "code",
        "colab": {
          "base_uri": "https://localhost:8080/",
          "height": 1000
        },
        "outputId": "bd71ee2f-810b-41af-c588-007e4434ab79"
      },
      "source": [
        "import azure.cognitiveservices.speech as speechsdk\n",
        "import time\n",
        "\n",
        "speech_key, service_region = \"c7a2dfb02fb04e229e88d6d73b18d982\", \"eastus\"\n",
        "speech_config = speechsdk.SpeechConfig(subscription=speech_key, region=service_region)\n",
        "\n",
        "audio_filename = \"/content/drive/My Drive/threepeople.wav\"\n",
        "audio_input = speechsdk.AudioConfig(filename=audio_filename)\n",
        "speech_recognizer = speechsdk.SpeechRecognizer(speech_config=speech_config, audio_config=audio_input)\n",
        "\n",
        "audio_config = speechsdk.audio.AudioConfig(filename=audio_filename)\n",
        "speech_recognizer = speechsdk.SpeechRecognizer(speech_config=speech_config, audio_config=audio_config)\n",
        "\n",
        "done = False\n",
        "\n",
        "def stop_cb(evt):\n",
        "    print('CLOSING on {}'.format(evt))\n",
        "    speech_recognizer.stop_continuous_recognition()\n",
        "    global done\n",
        "    done=True\n",
        "\n",
        "speech_recognizer.recognizing.connect(lambda evt: print('RECOGNIZING: {}'.format(evt)))\n",
        "speech_recognizer.recognized.connect(lambda evt: print('RECOGNIZED: {}'.format(evt)))\n",
        "speech_recognizer.session_started.connect(lambda evt: print('SESSION STARTED: {}'.format(evt)))\n",
        "speech_recognizer.session_stopped.connect(lambda evt: print('SESSION STOPPED {}'.format(evt)))\n",
        "# speech_recognizer.canceled.connect(lambda evt: print('CANCELED {}'.format(evt)))\n",
        "\n",
        "speech_recognizer.session_stopped.connect(stop_cb)\n",
        "speech_recognizer.canceled.connect(stop_cb)\n",
        "\n",
        "speech_recognizer.start_continuous_recognition()\n",
        "while not done:\n",
        "    time.sleep(.5)"
      ],
      "execution_count": null,
      "outputs": [
        {
          "output_type": "stream",
          "text": [
            "SESSION STARTED: SessionEventArgs(session_id=3723bd2f928e4abe8bcd29f4abba97ba)\n",
            "RECOGNIZING: SpeechRecognitionEventArgs(session_id=3723bd2f928e4abe8bcd29f4abba97ba, result=SpeechRecognitionResult(result_id=1630b11383ba4646a42e0854e230df45, text=\"hey\", reason=ResultReason.RecognizingSpeech))\n",
            "RECOGNIZING: SpeechRecognitionEventArgs(session_id=3723bd2f928e4abe8bcd29f4abba97ba, result=SpeechRecognitionResult(result_id=575f0e460ae645d7a1216b28dc4644dd, text=\"hey gene\", reason=ResultReason.RecognizingSpeech))\n",
            "RECOGNIZING: SpeechRecognitionEventArgs(session_id=3723bd2f928e4abe8bcd29f4abba97ba, result=SpeechRecognitionResult(result_id=e57b5c1cccb54aaa916067b4dc242397, text=\"hey jean\", reason=ResultReason.RecognizingSpeech))\n",
            "RECOGNIZING: SpeechRecognitionEventArgs(session_id=3723bd2f928e4abe8bcd29f4abba97ba, result=SpeechRecognitionResult(result_id=1e3d7198b31e4d0ab82179358100cfbe, text=\"hey jean\", reason=ResultReason.RecognizingSpeech))\n",
            "RECOGNIZING: SpeechRecognitionEventArgs(session_id=3723bd2f928e4abe8bcd29f4abba97ba, result=SpeechRecognitionResult(result_id=0a108f71d08b4f9dba50f6c8bd04fbc2, text=\"hey gene\", reason=ResultReason.RecognizingSpeech))\n",
            "RECOGNIZING: SpeechRecognitionEventArgs(session_id=3723bd2f928e4abe8bcd29f4abba97ba, result=SpeechRecognitionResult(result_id=3bec3795585a44619a9a4f8da2bdba1d, text=\"hey jean john\", reason=ResultReason.RecognizingSpeech))\n",
            "RECOGNIZING: SpeechRecognitionEventArgs(session_id=3723bd2f928e4abe8bcd29f4abba97ba, result=SpeechRecognitionResult(result_id=0e3b04adaa774a8896165f3c6b3f33da, text=\"hey gene john there\", reason=ResultReason.RecognizingSpeech))\n",
            "RECOGNIZING: SpeechRecognitionEventArgs(session_id=3723bd2f928e4abe8bcd29f4abba97ba, result=SpeechRecognitionResult(result_id=83c486df610d49969aeb69e3770afa9b, text=\"hey gene john there is a\", reason=ResultReason.RecognizingSpeech))\n",
            "RECOGNIZING: SpeechRecognitionEventArgs(session_id=3723bd2f928e4abe8bcd29f4abba97ba, result=SpeechRecognitionResult(result_id=caa73ac4d4fa459eb2f4a0f1fe64ca70, text=\"hey gene john there is a musical\", reason=ResultReason.RecognizingSpeech))\n",
            "RECOGNIZING: SpeechRecognitionEventArgs(session_id=3723bd2f928e4abe8bcd29f4abba97ba, result=SpeechRecognitionResult(result_id=e26a2b5ea88b49d6b70b86f369de2283, text=\"hey gene john there is a musical concert in\", reason=ResultReason.RecognizingSpeech))\n",
            "RECOGNIZING: SpeechRecognitionEventArgs(session_id=3723bd2f928e4abe8bcd29f4abba97ba, result=SpeechRecognitionResult(result_id=2084db23be6d4c6e80c891caf59bb77f, text=\"hey gene john there is a musical concert in the park\", reason=ResultReason.RecognizingSpeech))\n",
            "RECOGNIZING: SpeechRecognitionEventArgs(session_id=3723bd2f928e4abe8bcd29f4abba97ba, result=SpeechRecognitionResult(result_id=d25c2dcf958f439bb736652ea999ce02, text=\"hey gene john there is a musical concert in the park you\", reason=ResultReason.RecognizingSpeech))\n",
            "RECOGNIZING: SpeechRecognitionEventArgs(session_id=3723bd2f928e4abe8bcd29f4abba97ba, result=SpeechRecognitionResult(result_id=d549acb89a8f4b1292643d69033024f3, text=\"hey gene john there is a musical concert in the park you want to go\", reason=ResultReason.RecognizingSpeech))\n",
            "RECOGNIZING: SpeechRecognitionEventArgs(session_id=3723bd2f928e4abe8bcd29f4abba97ba, result=SpeechRecognitionResult(result_id=d6a141c3093847e88370db12302be526, text=\"hey gene john there is a musical concert in the park you want to go see\", reason=ResultReason.RecognizingSpeech))\n",
            "RECOGNIZING: SpeechRecognitionEventArgs(session_id=3723bd2f928e4abe8bcd29f4abba97ba, result=SpeechRecognitionResult(result_id=cb85bdcb5aeb4d94863360bc49b77f20, text=\"hey gene john there is a musical concert in the park you want to go see them\", reason=ResultReason.RecognizingSpeech))\n",
            "RECOGNIZING: SpeechRecognitionEventArgs(session_id=3723bd2f928e4abe8bcd29f4abba97ba, result=SpeechRecognitionResult(result_id=689fa2769a5c417cb9800650e82154df, text=\"hey gene john there is a musical concert in the park you want to go see the band\", reason=ResultReason.RecognizingSpeech))\n",
            "RECOGNIZING: SpeechRecognitionEventArgs(session_id=3723bd2f928e4abe8bcd29f4abba97ba, result=SpeechRecognitionResult(result_id=8b51459fec144ee9a87ad517dc38c2b0, text=\"hey gene john there is a musical concert in the park you want to go see the band play\", reason=ResultReason.RecognizingSpeech))\n",
            "RECOGNIZED: SpeechRecognitionEventArgs(session_id=3723bd2f928e4abe8bcd29f4abba97ba, result=SpeechRecognitionResult(result_id=f05b21edf30644e2bf8a0866804f712d, text=\"Hey Gene John, there is a musical concert in the park. You want to go see the band play?\", reason=ResultReason.RecognizedSpeech))\n",
            "RECOGNIZING: SpeechRecognitionEventArgs(session_id=3723bd2f928e4abe8bcd29f4abba97ba, result=SpeechRecognitionResult(result_id=4edb1875a6d345d1a9c3d94204e4e935, text=\"i'm\", reason=ResultReason.RecognizingSpeech))\n",
            "RECOGNIZING: SpeechRecognitionEventArgs(session_id=3723bd2f928e4abe8bcd29f4abba97ba, result=SpeechRecognitionResult(result_id=b8c7a984374b44e997ac6ab7a98281be, text=\"i'm done\", reason=ResultReason.RecognizingSpeech))\n",
            "RECOGNIZING: SpeechRecognitionEventArgs(session_id=3723bd2f928e4abe8bcd29f4abba97ba, result=SpeechRecognitionResult(result_id=381b728af2da4522875a05d1fb82f387, text=\"i'm done with the\", reason=ResultReason.RecognizingSpeech))\n",
            "RECOGNIZING: SpeechRecognitionEventArgs(session_id=3723bd2f928e4abe8bcd29f4abba97ba, result=SpeechRecognitionResult(result_id=b4f0129bd86244cba69ed723fc2277bc, text=\"i'm done with the homework\", reason=ResultReason.RecognizingSpeech))\n",
            "RECOGNIZING: SpeechRecognitionEventArgs(session_id=3723bd2f928e4abe8bcd29f4abba97ba, result=SpeechRecognitionResult(result_id=5754396ebb7649ff9d32b1a6186553af, text=\"i'm done with the homework i\", reason=ResultReason.RecognizingSpeech))\n",
            "RECOGNIZING: SpeechRecognitionEventArgs(session_id=3723bd2f928e4abe8bcd29f4abba97ba, result=SpeechRecognitionResult(result_id=0e42a8196dd84481a8e0e360de461619, text=\"i'm done with the homework i can\", reason=ResultReason.RecognizingSpeech))\n",
            "RECOGNIZING: SpeechRecognitionEventArgs(session_id=3723bd2f928e4abe8bcd29f4abba97ba, result=SpeechRecognitionResult(result_id=400f226fab9e4fde852d9ff6fe1a4c8c, text=\"i'm done with the homework i can go\", reason=ResultReason.RecognizingSpeech))\n",
            "RECOGNIZING: SpeechRecognitionEventArgs(session_id=3723bd2f928e4abe8bcd29f4abba97ba, result=SpeechRecognitionResult(result_id=2fbab18bcbe7498386e90c53448b804a, text=\"i'm done with the homework i can go meet\", reason=ResultReason.RecognizingSpeech))\n",
            "RECOGNIZING: SpeechRecognitionEventArgs(session_id=3723bd2f928e4abe8bcd29f4abba97ba, result=SpeechRecognitionResult(result_id=f74ee872551c478cb89ecec51420ed22, text=\"i'm done with the homework i can go meet\", reason=ResultReason.RecognizingSpeech))\n",
            "RECOGNIZING: SpeechRecognitionEventArgs(session_id=3723bd2f928e4abe8bcd29f4abba97ba, result=SpeechRecognitionResult(result_id=7956217344b74609b98d334a5ded484b, text=\"i'm done with the homework i can go meet you\", reason=ResultReason.RecognizingSpeech))\n",
            "RECOGNIZING: SpeechRecognitionEventArgs(session_id=3723bd2f928e4abe8bcd29f4abba97ba, result=SpeechRecognitionResult(result_id=f25c9384f2834351ab7ddd4e4b612309, text=\"i'm done with the homework i can go into one that's cool\", reason=ResultReason.RecognizingSpeech))\n",
            "RECOGNIZED: SpeechRecognitionEventArgs(session_id=3723bd2f928e4abe8bcd29f4abba97ba, result=SpeechRecognitionResult(result_id=b2e93e148219433fa3d86d6e9af97f9a, text=\"I'm done with the homework, I can go into one that's cool.\", reason=ResultReason.RecognizedSpeech))\n",
            "RECOGNIZING: SpeechRecognitionEventArgs(session_id=3723bd2f928e4abe8bcd29f4abba97ba, result=SpeechRecognitionResult(result_id=c8964c01c65f469db2f56a0b8cbad979, text=\"hey\", reason=ResultReason.RecognizingSpeech))\n",
            "RECOGNIZING: SpeechRecognitionEventArgs(session_id=3723bd2f928e4abe8bcd29f4abba97ba, result=SpeechRecognitionResult(result_id=ee3698aeb18a4b78a5349b8a7a675c38, text=\"hey look\", reason=ResultReason.RecognizingSpeech))\n",
            "RECOGNIZING: SpeechRecognitionEventArgs(session_id=3723bd2f928e4abe8bcd29f4abba97ba, result=SpeechRecognitionResult(result_id=c8cc0856098242839a5969266d0f0055, text=\"hey look at this\", reason=ResultReason.RecognizingSpeech))\n",
            "RECOGNIZING: SpeechRecognitionEventArgs(session_id=3723bd2f928e4abe8bcd29f4abba97ba, result=SpeechRecognitionResult(result_id=e3d8c83c6bd24eeabecc72e475e29872, text=\"hey look at his\", reason=ResultReason.RecognizingSpeech))\n",
            "RECOGNIZING: SpeechRecognitionEventArgs(session_id=3723bd2f928e4abe8bcd29f4abba97ba, result=SpeechRecognitionResult(result_id=28f354e4e3db4d53a8d18bccffd4e010, text=\"hey look at his ford guy\", reason=ResultReason.RecognizingSpeech))\n",
            "RECOGNIZING: SpeechRecognitionEventArgs(session_id=3723bd2f928e4abe8bcd29f4abba97ba, result=SpeechRecognitionResult(result_id=ec07d1f09d6d40ab812b4bf57eb34b71, text=\"hey look at this poor guy\", reason=ResultReason.RecognizingSpeech))\n",
            "RECOGNIZING: SpeechRecognitionEventArgs(session_id=3723bd2f928e4abe8bcd29f4abba97ba, result=SpeechRecognitionResult(result_id=7e82df2c500143369b7fa7189e92dd07, text=\"hey look at his ford guy isn't\", reason=ResultReason.RecognizingSpeech))\n",
            "RECOGNIZING: SpeechRecognitionEventArgs(session_id=3723bd2f928e4abe8bcd29f4abba97ba, result=SpeechRecognitionResult(result_id=6e9cb7a061074eeea617d304e0250be9, text=\"hey look at his ford guy isn't it\", reason=ResultReason.RecognizingSpeech))\n",
            "RECOGNIZING: SpeechRecognitionEventArgs(session_id=3723bd2f928e4abe8bcd29f4abba97ba, result=SpeechRecognitionResult(result_id=79df362c5d0b4f618e604a673d71f81a, text=\"hey look at his ford guy isn't it neat\", reason=ResultReason.RecognizingSpeech))\n",
            "RECOGNIZED: SpeechRecognitionEventArgs(session_id=3723bd2f928e4abe8bcd29f4abba97ba, result=SpeechRecognitionResult(result_id=e48c5ddf9c3f48189e8ef325c3589cd6, text=\"Hey look at his Ford Guy, isn't it neat?\", reason=ResultReason.RecognizedSpeech))\n",
            "RECOGNIZING: SpeechRecognitionEventArgs(session_id=3723bd2f928e4abe8bcd29f4abba97ba, result=SpeechRecognitionResult(result_id=c986bfa2156a4bab8d625440c457c545, text=\"that is\", reason=ResultReason.RecognizingSpeech))\n",
            "RECOGNIZING: SpeechRecognitionEventArgs(session_id=3723bd2f928e4abe8bcd29f4abba97ba, result=SpeechRecognitionResult(result_id=4b79309e1e394f53aab52112b0266d2f, text=\"that is exactly the\", reason=ResultReason.RecognizingSpeech))\n",
            "RECOGNIZING: SpeechRecognitionEventArgs(session_id=3723bd2f928e4abe8bcd29f4abba97ba, result=SpeechRecognitionResult(result_id=2035a7e7c63a4109aaab81a10137ce7a, text=\"that is exactly the kind of\", reason=ResultReason.RecognizingSpeech))\n",
            "RECOGNIZING: SpeechRecognitionEventArgs(session_id=3723bd2f928e4abe8bcd29f4abba97ba, result=SpeechRecognitionResult(result_id=aa4193b522db4acd96dcfd927d53593b, text=\"that is exactly the kind of\", reason=ResultReason.RecognizingSpeech))\n",
            "RECOGNIZING: SpeechRecognitionEventArgs(session_id=3723bd2f928e4abe8bcd29f4abba97ba, result=SpeechRecognitionResult(result_id=31ee7382a91948a7a270c2989405cac4, text=\"that is exactly the kind of card that i\", reason=ResultReason.RecognizingSpeech))\n",
            "RECOGNIZING: SpeechRecognitionEventArgs(session_id=3723bd2f928e4abe8bcd29f4abba97ba, result=SpeechRecognitionResult(result_id=125b93d9dc154a66820d68184f58f5f1, text=\"that is exactly the kind of card that i\", reason=ResultReason.RecognizingSpeech))\n",
            "RECOGNIZING: SpeechRecognitionEventArgs(session_id=3723bd2f928e4abe8bcd29f4abba97ba, result=SpeechRecognitionResult(result_id=364d206b88e84f71b91d616b51ba5480, text=\"that is exactly the kind of card that i wanted\", reason=ResultReason.RecognizingSpeech))\n",
            "RECOGNIZING: SpeechRecognitionEventArgs(session_id=3723bd2f928e4abe8bcd29f4abba97ba, result=SpeechRecognitionResult(result_id=1e4ce421185043c38c8557b569f0af3a, text=\"that is exactly the kind of card that i wanted\", reason=ResultReason.RecognizingSpeech))\n",
            "RECOGNIZING: SpeechRecognitionEventArgs(session_id=3723bd2f928e4abe8bcd29f4abba97ba, result=SpeechRecognitionResult(result_id=9db27d258af9456486016b80fa6dbb77, text=\"that is exactly the kind of card that i wanted once\", reason=ResultReason.RecognizingSpeech))\n",
            "RECOGNIZED: SpeechRecognitionEventArgs(session_id=3723bd2f928e4abe8bcd29f4abba97ba, result=SpeechRecognitionResult(result_id=1a827db25e54446bad10819dfb3cfe9b, text=\"That is exactly the kind of card that I wanted once.\", reason=ResultReason.RecognizedSpeech))\n",
            "RECOGNIZING: SpeechRecognitionEventArgs(session_id=3723bd2f928e4abe8bcd29f4abba97ba, result=SpeechRecognitionResult(result_id=6167c733cdca4d0b811643ff9cab38d4, text=\"i i\", reason=ResultReason.RecognizingSpeech))\n",
            "RECOGNIZING: SpeechRecognitionEventArgs(session_id=3723bd2f928e4abe8bcd29f4abba97ba, result=SpeechRecognitionResult(result_id=88dc7bd242b648b29285d9645c2b3e86, text=\"i i bet it\", reason=ResultReason.RecognizingSpeech))\n",
            "RECOGNIZING: SpeechRecognitionEventArgs(session_id=3723bd2f928e4abe8bcd29f4abba97ba, result=SpeechRecognitionResult(result_id=68f0f3a4adba469fad1473a692cc0aad, text=\"i i bet it is\", reason=ResultReason.RecognizingSpeech))\n",
            "RECOGNIZING: SpeechRecognitionEventArgs(session_id=3723bd2f928e4abe8bcd29f4abba97ba, result=SpeechRecognitionResult(result_id=c49d1fdac5a24517a4e5ea5658ec9a40, text=\"i i bet it is very\", reason=ResultReason.RecognizingSpeech))\n",
            "RECOGNIZING: SpeechRecognitionEventArgs(session_id=3723bd2f928e4abe8bcd29f4abba97ba, result=SpeechRecognitionResult(result_id=48e220d0961c4366aec445e8eae4117f, text=\"i i bet it is very fast\", reason=ResultReason.RecognizingSpeech))\n",
            "RECOGNIZING: SpeechRecognitionEventArgs(session_id=3723bd2f928e4abe8bcd29f4abba97ba, result=SpeechRecognitionResult(result_id=2cb61e5cb5bd48e180d1476287e92ee2, text=\"i i bet it is very fast i want\", reason=ResultReason.RecognizingSpeech))\n",
            "RECOGNIZING: SpeechRecognitionEventArgs(session_id=3723bd2f928e4abe8bcd29f4abba97ba, result=SpeechRecognitionResult(result_id=7f879a30ff77478fac0d84c560e349f1, text=\"i i bet it is very fast i want mine\", reason=ResultReason.RecognizingSpeech))\n",
            "RECOGNIZING: SpeechRecognitionEventArgs(session_id=3723bd2f928e4abe8bcd29f4abba97ba, result=SpeechRecognitionResult(result_id=6538e5ea94694a0ea6732556c4e48a7d, text=\"i i bet it is very fast i want mine to be\", reason=ResultReason.RecognizingSpeech))\n",
            "RECOGNIZING: SpeechRecognitionEventArgs(session_id=3723bd2f928e4abe8bcd29f4abba97ba, result=SpeechRecognitionResult(result_id=7f6b859d23af47858e487a052efa1515, text=\"i i bet it is very fast i want mine to be ready\", reason=ResultReason.RecognizingSpeech))\n",
            "RECOGNIZING: SpeechRecognitionEventArgs(session_id=3723bd2f928e4abe8bcd29f4abba97ba, result=SpeechRecognitionResult(result_id=bba61a0ebd7a4a219f9ccc5a9dc0730b, text=\"i i bet it is very fast i want mine to be read\", reason=ResultReason.RecognizingSpeech))\n",
            "RECOGNIZED: SpeechRecognitionEventArgs(session_id=3723bd2f928e4abe8bcd29f4abba97ba, result=SpeechRecognitionResult(result_id=2f0f81db88bc4ba4b9b441a35d7d21ad, text=\"I I bet it is very fast. I want mine to be read though.\", reason=ResultReason.RecognizedSpeech))\n",
            "RECOGNIZING: SpeechRecognitionEventArgs(session_id=3723bd2f928e4abe8bcd29f4abba97ba, result=SpeechRecognitionResult(result_id=c1dc6fadf34b44c0babb5433cea4695c, text=\"he\", reason=ResultReason.RecognizingSpeech))\n",
            "RECOGNIZING: SpeechRecognitionEventArgs(session_id=3723bd2f928e4abe8bcd29f4abba97ba, result=SpeechRecognitionResult(result_id=9e7a9532ffed49e187c3fb0c1c195b30, text=\"keep on dreaming\", reason=ResultReason.RecognizingSpeech))\n",
            "RECOGNIZING: SpeechRecognitionEventArgs(session_id=3723bd2f928e4abe8bcd29f4abba97ba, result=SpeechRecognitionResult(result_id=4e56477537514a24a3ab110afe1369bf, text=\"keep on dreaming your legs\", reason=ResultReason.RecognizingSpeech))\n",
            "RECOGNIZING: SpeechRecognitionEventArgs(session_id=3723bd2f928e4abe8bcd29f4abba97ba, result=SpeechRecognitionResult(result_id=48637d0ad5a2403eadbad262f685fd47, text=\"keep on dreaming your legs that\", reason=ResultReason.RecognizingSpeech))\n",
            "RECOGNIZING: SpeechRecognitionEventArgs(session_id=3723bd2f928e4abe8bcd29f4abba97ba, result=SpeechRecognitionResult(result_id=3c8e1a7cdd944ec2bc5beccabf6eb0b2, text=\"keep on dreaming your legs that card\", reason=ResultReason.RecognizingSpeech))\n",
            "RECOGNIZING: SpeechRecognitionEventArgs(session_id=3723bd2f928e4abe8bcd29f4abba97ba, result=SpeechRecognitionResult(result_id=47f9071bd40d487a916aefd0c24abc5d, text=\"keep on dreaming your legs that car cost\", reason=ResultReason.RecognizingSpeech))\n",
            "RECOGNIZING: SpeechRecognitionEventArgs(session_id=3723bd2f928e4abe8bcd29f4abba97ba, result=SpeechRecognitionResult(result_id=79cfe1c447ea4590a1a71c20975f3a7a, text=\"keep on dreaming your legs that car cost\", reason=ResultReason.RecognizingSpeech))\n",
            "RECOGNIZING: SpeechRecognitionEventArgs(session_id=3723bd2f928e4abe8bcd29f4abba97ba, result=SpeechRecognitionResult(result_id=97580dd7631a451b9ede4743981a8687, text=\"keep on dreaming your legs that car cost for\", reason=ResultReason.RecognizingSpeech))\n",
            "RECOGNIZING: SpeechRecognitionEventArgs(session_id=3723bd2f928e4abe8bcd29f4abba97ba, result=SpeechRecognitionResult(result_id=283eee88510548858c738a80e1073585, text=\"keep on dreaming your legs that car cost a fortune\", reason=ResultReason.RecognizingSpeech))\n",
            "RECOGNIZED: SpeechRecognitionEventArgs(session_id=3723bd2f928e4abe8bcd29f4abba97ba, result=SpeechRecognitionResult(result_id=564292db17614b72bc4b892f2a2834de, text=\"Keep on dreaming your legs. That car cost a fortune.\", reason=ResultReason.RecognizedSpeech))\n",
            "RECOGNIZING: SpeechRecognitionEventArgs(session_id=3723bd2f928e4abe8bcd29f4abba97ba, result=SpeechRecognitionResult(result_id=eab347fb2b294be9bb380cd0929e6b8c, text=\"oh\", reason=ResultReason.RecognizingSpeech))\n",
            "RECOGNIZING: SpeechRecognitionEventArgs(session_id=3723bd2f928e4abe8bcd29f4abba97ba, result=SpeechRecognitionResult(result_id=a47d5ac497e943d28510c96d8bb43abc, text=\"oh it does\", reason=ResultReason.RecognizingSpeech))\n",
            "RECOGNIZING: SpeechRecognitionEventArgs(session_id=3723bd2f928e4abe8bcd29f4abba97ba, result=SpeechRecognitionResult(result_id=9387f9b6210a4896a2b85ed452745391, text=\"oh it does not\", reason=ResultReason.RecognizingSpeech))\n",
            "RECOGNIZING: SpeechRecognitionEventArgs(session_id=3723bd2f928e4abe8bcd29f4abba97ba, result=SpeechRecognitionResult(result_id=961b9f8c77754fc384acb91b897ae546, text=\"oh it does not hurt\", reason=ResultReason.RecognizingSpeech))\n",
            "RECOGNIZING: SpeechRecognitionEventArgs(session_id=3723bd2f928e4abe8bcd29f4abba97ba, result=SpeechRecognitionResult(result_id=45c6b9c0025f4468a672ca40167a5a57, text=\"oh it does not hurt to\", reason=ResultReason.RecognizingSpeech))\n",
            "RECOGNIZING: SpeechRecognitionEventArgs(session_id=3723bd2f928e4abe8bcd29f4abba97ba, result=SpeechRecognitionResult(result_id=4f6afe05fd2b40ef9dbd93819fc5b159, text=\"oh it does not hurt to set huh\", reason=ResultReason.RecognizingSpeech))\n",
            "RECOGNIZING: SpeechRecognitionEventArgs(session_id=3723bd2f928e4abe8bcd29f4abba97ba, result=SpeechRecognitionResult(result_id=f609844d9c9a4547854b38c77fffaeb2, text=\"oh it does not hurt to set\", reason=ResultReason.RecognizingSpeech))\n",
            "RECOGNIZING: SpeechRecognitionEventArgs(session_id=3723bd2f928e4abe8bcd29f4abba97ba, result=SpeechRecognitionResult(result_id=569516359e894e2b8baa6f9908857d43, text=\"oh it does not hurt to set high\", reason=ResultReason.RecognizingSpeech))\n",
            "RECOGNIZING: SpeechRecognitionEventArgs(session_id=3723bd2f928e4abe8bcd29f4abba97ba, result=SpeechRecognitionResult(result_id=7d0ef8ccf700459f90c68142db531ce2, text=\"oh it does not hurt to set high expectations\", reason=ResultReason.RecognizingSpeech))\n",
            "RECOGNIZING: SpeechRecognitionEventArgs(session_id=3723bd2f928e4abe8bcd29f4abba97ba, result=SpeechRecognitionResult(result_id=bf8b86b79fbc4bafb05f2a32046a3dfd, text=\"oh it does not hurt to set high expectations\", reason=ResultReason.RecognizingSpeech))\n",
            "RECOGNIZING: SpeechRecognitionEventArgs(session_id=3723bd2f928e4abe8bcd29f4abba97ba, result=SpeechRecognitionResult(result_id=a3a424fa3e2a4098865312227185b6f3, text=\"oh it does not hurt to set high expectations maybe\", reason=ResultReason.RecognizingSpeech))\n",
            "RECOGNIZING: SpeechRecognitionEventArgs(session_id=3723bd2f928e4abe8bcd29f4abba97ba, result=SpeechRecognitionResult(result_id=2108ac8a927347e198e14be778206862, text=\"oh it does not hurt to set high expectations maybe 1\", reason=ResultReason.RecognizingSpeech))\n",
            "RECOGNIZING: SpeechRecognitionEventArgs(session_id=3723bd2f928e4abe8bcd29f4abba97ba, result=SpeechRecognitionResult(result_id=b50965abf5c44d05b10f964b6254aa1c, text=\"oh it does not hurt to set high expectations maybe one day i'll\", reason=ResultReason.RecognizingSpeech))\n",
            "RECOGNIZING: SpeechRecognitionEventArgs(session_id=3723bd2f928e4abe8bcd29f4abba97ba, result=SpeechRecognitionResult(result_id=2627bb3c4f7f4ea6b4761d88611e73c8, text=\"oh it does not hurt to set high expectations maybe one day i'll be\", reason=ResultReason.RecognizingSpeech))\n",
            "RECOGNIZING: SpeechRecognitionEventArgs(session_id=3723bd2f928e4abe8bcd29f4abba97ba, result=SpeechRecognitionResult(result_id=81cc2ddebea041cc93f7b81bdea33708, text=\"oh it does not hurt to set high expectations maybe one day i'll be making a lot\", reason=ResultReason.RecognizingSpeech))\n",
            "RECOGNIZING: SpeechRecognitionEventArgs(session_id=3723bd2f928e4abe8bcd29f4abba97ba, result=SpeechRecognitionResult(result_id=56d37a7682494c39b869c779eaca0ee1, text=\"oh it does not hurt to set high expectations maybe one day i'll be making a lot of\", reason=ResultReason.RecognizingSpeech))\n",
            "RECOGNIZING: SpeechRecognitionEventArgs(session_id=3723bd2f928e4abe8bcd29f4abba97ba, result=SpeechRecognitionResult(result_id=ae794e6c9e9742899c7cb61a2997946e, text=\"oh it does not hurt to set high expectations maybe one day i'll be making a lot of money\", reason=ResultReason.RecognizingSpeech))\n",
            "RECOGNIZING: SpeechRecognitionEventArgs(session_id=3723bd2f928e4abe8bcd29f4abba97ba, result=SpeechRecognitionResult(result_id=8648b2dfdfc74d6b8186513da9b82566, text=\"oh it does not hurt to set high expectations maybe one day i'll be making a lot of money and\", reason=ResultReason.RecognizingSpeech))\n",
            "RECOGNIZING: SpeechRecognitionEventArgs(session_id=3723bd2f928e4abe8bcd29f4abba97ba, result=SpeechRecognitionResult(result_id=21d28212a55d4910b05f7fad4cc6d92a, text=\"oh it does not hurt to set high expectations maybe one day i'll be making a lot of money and i\", reason=ResultReason.RecognizingSpeech))\n",
            "RECOGNIZING: SpeechRecognitionEventArgs(session_id=3723bd2f928e4abe8bcd29f4abba97ba, result=SpeechRecognitionResult(result_id=7c6b0744619e49498a52620df43fc7e2, text=\"oh it does not hurt to set high expectations maybe one day i'll be making a lot of money and i might\", reason=ResultReason.RecognizingSpeech))\n",
            "RECOGNIZING: SpeechRecognitionEventArgs(session_id=3723bd2f928e4abe8bcd29f4abba97ba, result=SpeechRecognitionResult(result_id=fdea427d5ed6420d81043b1a29bfd1b9, text=\"oh it does not hurt to set high expectations maybe one day i'll be making a lot of money and i might\", reason=ResultReason.RecognizingSpeech))\n",
            "RECOGNIZING: SpeechRecognitionEventArgs(session_id=3723bd2f928e4abe8bcd29f4abba97ba, result=SpeechRecognitionResult(result_id=4ea3b7dc9769455b9b1c4604197eb2e6, text=\"oh it does not hurt to set high expectations maybe one day i'll be making a lot of money and i might surprise you\", reason=ResultReason.RecognizingSpeech))\n",
            "RECOGNIZED: SpeechRecognitionEventArgs(session_id=3723bd2f928e4abe8bcd29f4abba97ba, result=SpeechRecognitionResult(result_id=7ba159c62f454c65892c06760bdf0812, text=\"Oh, it does not hurt to set high expectations. Maybe one day I'll be making a lot of money and I might surprise you.\", reason=ResultReason.RecognizedSpeech))\n",
            "RECOGNIZING: SpeechRecognitionEventArgs(session_id=3723bd2f928e4abe8bcd29f4abba97ba, result=SpeechRecognitionResult(result_id=b5caaef8f5704c1e865cf760f16143f9, text=\"get the topics\", reason=ResultReason.RecognizingSpeech))\n",
            "RECOGNIZING: SpeechRecognitionEventArgs(session_id=3723bd2f928e4abe8bcd29f4abba97ba, result=SpeechRecognitionResult(result_id=a9e58574cb8d45e2a4e16f4c4d13ca8d, text=\"the traffic so heavy\", reason=ResultReason.RecognizingSpeech))\n",
            "RECOGNIZING: SpeechRecognitionEventArgs(session_id=3723bd2f928e4abe8bcd29f4abba97ba, result=SpeechRecognitionResult(result_id=fa24cc7f08fe47a191ca9215ff083e0f, text=\"the traffic so heavy today\", reason=ResultReason.RecognizingSpeech))\n",
            "RECOGNIZED: SpeechRecognitionEventArgs(session_id=3723bd2f928e4abe8bcd29f4abba97ba, result=SpeechRecognitionResult(result_id=b3ca2a4dceb447a3a15a6ec16c46eab4, text=\"The traffic so heavy today.\", reason=ResultReason.RecognizedSpeech))\n",
            "RECOGNIZING: SpeechRecognitionEventArgs(session_id=3723bd2f928e4abe8bcd29f4abba97ba, result=SpeechRecognitionResult(result_id=25ece9dee3594efca6fed8f7a36faf5a, text=\"people had\", reason=ResultReason.RecognizingSpeech))\n",
            "RECOGNIZING: SpeechRecognitionEventArgs(session_id=3723bd2f928e4abe8bcd29f4abba97ba, result=SpeechRecognitionResult(result_id=3d6b6193558646bf97024fc33d3f39ce, text=\"people are\", reason=ResultReason.RecognizingSpeech))\n",
            "RECOGNIZING: SpeechRecognitionEventArgs(session_id=3723bd2f928e4abe8bcd29f4abba97ba, result=SpeechRecognitionResult(result_id=58c9a75f56374fef839c97c0b9b5b3d6, text=\"people are probably\", reason=ResultReason.RecognizingSpeech))\n",
            "RECOGNIZING: SpeechRecognitionEventArgs(session_id=3723bd2f928e4abe8bcd29f4abba97ba, result=SpeechRecognitionResult(result_id=d75f28bd220a4036b1a510491fbc388e, text=\"people are probably heading\", reason=ResultReason.RecognizingSpeech))\n",
            "RECOGNIZING: SpeechRecognitionEventArgs(session_id=3723bd2f928e4abe8bcd29f4abba97ba, result=SpeechRecognitionResult(result_id=4cb21cb81c7d4db8981cf9551628c0c9, text=\"people are probably heading toward\", reason=ResultReason.RecognizingSpeech))\n",
            "RECOGNIZING: SpeechRecognitionEventArgs(session_id=3723bd2f928e4abe8bcd29f4abba97ba, result=SpeechRecognitionResult(result_id=80bfa7545fe04af29bf81dffa4e3f5a5, text=\"people are probably heading toward the\", reason=ResultReason.RecognizingSpeech))\n",
            "RECOGNIZING: SpeechRecognitionEventArgs(session_id=3723bd2f928e4abe8bcd29f4abba97ba, result=SpeechRecognitionResult(result_id=0a17e362d5824e5197543de0b49bced2, text=\"people are probably heading toward the park\", reason=ResultReason.RecognizingSpeech))\n",
            "RECOGNIZING: SpeechRecognitionEventArgs(session_id=3723bd2f928e4abe8bcd29f4abba97ba, result=SpeechRecognitionResult(result_id=3b12180c77994fa68e8f451dece8d03a, text=\"people are probably heading toward the park for\", reason=ResultReason.RecognizingSpeech))\n",
            "RECOGNIZING: SpeechRecognitionEventArgs(session_id=3723bd2f928e4abe8bcd29f4abba97ba, result=SpeechRecognitionResult(result_id=d2e2643735024880951435a99b66171a, text=\"people are probably heading toward the park for the\", reason=ResultReason.RecognizingSpeech))\n",
            "RECOGNIZING: SpeechRecognitionEventArgs(session_id=3723bd2f928e4abe8bcd29f4abba97ba, result=SpeechRecognitionResult(result_id=cc728473ac5e4eb0956c5d47ac0d49ae, text=\"people are probably heading toward the park for the concert\", reason=ResultReason.RecognizingSpeech))\n",
            "RECOGNIZING: SpeechRecognitionEventArgs(session_id=3723bd2f928e4abe8bcd29f4abba97ba, result=SpeechRecognitionResult(result_id=56adf547da0a4ad5b7d6beaa43d3f5d3, text=\"people are probably heading toward the park for the concert the band\", reason=ResultReason.RecognizingSpeech))\n",
            "RECOGNIZING: SpeechRecognitionEventArgs(session_id=3723bd2f928e4abe8bcd29f4abba97ba, result=SpeechRecognitionResult(result_id=6d96abe813014a98b618e9b9e7bb5418, text=\"people are probably heading toward the park for the concert the ban\", reason=ResultReason.RecognizingSpeech))\n",
            "RECOGNIZING: SpeechRecognitionEventArgs(session_id=3723bd2f928e4abe8bcd29f4abba97ba, result=SpeechRecognitionResult(result_id=3b05f500e259437f82ea8ad63cf2889f, text=\"people are probably heading toward the park for the concert the band the band\", reason=ResultReason.RecognizingSpeech))\n",
            "RECOGNIZING: SpeechRecognitionEventArgs(session_id=3723bd2f928e4abe8bcd29f4abba97ba, result=SpeechRecognitionResult(result_id=d83e84d9c3ae445d8c8abc86cfec92ab, text=\"people are probably heading toward the park for the concert the band the band's\", reason=ResultReason.RecognizingSpeech))\n",
            "RECOGNIZING: SpeechRecognitionEventArgs(session_id=3723bd2f928e4abe8bcd29f4abba97ba, result=SpeechRecognitionResult(result_id=9dd854e6860f420b9bcb379d72dd7716, text=\"people are probably heading toward the park for the concert the band the band's\", reason=ResultReason.RecognizingSpeech))\n",
            "RECOGNIZING: SpeechRecognitionEventArgs(session_id=3723bd2f928e4abe8bcd29f4abba97ba, result=SpeechRecognitionResult(result_id=a6f76acd5f454961999e1f33df48627e, text=\"people are probably heading toward the park for the concert the band the band's\", reason=ResultReason.RecognizingSpeech))\n",
            "RECOGNIZING: SpeechRecognitionEventArgs(session_id=3723bd2f928e4abe8bcd29f4abba97ba, result=SpeechRecognitionResult(result_id=e756dc7a4fab492c85fd61b4efd032e8, text=\"people are probably heading toward the park for the concert the band the band's play\", reason=ResultReason.RecognizingSpeech))\n",
            "RECOGNIZING: SpeechRecognitionEventArgs(session_id=3723bd2f928e4abe8bcd29f4abba97ba, result=SpeechRecognitionResult(result_id=c8dd8196cf894ae5835e4ab1fdc41a9e, text=\"people are probably heading toward the park for the concert the band the band's play particular\", reason=ResultReason.RecognizingSpeech))\n",
            "RECOGNIZING: SpeechRecognitionEventArgs(session_id=3723bd2f928e4abe8bcd29f4abba97ba, result=SpeechRecognitionResult(result_id=a57298db7bb842928d25812d21c96257, text=\"people are probably heading toward the park for the concert the band the band's play particular music\", reason=ResultReason.RecognizingSpeech))\n",
            "RECOGNIZED: SpeechRecognitionEventArgs(session_id=3723bd2f928e4abe8bcd29f4abba97ba, result=SpeechRecognitionResult(result_id=36032350939a4f229d01b2b18202b77d, text=\"People are probably heading toward the park for the concert. The band, The band's play, particular music.\", reason=ResultReason.RecognizedSpeech))\n",
            "RECOGNIZING: SpeechRecognitionEventArgs(session_id=3723bd2f928e4abe8bcd29f4abba97ba, result=SpeechRecognitionResult(result_id=74e5d38d14204aa3a13ba2b796053739, text=\"animal\", reason=ResultReason.RecognizingSpeech))\n",
            "RECOGNIZING: SpeechRecognitionEventArgs(session_id=3723bd2f928e4abe8bcd29f4abba97ba, result=SpeechRecognitionResult(result_id=6676f8fe9c1b4dbe8fe0a6dfcd5b62bb, text=\"animal miss if the\", reason=ResultReason.RecognizingSpeech))\n",
            "RECOGNIZING: SpeechRecognitionEventArgs(session_id=3723bd2f928e4abe8bcd29f4abba97ba, result=SpeechRecognitionResult(result_id=19894820fb754555aceabc8e30f23a42, text=\"animal miss of the\", reason=ResultReason.RecognizingSpeech))\n",
            "RECOGNIZING: SpeechRecognitionEventArgs(session_id=3723bd2f928e4abe8bcd29f4abba97ba, result=SpeechRecognitionResult(result_id=77ef4c09df1e47ceb0e092a509c8da85, text=\"animal miss of the concept\", reason=ResultReason.RecognizingSpeech))\n",
            "RECOGNIZING: SpeechRecognitionEventArgs(session_id=3723bd2f928e4abe8bcd29f4abba97ba, result=SpeechRecognitionResult(result_id=4ebbdb68848f464c98c1e5138940a83c, text=\"animal miss of the concept i\", reason=ResultReason.RecognizingSpeech))\n",
            "RECOGNIZING: SpeechRecognitionEventArgs(session_id=3723bd2f928e4abe8bcd29f4abba97ba, result=SpeechRecognitionResult(result_id=778ef063108f49bba406bf0da74ab4d1, text=\"animal miss of the concept i hallways\", reason=ResultReason.RecognizingSpeech))\n",
            "RECOGNIZING: SpeechRecognitionEventArgs(session_id=3723bd2f928e4abe8bcd29f4abba97ba, result=SpeechRecognitionResult(result_id=a0fd05ddb52a487080dd1a7a5180d3d2, text=\"animal miss of the concept i always\", reason=ResultReason.RecognizingSpeech))\n",
            "RECOGNIZING: SpeechRecognitionEventArgs(session_id=3723bd2f928e4abe8bcd29f4abba97ba, result=SpeechRecognitionResult(result_id=1f91becb34d145ac83791365fe729b9c, text=\"animal miss of the concept i always\", reason=ResultReason.RecognizingSpeech))\n",
            "RECOGNIZING: SpeechRecognitionEventArgs(session_id=3723bd2f928e4abe8bcd29f4abba97ba, result=SpeechRecognitionResult(result_id=5323def526014bf083b6b1ae980b56c0, text=\"animal miss of the concept i always arrange my schedule\", reason=ResultReason.RecognizingSpeech))\n",
            "RECOGNIZING: SpeechRecognitionEventArgs(session_id=3723bd2f928e4abe8bcd29f4abba97ba, result=SpeechRecognitionResult(result_id=f0ef5eca5e7b479292beb64a5f6d242a, text=\"animal miss of the concept i always arrange my schedule so\", reason=ResultReason.RecognizingSpeech))\n",
            "RECOGNIZING: SpeechRecognitionEventArgs(session_id=3723bd2f928e4abe8bcd29f4abba97ba, result=SpeechRecognitionResult(result_id=6ca41bcbef4346748aacf2371b8729bf, text=\"animal miss of the concept i always arrange my schedule so that i\", reason=ResultReason.RecognizingSpeech))\n",
            "RECOGNIZING: SpeechRecognitionEventArgs(session_id=3723bd2f928e4abe8bcd29f4abba97ba, result=SpeechRecognitionResult(result_id=20ab67525f554f63bd1a119ffcac5fa2, text=\"animal miss of the concept i always arrange my schedule so that i could\", reason=ResultReason.RecognizingSpeech))\n",
            "RECOGNIZING: SpeechRecognitionEventArgs(session_id=3723bd2f928e4abe8bcd29f4abba97ba, result=SpeechRecognitionResult(result_id=18268ff815b2438fbdc377d7f83aebb3, text=\"animal miss of the concept i always arrange my schedule so that i could read\", reason=ResultReason.RecognizingSpeech))\n",
            "RECOGNIZING: SpeechRecognitionEventArgs(session_id=3723bd2f928e4abe8bcd29f4abba97ba, result=SpeechRecognitionResult(result_id=730f7ca36b824f26b44fa59fcb6c4e31, text=\"animal miss of the concept i always arrange my schedule so that i could read in the\", reason=ResultReason.RecognizingSpeech))\n",
            "RECOGNIZING: SpeechRecognitionEventArgs(session_id=3723bd2f928e4abe8bcd29f4abba97ba, result=SpeechRecognitionResult(result_id=74d16dbba1df4f8ea8f2040b091ae1ce, text=\"animal miss of the concept i always arrange my schedule so that i could and they even\", reason=ResultReason.RecognizingSpeech))\n",
            "RECOGNIZING: SpeechRecognitionEventArgs(session_id=3723bd2f928e4abe8bcd29f4abba97ba, result=SpeechRecognitionResult(result_id=5d365a07158745cebadf74a33395205b, text=\"animal miss of the concept i always arrange my schedule so that i couldn't even\", reason=ResultReason.RecognizingSpeech))\n",
            "RECOGNIZING: SpeechRecognitionEventArgs(session_id=3723bd2f928e4abe8bcd29f4abba97ba, result=SpeechRecognitionResult(result_id=56456872c70b461cb5762771d5d2293e, text=\"animal miss of the concept i always arrange my schedule so that i could and they even once\", reason=ResultReason.RecognizingSpeech))\n",
            "RECOGNIZING: SpeechRecognitionEventArgs(session_id=3723bd2f928e4abe8bcd29f4abba97ba, result=SpeechRecognitionResult(result_id=a62b4c906f6e4e5e8bb7be301f439245, text=\"animal miss of the concept i always arrange my schedule so that i could and they even once the\", reason=ResultReason.RecognizingSpeech))\n",
            "RECOGNIZING: SpeechRecognitionEventArgs(session_id=3723bd2f928e4abe8bcd29f4abba97ba, result=SpeechRecognitionResult(result_id=9b5af73a98f94b1dad1c6bac37fd5374, text=\"animal miss of the concept i always arrange my schedule so that i could and they even once the\", reason=ResultReason.RecognizingSpeech))\n",
            "RECOGNIZING: SpeechRecognitionEventArgs(session_id=3723bd2f928e4abe8bcd29f4abba97ba, result=SpeechRecognitionResult(result_id=ae3f33666afc4089aaea447a86264604, text=\"animal miss of the concept i always arrange my schedule so that i could and they even once the band wasn't\", reason=ResultReason.RecognizingSpeech))\n",
            "RECOGNIZING: SpeechRecognitionEventArgs(session_id=3723bd2f928e4abe8bcd29f4abba97ba, result=SpeechRecognitionResult(result_id=df677f00e3a449b7b15f32e95aa87d63, text=\"animal miss of the concept i always arrange my schedule so that i could and they even once the band was in town\", reason=ResultReason.RecognizingSpeech))\n",
            "RECOGNIZING: SpeechRecognitionEventArgs(session_id=3723bd2f928e4abe8bcd29f4abba97ba, result=SpeechRecognitionResult(result_id=b8593cdd7b18408fbe3f2f909a8dbe69, text=\"animal miss of the concept i always arrange my schedule so that i could and they even once the band was in town how long\", reason=ResultReason.RecognizingSpeech))\n",
            "RECOGNIZING: SpeechRecognitionEventArgs(session_id=3723bd2f928e4abe8bcd29f4abba97ba, result=SpeechRecognitionResult(result_id=f120f247264f481abf9cb78e382ba75d, text=\"animal miss of the concept i always arrange my schedule so that i could and they even once the band was in town how long ago\", reason=ResultReason.RecognizingSpeech))\n",
            "RECOGNIZING: SpeechRecognitionEventArgs(session_id=3723bd2f928e4abe8bcd29f4abba97ba, result=SpeechRecognitionResult(result_id=c0ca1cf6f5604a6a8a06b209c1df9dd5, text=\"animal miss of the concept i always arrange my schedule so that i could and they even once the band was in town how long ago did\", reason=ResultReason.RecognizingSpeech))\n",
            "RECOGNIZING: SpeechRecognitionEventArgs(session_id=3723bd2f928e4abe8bcd29f4abba97ba, result=SpeechRecognitionResult(result_id=ff158ec18c8d4fbcb316b042fb1f88bd, text=\"animal miss of the concept i always arrange my schedule so that i could and they even once the band was in town how long ago did the band\", reason=ResultReason.RecognizingSpeech))\n",
            "RECOGNIZING: SpeechRecognitionEventArgs(session_id=3723bd2f928e4abe8bcd29f4abba97ba, result=SpeechRecognitionResult(result_id=17d5bcd1352f4510802472a0c1a5715e, text=\"animal miss of the concept i always arrange my schedule so that i could and they even once the band was in town how long ago did the ban starts\", reason=ResultReason.RecognizingSpeech))\n",
            "RECOGNIZING: SpeechRecognitionEventArgs(session_id=3723bd2f928e4abe8bcd29f4abba97ba, result=SpeechRecognitionResult(result_id=c70550ff894849a3b9fe4e296b1b94e0, text=\"animal miss of the concept i always arrange my schedule so that i could and they even once the band was in town how long ago did the bands are playing\", reason=ResultReason.RecognizingSpeech))\n",
            "RECOGNIZING: SpeechRecognitionEventArgs(session_id=3723bd2f928e4abe8bcd29f4abba97ba, result=SpeechRecognitionResult(result_id=f7394a00cc194c26ba6d52bedae38465, text=\"animal miss of the concept i always arrange my schedule so that i could and they even once the band was in town how long ago did the bands are playing in\", reason=ResultReason.RecognizingSpeech))\n",
            "RECOGNIZING: SpeechRecognitionEventArgs(session_id=3723bd2f928e4abe8bcd29f4abba97ba, result=SpeechRecognitionResult(result_id=871794c5526945a88e2856360ee20b25, text=\"animal miss of the concept i always arrange my schedule so that i could and they even once the band was in town how long ago did the bands are playing in\", reason=ResultReason.RecognizingSpeech))\n",
            "RECOGNIZING: SpeechRecognitionEventArgs(session_id=3723bd2f928e4abe8bcd29f4abba97ba, result=SpeechRecognitionResult(result_id=36c7b90506ed42d88eed67ad82b1647c, text=\"animal miss of the concept i always arrange my schedule so that i could and they even once the band was in town how long ago did the bands are playing in the park\", reason=ResultReason.RecognizingSpeech))\n",
            "RECOGNIZING: SpeechRecognitionEventArgs(session_id=3723bd2f928e4abe8bcd29f4abba97ba, result=SpeechRecognitionResult(result_id=25e4290278d649c3b9a92d3c632f49d2, text=\"animal miss of the concept i always arrange my schedule so that i could and they even once the band was in town how long ago did the bands are playing in the park i\", reason=ResultReason.RecognizingSpeech))\n",
            "RECOGNIZING: SpeechRecognitionEventArgs(session_id=3723bd2f928e4abe8bcd29f4abba97ba, result=SpeechRecognitionResult(result_id=e565b0fe54d64e6d8821137a04e88aa1, text=\"animal miss of the concept i always arrange my schedule so that i could and they even once the band was in town how long ago did the bands are playing in the park i think it\", reason=ResultReason.RecognizingSpeech))\n",
            "RECOGNIZING: SpeechRecognitionEventArgs(session_id=3723bd2f928e4abe8bcd29f4abba97ba, result=SpeechRecognitionResult(result_id=426e464308174c07b4b15babcdd4bef0, text=\"animal miss of the concept i always arrange my schedule so that i could and they even once the band was in town how long ago did the bands are playing in the park i think it's at\", reason=ResultReason.RecognizingSpeech))\n",
            "RECOGNIZING: SpeechRecognitionEventArgs(session_id=3723bd2f928e4abe8bcd29f4abba97ba, result=SpeechRecognitionResult(result_id=18d26c59f84343df82a36f100d3d2e6e, text=\"animal miss of the concept i always arrange my schedule so that i could and they even once the band was in town how long ago did the bands are playing in the park i think it\", reason=ResultReason.RecognizingSpeech))\n",
            "RECOGNIZING: SpeechRecognitionEventArgs(session_id=3723bd2f928e4abe8bcd29f4abba97ba, result=SpeechRecognitionResult(result_id=f560144a12f34201955a1523a0cb5e58, text=\"animal miss of the concept i always arrange my schedule so that i could and they even once the band was in town how long ago did the bands are playing in the park i think it started with\", reason=ResultReason.RecognizingSpeech))\n",
            "RECOGNIZING: SpeechRecognitionEventArgs(session_id=3723bd2f928e4abe8bcd29f4abba97ba, result=SpeechRecognitionResult(result_id=fc810392cf964b57a481f3b0d462dc5d, text=\"animal miss of the concept i always arrange my schedule so that i could and they even once the band was in town how long ago did the bands are playing in the park i think it started with this\", reason=ResultReason.RecognizingSpeech))\n",
            "RECOGNIZING: SpeechRecognitionEventArgs(session_id=3723bd2f928e4abe8bcd29f4abba97ba, result=SpeechRecognitionResult(result_id=691f8c853ca94e8db4b6d6435358acc4, text=\"animal miss of the concept i always arrange my schedule so that i could and they even once the band was in town how long ago did the bands are playing in the park i think it started with this tradition\", reason=ResultReason.RecognizingSpeech))\n",
            "RECOGNIZING: SpeechRecognitionEventArgs(session_id=3723bd2f928e4abe8bcd29f4abba97ba, result=SpeechRecognitionResult(result_id=6b3f0b49590940dfb642e935e0ea3310, text=\"animal miss of the concept i always arrange my schedule so that i could and they even once the band was in town how long ago did the bands are playing in the park i think it started with this tradition\", reason=ResultReason.RecognizingSpeech))\n",
            "RECOGNIZING: SpeechRecognitionEventArgs(session_id=3723bd2f928e4abe8bcd29f4abba97ba, result=SpeechRecognitionResult(result_id=a4cf6e0ad832422eb3c06a120ef65907, text=\"animal miss of the concept i always arrange my schedule so that i could and they even once the band was in town how long ago did the bands are playing in the park i think it started with this tradition fires\", reason=ResultReason.RecognizingSpeech))\n",
            "RECOGNIZING: SpeechRecognitionEventArgs(session_id=3723bd2f928e4abe8bcd29f4abba97ba, result=SpeechRecognitionResult(result_id=88f92fe7b01641ff911515204e2a39ba, text=\"animal miss of the concept i always arrange my schedule so that i could and they even once the band was in town how long ago did the bands are playing in the park i think it started with this tradition fires ago\", reason=ResultReason.RecognizingSpeech))\n",
            "RECOGNIZING: SpeechRecognitionEventArgs(session_id=3723bd2f928e4abe8bcd29f4abba97ba, result=SpeechRecognitionResult(result_id=cd48fefeaa0742bb9c5fc40cae9c5479, text=\"animal miss of the concept i always arrange my schedule so that i could and they even once the band was in town how long ago did the bands are playing in the park i think it started with this tradition fires ago before\", reason=ResultReason.RecognizingSpeech))\n",
            "RECOGNIZING: SpeechRecognitionEventArgs(session_id=3723bd2f928e4abe8bcd29f4abba97ba, result=SpeechRecognitionResult(result_id=d547c166273a4379ad29387404621ad9, text=\"animal miss of the concept i always arrange my schedule so that i could and they even once the band was in town how long ago did the bands are playing in the park i think it started with this tradition fires ago before you\", reason=ResultReason.RecognizingSpeech))\n",
            "RECOGNIZING: SpeechRecognitionEventArgs(session_id=3723bd2f928e4abe8bcd29f4abba97ba, result=SpeechRecognitionResult(result_id=437cd232a9c2432bb59c54af954f1fef, text=\"animal miss of the concept i always arrange my schedule so that i could and they even once the band was in town how long ago did the bands are playing in the park i think it started with this tradition fires ago before you moved\", reason=ResultReason.RecognizingSpeech))\n",
            "RECOGNIZING: SpeechRecognitionEventArgs(session_id=3723bd2f928e4abe8bcd29f4abba97ba, result=SpeechRecognitionResult(result_id=079dab97c59f4b0c8b8155f654156cc4, text=\"animal miss of the concept i always arrange my schedule so that i could and they even once the band was in town how long ago did the bands are playing in the park i think it started with this tradition fires ago before you moved\", reason=ResultReason.RecognizingSpeech))\n",
            "RECOGNIZING: SpeechRecognitionEventArgs(session_id=3723bd2f928e4abe8bcd29f4abba97ba, result=SpeechRecognitionResult(result_id=2c877f604fa7403a8f18152ee84c002c, text=\"animal miss of the concept i always arrange my schedule so that i could and they even once the band was in town how long ago did the bands are playing in the park i think it started with this tradition fires ago before you moved in two\", reason=ResultReason.RecognizingSpeech))\n",
            "RECOGNIZING: SpeechRecognitionEventArgs(session_id=3723bd2f928e4abe8bcd29f4abba97ba, result=SpeechRecognitionResult(result_id=972990cd8a204b238d93cf132167fc3e, text=\"animal miss of the concept i always arrange my schedule so that i could and they even once the band was in town how long ago did the bands are playing in the park i think it started with this tradition fires ago before you moved into our new\", reason=ResultReason.RecognizingSpeech))\n",
            "RECOGNIZING: SpeechRecognitionEventArgs(session_id=3723bd2f928e4abe8bcd29f4abba97ba, result=SpeechRecognitionResult(result_id=3623b3db5887490181e3be5292844733, text=\"animal miss of the concept i always arrange my schedule so that i could and they even once the band was in town how long ago did the bands are playing in the park i think it started with this tradition fires ago before you moved into our\", reason=ResultReason.RecognizingSpeech))\n",
            "RECOGNIZING: SpeechRecognitionEventArgs(session_id=3723bd2f928e4abe8bcd29f4abba97ba, result=SpeechRecognitionResult(result_id=62f50e85ef9c4dd69bf40f39fe39629c, text=\"animal miss of the concept i always arrange my schedule so that i could and they even once the band was in town how long ago did the bands are playing in the park i think it started with this tradition fires ago before you moved into our neighborhood\", reason=ResultReason.RecognizingSpeech))\n",
            "RECOGNIZING: SpeechRecognitionEventArgs(session_id=3723bd2f928e4abe8bcd29f4abba97ba, result=SpeechRecognitionResult(result_id=91cc9d395428407aad92ccde1453b46f, text=\"animal miss of the concept i always arrange my schedule so that i could and they even once the band was in town how long ago did the bands are playing in the park i think it started with this tradition fires ago before you moved into our neighborhood every\", reason=ResultReason.RecognizingSpeech))\n",
            "RECOGNIZING: SpeechRecognitionEventArgs(session_id=3723bd2f928e4abe8bcd29f4abba97ba, result=SpeechRecognitionResult(result_id=7ec9ea8df3004c2baa898841b0ed96ce, text=\"animal miss of the concept i always arrange my schedule so that i could and they even once the band was in town how long ago did the bands are playing in the park i think it started with this tradition fires ago before you moved into our neighborhood every year it\", reason=ResultReason.RecognizingSpeech))\n",
            "RECOGNIZING: SpeechRecognitionEventArgs(session_id=3723bd2f928e4abe8bcd29f4abba97ba, result=SpeechRecognitionResult(result_id=f7bebb2e90754e549716e0bcc846dda2, text=\"animal miss of the concept i always arrange my schedule so that i could and they even once the band was in town how long ago did the bands are playing in the park i think it started with this tradition fires ago before you moved into our neighborhood every year it always\", reason=ResultReason.RecognizingSpeech))\n",
            "RECOGNIZING: SpeechRecognitionEventArgs(session_id=3723bd2f928e4abe8bcd29f4abba97ba, result=SpeechRecognitionResult(result_id=956a7121310943b987f7f0f7a23d47fd, text=\"animal miss of the concept i always arrange my schedule so that i could and they even once the band was in town how long ago did the bands are playing in the park i think it started with this tradition fires ago before you moved into our neighborhood every year it always there is the\", reason=ResultReason.RecognizingSpeech))\n",
            "RECOGNIZING: SpeechRecognitionEventArgs(session_id=3723bd2f928e4abe8bcd29f4abba97ba, result=SpeechRecognitionResult(result_id=3d34c28bfbb0442c89b3b352e66864ab, text=\"animal miss of the concept i always arrange my schedule so that i could and they even once the band was in town how long ago did the bands are playing in the park i think it started with this tradition fires ago before you moved into our neighborhood every year it always there was the first\", reason=ResultReason.RecognizingSpeech))\n",
            "RECOGNIZING: SpeechRecognitionEventArgs(session_id=3723bd2f928e4abe8bcd29f4abba97ba, result=SpeechRecognitionResult(result_id=db193165be364518a285e69c1a8ca181, text=\"animal miss of the concept i always arrange my schedule so that i could and they even once the band was in town how long ago did the bands are playing in the park i think it started with this tradition fires ago before you moved into our neighborhood every year it always there is the first week of\", reason=ResultReason.RecognizingSpeech))\n",
            "RECOGNIZING: SpeechRecognitionEventArgs(session_id=3723bd2f928e4abe8bcd29f4abba97ba, result=SpeechRecognitionResult(result_id=caf15f3f3ba0464488ccab5ac0ce4c17, text=\"animal miss of the concept i always arrange my schedule so that i could and they even once the band was in town how long ago did the bands are playing in the park i think it started with this tradition fires ago before you moved into our neighborhood every year it always there is the first week of june\", reason=ResultReason.RecognizingSpeech))\n",
            "RECOGNIZING: SpeechRecognitionEventArgs(session_id=3723bd2f928e4abe8bcd29f4abba97ba, result=SpeechRecognitionResult(result_id=694000a64935417686324952952cc80d, text=\"animal miss of the concept i always arrange my schedule so that i could and they even once the band was in town how long ago did the bands are playing in the park i think it started with this tradition fires ago before you moved into our neighborhood every year it always there is the first week of june 2\", reason=ResultReason.RecognizingSpeech))\n",
            "RECOGNIZING: SpeechRecognitionEventArgs(session_id=3723bd2f928e4abe8bcd29f4abba97ba, result=SpeechRecognitionResult(result_id=9fde61c491cc43c2b1884073ddb2c8bd, text=\"animal miss of the concept i always arrange my schedule so that i could and they even once the band was in town how long ago did the bands are playing in the park i think it started with this tradition fires ago before you moved into our neighborhood every year it always there is the first week of june to play\", reason=ResultReason.RecognizingSpeech))\n",
            "RECOGNIZING: SpeechRecognitionEventArgs(session_id=3723bd2f928e4abe8bcd29f4abba97ba, result=SpeechRecognitionResult(result_id=909cc000aa284a138c34a8efd6e63907, text=\"animal miss of the concept i always arrange my schedule so that i could and they even once the band was in town how long ago did the bands are playing in the park i think it started with this tradition fires ago before you moved into our neighborhood every year it always there is the first week of june to play the whole\", reason=ResultReason.RecognizingSpeech))\n",
            "RECOGNIZING: SpeechRecognitionEventArgs(session_id=3723bd2f928e4abe8bcd29f4abba97ba, result=SpeechRecognitionResult(result_id=1586f9c528b14392b85cdf407faf4f3c, text=\"animal miss of the concept i always arrange my schedule so that i could and they even once the band was in town how long ago did the bands are playing in the park i think it started with this tradition fires ago before you moved into our neighborhood every year it always there is the first week of june to play the whole week\", reason=ResultReason.RecognizingSpeech))\n",
            "RECOGNIZING: SpeechRecognitionEventArgs(session_id=3723bd2f928e4abe8bcd29f4abba97ba, result=SpeechRecognitionResult(result_id=033f2b527a134a8ba855b4f256b3734e, text=\"animal miss of the concept i always arrange my schedule so that i could and they even once the band was in town how long ago did the bands are playing in the park i think it started with this tradition fires ago before you moved into our neighborhood every year it always there is the first week of june to play the whole week you\", reason=ResultReason.RecognizingSpeech))\n",
            "RECOGNIZING: SpeechRecognitionEventArgs(session_id=3723bd2f928e4abe8bcd29f4abba97ba, result=SpeechRecognitionResult(result_id=2e2bf8feebd54f66b53f9ddcef066e57, text=\"animal miss of the concept i always arrange my schedule so that i could and they even once the band was in town how long ago did the bands are playing in the park i think it started with this tradition fires ago before you moved into our neighborhood every year it always there is the first week of june to play the whole week you'll enjoy\", reason=ResultReason.RecognizingSpeech))\n",
            "RECOGNIZING: SpeechRecognitionEventArgs(session_id=3723bd2f928e4abe8bcd29f4abba97ba, result=SpeechRecognitionResult(result_id=b4755b941d164715aa828b71c2ad768b, text=\"animal miss of the concept i always arrange my schedule so that i could and they even once the band was in town how long ago did the bands are playing in the park i think it started with this tradition fires ago before you moved into our neighborhood every year it always there is the first week of june to play the whole week you'll enjoy this\", reason=ResultReason.RecognizingSpeech))\n",
            "RECOGNIZING: SpeechRecognitionEventArgs(session_id=3723bd2f928e4abe8bcd29f4abba97ba, result=SpeechRecognitionResult(result_id=ff140515d1a947c1b9b5663f14829c37, text=\"animal miss of the concept i always arrange my schedule so that i could and they even once the band was in town how long ago did the bands are playing in the park i think it started with this tradition fires ago before you moved into our neighborhood every year it always there is the first week of june to play the whole week you'll enjoy this evening\", reason=ResultReason.RecognizingSpeech))\n",
            "RECOGNIZING: SpeechRecognitionEventArgs(session_id=3723bd2f928e4abe8bcd29f4abba97ba, result=SpeechRecognitionResult(result_id=be266c890af44763ae97085123132e1b, text=\"animal miss of the concept i always arrange my schedule so that i could and they even once the band was in town how long ago did the bands are playing in the park i think it started with this tradition fires ago before you moved into our neighborhood every year it always there is the first week of june to play the whole week you'll enjoy this evening john\", reason=ResultReason.RecognizingSpeech))\n",
            "RECOGNIZED: SpeechRecognitionEventArgs(session_id=3723bd2f928e4abe8bcd29f4abba97ba, result=SpeechRecognitionResult(result_id=8d6896410a444475941a51be2c42d356, text=\"Animal Miss of the concept. I always arrange my schedule so that I could and they even once the band was in town how long ago did the bands are playing in the park? I think it started with this tradition fires ago before you moved into our neighborhood every year it always there is the first week of June to play the whole week. You'll enjoy this evening, John.\", reason=ResultReason.RecognizedSpeech))\n",
            "RECOGNIZING: SpeechRecognitionEventArgs(session_id=3723bd2f928e4abe8bcd29f4abba97ba, result=SpeechRecognitionResult(result_id=02048907a160436b8b037bab42a40b26, text=\"there will be\", reason=ResultReason.RecognizingSpeech))\n",
            "RECOGNIZING: SpeechRecognitionEventArgs(session_id=3723bd2f928e4abe8bcd29f4abba97ba, result=SpeechRecognitionResult(result_id=c2d1f77371a5435b848b27904c868254, text=\"there will be a\", reason=ResultReason.RecognizingSpeech))\n",
            "RECOGNIZING: SpeechRecognitionEventArgs(session_id=3723bd2f928e4abe8bcd29f4abba97ba, result=SpeechRecognitionResult(result_id=98f5896a38f74fa48fc4d21d812a6b03, text=\"there will be a good\", reason=ResultReason.RecognizingSpeech))\n",
            "RECOGNIZING: SpeechRecognitionEventArgs(session_id=3723bd2f928e4abe8bcd29f4abba97ba, result=SpeechRecognitionResult(result_id=7db70fcc3e6b4bb6ad7a9f6f58ee89c5, text=\"there will be a good country\", reason=ResultReason.RecognizingSpeech))\n",
            "RECOGNIZING: SpeechRecognitionEventArgs(session_id=3723bd2f928e4abe8bcd29f4abba97ba, result=SpeechRecognitionResult(result_id=185106d6147b499f88dc47bbaa5fe082, text=\"there will be a good country music\", reason=ResultReason.RecognizingSpeech))\n",
            "RECOGNIZING: SpeechRecognitionEventArgs(session_id=3723bd2f928e4abe8bcd29f4abba97ba, result=SpeechRecognitionResult(result_id=3092dbcd61114296a98585915cfc7515, text=\"there will be a good country music a lot\", reason=ResultReason.RecognizingSpeech))\n",
            "RECOGNIZING: SpeechRecognitionEventArgs(session_id=3723bd2f928e4abe8bcd29f4abba97ba, result=SpeechRecognitionResult(result_id=ec8d50f829e24b23907a4ab7e49948f2, text=\"there will be a good country music a lot of\", reason=ResultReason.RecognizingSpeech))\n",
            "RECOGNIZING: SpeechRecognitionEventArgs(session_id=3723bd2f928e4abe8bcd29f4abba97ba, result=SpeechRecognitionResult(result_id=ea7b1f428f7043529f2415dc5418df55, text=\"there will be a good country music a lot of stomping\", reason=ResultReason.RecognizingSpeech))\n",
            "RECOGNIZING: SpeechRecognitionEventArgs(session_id=3723bd2f928e4abe8bcd29f4abba97ba, result=SpeechRecognitionResult(result_id=f0b12b8118344ecd9e0019e324226124, text=\"there will be a good country music a lot of stomping around\", reason=ResultReason.RecognizingSpeech))\n",
            "RECOGNIZING: SpeechRecognitionEventArgs(session_id=3723bd2f928e4abe8bcd29f4abba97ba, result=SpeechRecognitionResult(result_id=5a2eb654a3af4bbdbf7ed41754ff006d, text=\"there will be a good country music a lot of stomping around and\", reason=ResultReason.RecognizingSpeech))\n",
            "RECOGNIZING: SpeechRecognitionEventArgs(session_id=3723bd2f928e4abe8bcd29f4abba97ba, result=SpeechRecognitionResult(result_id=4e98f8f7119c4862afd640f0a8b18ac8, text=\"there will be a good country music a lot of stomping around and definitely\", reason=ResultReason.RecognizingSpeech))\n",
            "RECOGNIZING: SpeechRecognitionEventArgs(session_id=3723bd2f928e4abe8bcd29f4abba97ba, result=SpeechRecognitionResult(result_id=ae4dc44c65974c9f93cb602a8159d80c, text=\"there will be a good country music a lot of stomping around and definitely a lot\", reason=ResultReason.RecognizingSpeech))\n",
            "RECOGNIZING: SpeechRecognitionEventArgs(session_id=3723bd2f928e4abe8bcd29f4abba97ba, result=SpeechRecognitionResult(result_id=434aa01725514b1ebf6a61958dcbdd86, text=\"there will be a good country music a lot of stomping around and definitely a lot of\", reason=ResultReason.RecognizingSpeech))\n",
            "RECOGNIZING: SpeechRecognitionEventArgs(session_id=3723bd2f928e4abe8bcd29f4abba97ba, result=SpeechRecognitionResult(result_id=17820d6a069b4cc783a188ac49973734, text=\"there will be a good country music a lot of stomping around and definitely a lot of hollering\", reason=ResultReason.RecognizingSpeech))\n",
            "RECOGNIZED: SpeechRecognitionEventArgs(session_id=3723bd2f928e4abe8bcd29f4abba97ba, result=SpeechRecognitionResult(result_id=30ab46a190394a64b9c00b624e4c3452, text=\"There will be a good country music, a lot of stomping around, and definitely a lot of hollering.\", reason=ResultReason.RecognizedSpeech))\n",
            "RECOGNIZING: SpeechRecognitionEventArgs(session_id=3723bd2f928e4abe8bcd29f4abba97ba, result=SpeechRecognitionResult(result_id=fdf14e3a4580424b9d16b493cc6a5ed3, text=\"look\", reason=ResultReason.RecognizingSpeech))\n",
            "RECOGNIZING: SpeechRecognitionEventArgs(session_id=3723bd2f928e4abe8bcd29f4abba97ba, result=SpeechRecognitionResult(result_id=57c54463fe53471d99bfee7107254036, text=\"book is\", reason=ResultReason.RecognizingSpeech))\n",
            "RECOGNIZING: SpeechRecognitionEventArgs(session_id=3723bd2f928e4abe8bcd29f4abba97ba, result=SpeechRecognitionResult(result_id=45d45d659edb43818d6257a69e5ef0d0, text=\"book is rock and\", reason=ResultReason.RecognizingSpeech))\n",
            "RECOGNIZING: SpeechRecognitionEventArgs(session_id=3723bd2f928e4abe8bcd29f4abba97ba, result=SpeechRecognitionResult(result_id=f2f092697a734ef6b97e80624d90f724, text=\"book is rock and roll\", reason=ResultReason.RecognizingSpeech))\n",
            "RECOGNIZING: SpeechRecognitionEventArgs(session_id=3723bd2f928e4abe8bcd29f4abba97ba, result=SpeechRecognitionResult(result_id=4e07d42f431040ca99af650c96520752, text=\"book is rock and roll music\", reason=ResultReason.RecognizingSpeech))\n",
            "RECOGNIZING: SpeechRecognitionEventArgs(session_id=3723bd2f928e4abe8bcd29f4abba97ba, result=SpeechRecognitionResult(result_id=df96fc793f0644a8a7b24b0b681378ef, text=\"book is rock and roll music how are\", reason=ResultReason.RecognizingSpeech))\n",
            "RECOGNIZING: SpeechRecognitionEventArgs(session_id=3723bd2f928e4abe8bcd29f4abba97ba, result=SpeechRecognitionResult(result_id=46bdedaa82dc4ad7b7b3d2ee6d0f390b, text=\"book is rock and roll music how are you\", reason=ResultReason.RecognizingSpeech))\n",
            "RECOGNIZING: SpeechRecognitionEventArgs(session_id=3723bd2f928e4abe8bcd29f4abba97ba, result=SpeechRecognitionResult(result_id=d3db9aa0d0624685844d8110f1b78fe7, text=\"book is rock and roll music however i have to say\", reason=ResultReason.RecognizingSpeech))\n",
            "RECOGNIZING: SpeechRecognitionEventArgs(session_id=3723bd2f928e4abe8bcd29f4abba97ba, result=SpeechRecognitionResult(result_id=06e9170b7eff4aaca7558c58e5946034, text=\"book is rock and roll music however i have to say that\", reason=ResultReason.RecognizingSpeech))\n",
            "RECOGNIZING: SpeechRecognitionEventArgs(session_id=3723bd2f928e4abe8bcd29f4abba97ba, result=SpeechRecognitionResult(result_id=35a0afbb0ad64bd9a884de08dc242692, text=\"book is rock and roll music however i have to say that\", reason=ResultReason.RecognizingSpeech))\n",
            "RECOGNIZING: SpeechRecognitionEventArgs(session_id=3723bd2f928e4abe8bcd29f4abba97ba, result=SpeechRecognitionResult(result_id=ab178ecf5c524155902bb5c5b866d008, text=\"book is rock and roll music however i have to say that country\", reason=ResultReason.RecognizingSpeech))\n",
            "RECOGNIZING: SpeechRecognitionEventArgs(session_id=3723bd2f928e4abe8bcd29f4abba97ba, result=SpeechRecognitionResult(result_id=76ab1d1c54fc43c7915a410254e1cfa4, text=\"book is rock and roll music however i have to say that country melodies\", reason=ResultReason.RecognizingSpeech))\n",
            "RECOGNIZING: SpeechRecognitionEventArgs(session_id=3723bd2f928e4abe8bcd29f4abba97ba, result=SpeechRecognitionResult(result_id=4e685c873aa0484c826243475c1cfea9, text=\"book is rock and roll music however i have to say that country melodies can be\", reason=ResultReason.RecognizingSpeech))\n",
            "RECOGNIZING: SpeechRecognitionEventArgs(session_id=3723bd2f928e4abe8bcd29f4abba97ba, result=SpeechRecognitionResult(result_id=0d26977477d64bc6a771b0a8ee6e95f8, text=\"book is rock and roll music however i have to say that country melodies can be quite\", reason=ResultReason.RecognizingSpeech))\n",
            "RECOGNIZING: SpeechRecognitionEventArgs(session_id=3723bd2f928e4abe8bcd29f4abba97ba, result=SpeechRecognitionResult(result_id=5ed0a47fb82e408f8d0baa84af86a9d1, text=\"book is rock and roll music however i have to say that country melodies can be quite intense\", reason=ResultReason.RecognizingSpeech))\n",
            "RECOGNIZING: SpeechRecognitionEventArgs(session_id=3723bd2f928e4abe8bcd29f4abba97ba, result=SpeechRecognitionResult(result_id=ac1cea03e4184b2a876edac4a70bf51e, text=\"book is rock and roll music however i have to say that country melodies can be quite enticing\", reason=ResultReason.RecognizingSpeech))\n",
            "RECOGNIZING: SpeechRecognitionEventArgs(session_id=3723bd2f928e4abe8bcd29f4abba97ba, result=SpeechRecognitionResult(result_id=f57a5b540ad446ed8acc85e9fa094df9, text=\"book is rock and roll music however i have to say that country melodies can be quite enticing i can\", reason=ResultReason.RecognizingSpeech))\n",
            "RECOGNIZING: SpeechRecognitionEventArgs(session_id=3723bd2f928e4abe8bcd29f4abba97ba, result=SpeechRecognitionResult(result_id=648ddd22938741d6bc37fc8fe7f9b290, text=\"book is rock and roll music however i have to say that country melodies can be quite enticing i can listen to\", reason=ResultReason.RecognizingSpeech))\n",
            "RECOGNIZING: SpeechRecognitionEventArgs(session_id=3723bd2f928e4abe8bcd29f4abba97ba, result=SpeechRecognitionResult(result_id=046f236444de40d19718ffb3cd0b63e1, text=\"book is rock and roll music however i have to say that country melodies can be quite enticing i can listen to them\", reason=ResultReason.RecognizingSpeech))\n",
            "RECOGNIZING: SpeechRecognitionEventArgs(session_id=3723bd2f928e4abe8bcd29f4abba97ba, result=SpeechRecognitionResult(result_id=386ee8d9df8f41de8db30a9f45762fcb, text=\"book is rock and roll music however i have to say that country melodies can be quite enticing i can listen to them all\", reason=ResultReason.RecognizingSpeech))\n",
            "RECOGNIZING: SpeechRecognitionEventArgs(session_id=3723bd2f928e4abe8bcd29f4abba97ba, result=SpeechRecognitionResult(result_id=b914c13893b649f892211f1ee4abfb16, text=\"book is rock and roll music however i have to say that country melodies can be quite enticing i can listen to them all day\", reason=ResultReason.RecognizingSpeech))\n",
            "RECOGNIZING: SpeechRecognitionEventArgs(session_id=3723bd2f928e4abe8bcd29f4abba97ba, result=SpeechRecognitionResult(result_id=e841f1d5fcd74a34b0ee17b7e1f4b41a, text=\"book is rock and roll music however i have to say that country melodies can be quite enticing i can listen to them all day along\", reason=ResultReason.RecognizingSpeech))\n",
            "RECOGNIZING: SpeechRecognitionEventArgs(session_id=3723bd2f928e4abe8bcd29f4abba97ba, result=SpeechRecognitionResult(result_id=abc504221df84645a40f242cc023eed2, text=\"book is rock and roll music however i have to say that country melodies can be quite enticing i can listen to them all day along john\", reason=ResultReason.RecognizingSpeech))\n",
            "RECOGNIZING: SpeechRecognitionEventArgs(session_id=3723bd2f928e4abe8bcd29f4abba97ba, result=SpeechRecognitionResult(result_id=455784ba143e4f848c8971499b11cb55, text=\"book is rock and roll music however i have to say that country melodies can be quite enticing i can listen to them all day along john what\", reason=ResultReason.RecognizingSpeech))\n",
            "RECOGNIZING: SpeechRecognitionEventArgs(session_id=3723bd2f928e4abe8bcd29f4abba97ba, result=SpeechRecognitionResult(result_id=41481571ac3c4e3cbf93900ef83e5bc2, text=\"book is rock and roll music however i have to say that country melodies can be quite enticing i can listen to them all day along john what kind of\", reason=ResultReason.RecognizingSpeech))\n",
            "RECOGNIZING: SpeechRecognitionEventArgs(session_id=3723bd2f928e4abe8bcd29f4abba97ba, result=SpeechRecognitionResult(result_id=d4ee0a5b84a7403e9723947220d06ebd, text=\"book is rock and roll music however i have to say that country melodies can be quite enticing i can listen to them all day along john what kind of music do\", reason=ResultReason.RecognizingSpeech))\n",
            "RECOGNIZING: SpeechRecognitionEventArgs(session_id=3723bd2f928e4abe8bcd29f4abba97ba, result=SpeechRecognitionResult(result_id=555fefda256f4e90aa9d22b25bcc4c88, text=\"book is rock and roll music however i have to say that country melodies can be quite enticing i can listen to them all day along john what kind of music do you like\", reason=ResultReason.RecognizingSpeech))\n",
            "RECOGNIZED: SpeechRecognitionEventArgs(session_id=3723bd2f928e4abe8bcd29f4abba97ba, result=SpeechRecognitionResult(result_id=4e5e1f9fa5d948d7b9a9f919f8b61321, text=\"Book is Rock and roll music. However I have to say that country melodies can be quite enticing. I can listen to them all day along John. What kind of music do you like?\", reason=ResultReason.RecognizedSpeech))\n",
            "RECOGNIZING: SpeechRecognitionEventArgs(session_id=3723bd2f928e4abe8bcd29f4abba97ba, result=SpeechRecognitionResult(result_id=1faea720c5024dff8d8d206750c20278, text=\"that's\", reason=ResultReason.RecognizingSpeech))\n",
            "RECOGNIZING: SpeechRecognitionEventArgs(session_id=3723bd2f928e4abe8bcd29f4abba97ba, result=SpeechRecognitionResult(result_id=770f3060cbd348a9aa1289e7495442cd, text=\"as long as\", reason=ResultReason.RecognizingSpeech))\n",
            "RECOGNIZING: SpeechRecognitionEventArgs(session_id=3723bd2f928e4abe8bcd29f4abba97ba, result=SpeechRecognitionResult(result_id=86fc9148964a4282bc06c200a72b7f45, text=\"as long as it does\", reason=ResultReason.RecognizingSpeech))\n",
            "RECOGNIZING: SpeechRecognitionEventArgs(session_id=3723bd2f928e4abe8bcd29f4abba97ba, result=SpeechRecognitionResult(result_id=4914df9926c94e56b7c7bd6104239de6, text=\"as long as it does not\", reason=ResultReason.RecognizingSpeech))\n",
            "RECOGNIZING: SpeechRecognitionEventArgs(session_id=3723bd2f928e4abe8bcd29f4abba97ba, result=SpeechRecognitionResult(result_id=571e8476721b45abbcf02796c5153b1f, text=\"as long as it does not hard rock\", reason=ResultReason.RecognizingSpeech))\n",
            "RECOGNIZING: SpeechRecognitionEventArgs(session_id=3723bd2f928e4abe8bcd29f4abba97ba, result=SpeechRecognitionResult(result_id=db3cd3695f2a472a895e81e7bf1e25fb, text=\"as long as it does not hard rock wow\", reason=ResultReason.RecognizingSpeech))\n",
            "RECOGNIZING: SpeechRecognitionEventArgs(session_id=3723bd2f928e4abe8bcd29f4abba97ba, result=SpeechRecognitionResult(result_id=8a9344f8fc8f4a4793bba2437e24e52b, text=\"as long as it does not hard rock wow look at\", reason=ResultReason.RecognizingSpeech))\n",
            "RECOGNIZING: SpeechRecognitionEventArgs(session_id=3723bd2f928e4abe8bcd29f4abba97ba, result=SpeechRecognitionResult(result_id=ab173028b858499ba64e2a2f21a7e0b9, text=\"as long as it does not hard rock wow look at the numbers\", reason=ResultReason.RecognizingSpeech))\n",
            "RECOGNIZING: SpeechRecognitionEventArgs(session_id=3723bd2f928e4abe8bcd29f4abba97ba, result=SpeechRecognitionResult(result_id=111f67f6e4d743e2a31f8add3276c373, text=\"as long as it does not hard rock wow look at the number of people\", reason=ResultReason.RecognizingSpeech))\n",
            "RECOGNIZING: SpeechRecognitionEventArgs(session_id=3723bd2f928e4abe8bcd29f4abba97ba, result=SpeechRecognitionResult(result_id=e149daa6535e49b791b88e63b608b608, text=\"as long as it does not hard rock wow look at the number of people who\", reason=ResultReason.RecognizingSpeech))\n",
            "RECOGNIZING: SpeechRecognitionEventArgs(session_id=3723bd2f928e4abe8bcd29f4abba97ba, result=SpeechRecognitionResult(result_id=350664af5a094f99a8a506fd8ea70db1, text=\"as long as it does not hard rock wow look at the number of people who have\", reason=ResultReason.RecognizingSpeech))\n",
            "RECOGNIZING: SpeechRecognitionEventArgs(session_id=3723bd2f928e4abe8bcd29f4abba97ba, result=SpeechRecognitionResult(result_id=f88b3fa4c5ad47f397c2bd404c0a452d, text=\"as long as it does not hard rock wow look at the number of people who have already\", reason=ResultReason.RecognizingSpeech))\n",
            "RECOGNIZING: SpeechRecognitionEventArgs(session_id=3723bd2f928e4abe8bcd29f4abba97ba, result=SpeechRecognitionResult(result_id=d2b88a1724d44e53ad3b73c6653a4cf4, text=\"as long as it does not hard rock wow look at the number of people who have already shown\", reason=ResultReason.RecognizingSpeech))\n",
            "RECOGNIZING: SpeechRecognitionEventArgs(session_id=3723bd2f928e4abe8bcd29f4abba97ba, result=SpeechRecognitionResult(result_id=d86da14668a2443583ff7dcee12e8446, text=\"as long as it does not hard rock wow look at the number of people who have already shown up for\", reason=ResultReason.RecognizingSpeech))\n",
            "RECOGNIZING: SpeechRecognitionEventArgs(session_id=3723bd2f928e4abe8bcd29f4abba97ba, result=SpeechRecognitionResult(result_id=2fd76e074a9e4ff1825127397edf387a, text=\"as long as it does not hard rock wow look at the number of people who have already shown up for the\", reason=ResultReason.RecognizingSpeech))\n",
            "RECOGNIZING: SpeechRecognitionEventArgs(session_id=3723bd2f928e4abe8bcd29f4abba97ba, result=SpeechRecognitionResult(result_id=3fb8d0741ddb40cfb55729d15125180f, text=\"as long as it does not hard rock wow look at the number of people who have already shown up for the concert\", reason=ResultReason.RecognizingSpeech))\n",
            "RECOGNIZING: SpeechRecognitionEventArgs(session_id=3723bd2f928e4abe8bcd29f4abba97ba, result=SpeechRecognitionResult(result_id=133d2dd58e814d6bae64072b39003fc5, text=\"as long as it does not hard rock wow look at the number of people who have already shown up for the concert good thing\", reason=ResultReason.RecognizingSpeech))\n",
            "RECOGNIZING: SpeechRecognitionEventArgs(session_id=3723bd2f928e4abe8bcd29f4abba97ba, result=SpeechRecognitionResult(result_id=4380efc49be24106959e77cbca96d74e, text=\"as long as it does not hard rock wow look at the number of people who have already shown up for the concert good thing that\", reason=ResultReason.RecognizingSpeech))\n",
            "RECOGNIZING: SpeechRecognitionEventArgs(session_id=3723bd2f928e4abe8bcd29f4abba97ba, result=SpeechRecognitionResult(result_id=39a5e86995f245c2876abd3b8fe63098, text=\"as long as it does not hard rock wow look at the number of people who have already shown up for the concert good thing that we\", reason=ResultReason.RecognizingSpeech))\n",
            "RECOGNIZING: SpeechRecognitionEventArgs(session_id=3723bd2f928e4abe8bcd29f4abba97ba, result=SpeechRecognitionResult(result_id=8eadf858298a49cf96f73b77b754fad7, text=\"as long as it does not hard rock wow look at the number of people who have already shown up for the concert good thing that we are\", reason=ResultReason.RecognizingSpeech))\n",
            "RECOGNIZING: SpeechRecognitionEventArgs(session_id=3723bd2f928e4abe8bcd29f4abba97ba, result=SpeechRecognitionResult(result_id=dc4170abe88a40818a741380a4d83c58, text=\"as long as it does not hard rock wow look at the number of people who have already shown up for the concert good thing that we're her\", reason=ResultReason.RecognizingSpeech))\n",
            "RECOGNIZING: SpeechRecognitionEventArgs(session_id=3723bd2f928e4abe8bcd29f4abba97ba, result=SpeechRecognitionResult(result_id=642a3f2b1f944fe4a34eade7c7a4cecc, text=\"as long as it does not hard rock wow look at the number of people who have already shown up for the concert good thing that we're here\", reason=ResultReason.RecognizingSpeech))\n",
            "RECOGNIZING: SpeechRecognitionEventArgs(session_id=3723bd2f928e4abe8bcd29f4abba97ba, result=SpeechRecognitionResult(result_id=032bcfd4665e4f2f874c242597e5af94, text=\"as long as it does not hard rock wow look at the number of people who have already shown up for the concert good thing that we're here already\", reason=ResultReason.RecognizingSpeech))\n",
            "RECOGNIZED: SpeechRecognitionEventArgs(session_id=3723bd2f928e4abe8bcd29f4abba97ba, result=SpeechRecognitionResult(result_id=2ec09643c951414e8ddb20734ababd77, text=\"As long as it does not Hard Rock wow, look at the number of people who have already shown up for the concert. Good thing that we're here already.\", reason=ResultReason.RecognizedSpeech))\n",
            "RECOGNIZING: SpeechRecognitionEventArgs(session_id=3723bd2f928e4abe8bcd29f4abba97ba, result=SpeechRecognitionResult(result_id=0cb1cb57e7d443229ee31a614f84261f, text=\"oh john\", reason=ResultReason.RecognizingSpeech))\n",
            "RECOGNIZING: SpeechRecognitionEventArgs(session_id=3723bd2f928e4abe8bcd29f4abba97ba, result=SpeechRecognitionResult(result_id=b4327a62ee1b40ccb6efc6a96bd178e4, text=\"oh john at a\", reason=ResultReason.RecognizingSpeech))\n",
            "RECOGNIZING: SpeechRecognitionEventArgs(session_id=3723bd2f928e4abe8bcd29f4abba97ba, result=SpeechRecognitionResult(result_id=5f77845299e54e9f9078eb63f7eea97a, text=\"oh john at a hard rock\", reason=ResultReason.RecognizingSpeech))\n",
            "RECOGNIZING: SpeechRecognitionEventArgs(session_id=3723bd2f928e4abe8bcd29f4abba97ba, result=SpeechRecognitionResult(result_id=39b7da286c0a4fc1ad75872d779438b9, text=\"oh john at a hard rock very\", reason=ResultReason.RecognizingSpeech))\n",
            "RECOGNIZING: SpeechRecognitionEventArgs(session_id=3723bd2f928e4abe8bcd29f4abba97ba, result=SpeechRecognitionResult(result_id=3c8c41fca2bf4f21827e38d10e0c565e, text=\"oh john at a hard rock very much\", reason=ResultReason.RecognizingSpeech))\n",
            "RECOGNIZING: SpeechRecognitionEventArgs(session_id=3723bd2f928e4abe8bcd29f4abba97ba, result=SpeechRecognitionResult(result_id=4e6babc7068b4e9396bf2e7636fe1c31, text=\"oh john at a hard rock very much jane\", reason=ResultReason.RecognizingSpeech))\n",
            "RECOGNIZING: SpeechRecognitionEventArgs(session_id=3723bd2f928e4abe8bcd29f4abba97ba, result=SpeechRecognitionResult(result_id=6924c859c9c34ac8aedc47cd7342e882, text=\"oh john at a hard rock very much jane but\", reason=ResultReason.RecognizingSpeech))\n",
            "RECOGNIZING: SpeechRecognitionEventArgs(session_id=3723bd2f928e4abe8bcd29f4abba97ba, result=SpeechRecognitionResult(result_id=3d81a9ea1896442b936896a6b61d4128, text=\"oh john at a hard rock very much jane but you want\", reason=ResultReason.RecognizingSpeech))\n",
            "RECOGNIZING: SpeechRecognitionEventArgs(session_id=3723bd2f928e4abe8bcd29f4abba97ba, result=SpeechRecognitionResult(result_id=3424262e74f646798483a96132bd815d, text=\"oh john at a hard rock very much jane would you want to\", reason=ResultReason.RecognizingSpeech))\n",
            "RECOGNIZING: SpeechRecognitionEventArgs(session_id=3723bd2f928e4abe8bcd29f4abba97ba, result=SpeechRecognitionResult(result_id=1f75b4ce23564f8b9a29e7b791276de2, text=\"oh john at a hard rock very much jane would you want to sit\", reason=ResultReason.RecognizingSpeech))\n",
            "RECOGNIZING: SpeechRecognitionEventArgs(session_id=3723bd2f928e4abe8bcd29f4abba97ba, result=SpeechRecognitionResult(result_id=9981c09c92614a0e9dc8ed5c3cc091d9, text=\"oh john at a hard rock very much jane would you want to sit in the\", reason=ResultReason.RecognizingSpeech))\n",
            "RECOGNIZING: SpeechRecognitionEventArgs(session_id=3723bd2f928e4abe8bcd29f4abba97ba, result=SpeechRecognitionResult(result_id=09c5d7d638f342269b4a0fb35301a17c, text=\"oh john at a hard rock very much jane would you want to sit in the shade\", reason=ResultReason.RecognizingSpeech))\n",
            "RECOGNIZING: SpeechRecognitionEventArgs(session_id=3723bd2f928e4abe8bcd29f4abba97ba, result=SpeechRecognitionResult(result_id=64808d63f92d43109e390d56a179a266, text=\"oh john at a hard rock very much jane would you want to sit in the shade or\", reason=ResultReason.RecognizingSpeech))\n",
            "RECOGNIZING: SpeechRecognitionEventArgs(session_id=3723bd2f928e4abe8bcd29f4abba97ba, result=SpeechRecognitionResult(result_id=5b218e7ea8d041ffb0ae6c2484274ac4, text=\"oh john at a hard rock very much jane would you want to sit in the shade or in the\", reason=ResultReason.RecognizingSpeech))\n",
            "RECOGNIZING: SpeechRecognitionEventArgs(session_id=3723bd2f928e4abe8bcd29f4abba97ba, result=SpeechRecognitionResult(result_id=599f5229c7f044d3b6fa62b241fdbd93, text=\"oh john at a hard rock very much jane would you want to sit in the shade or in the sun\", reason=ResultReason.RecognizingSpeech))\n",
            "RECOGNIZED: SpeechRecognitionEventArgs(session_id=3723bd2f928e4abe8bcd29f4abba97ba, result=SpeechRecognitionResult(result_id=130b6588a73d4d99aecb27b825ebacaa, text=\"Oh, John at a Hard Rock very much Jane, would you want to sit in the shade or in the sun?\", reason=ResultReason.RecognizedSpeech))\n",
            "RECOGNIZING: SpeechRecognitionEventArgs(session_id=3723bd2f928e4abe8bcd29f4abba97ba, result=SpeechRecognitionResult(result_id=442858e7353d4dc2a47d65c9ed49535a, text=\"these\", reason=ResultReason.RecognizingSpeech))\n",
            "RECOGNIZING: SpeechRecognitionEventArgs(session_id=3723bd2f928e4abe8bcd29f4abba97ba, result=SpeechRecognitionResult(result_id=37f25b77917745ce94fe72a4c7b224f1, text=\"these have\", reason=ResultReason.RecognizingSpeech))\n",
            "RECOGNIZING: SpeechRecognitionEventArgs(session_id=3723bd2f928e4abe8bcd29f4abba97ba, result=SpeechRecognitionResult(result_id=4663036bf5604a629f330de67c518c60, text=\"these have been\", reason=ResultReason.RecognizingSpeech))\n",
            "RECOGNIZING: SpeechRecognitionEventArgs(session_id=3723bd2f928e4abe8bcd29f4abba97ba, result=SpeechRecognitionResult(result_id=48c83c532ed745e4953e2a99a3c13611, text=\"these have been the\", reason=ResultReason.RecognizingSpeech))\n",
            "RECOGNIZING: SpeechRecognitionEventArgs(session_id=3723bd2f928e4abe8bcd29f4abba97ba, result=SpeechRecognitionResult(result_id=a5a464d8899f4adb9a8b9d710e719f4c, text=\"these have been the sun too\", reason=ResultReason.RecognizingSpeech))\n",
            "RECOGNIZING: SpeechRecognitionEventArgs(session_id=3723bd2f928e4abe8bcd29f4abba97ba, result=SpeechRecognitionResult(result_id=23a1c83b7bfc40878cd77b9dc7362d7e, text=\"these have been the saint\", reason=ResultReason.RecognizingSpeech))\n",
            "RECOGNIZING: SpeechRecognitionEventArgs(session_id=3723bd2f928e4abe8bcd29f4abba97ba, result=SpeechRecognitionResult(result_id=83838d9903da4d2290700e59acfce9e9, text=\"these have been the sun too much\", reason=ResultReason.RecognizingSpeech))\n",
            "RECOGNIZING: SpeechRecognitionEventArgs(session_id=3723bd2f928e4abe8bcd29f4abba97ba, result=SpeechRecognitionResult(result_id=7a51ef40fe644ba7806ed6626b7073b6, text=\"these have been the sun too much lately\", reason=ResultReason.RecognizingSpeech))\n",
            "RECOGNIZED: SpeechRecognitionEventArgs(session_id=3723bd2f928e4abe8bcd29f4abba97ba, result=SpeechRecognitionResult(result_id=3d9cb8db613d4a2e87b6a7a78d6ff5be, text=\"These have been the sun too much lately.\", reason=ResultReason.RecognizedSpeech))\n",
            "RECOGNIZING: SpeechRecognitionEventArgs(session_id=3723bd2f928e4abe8bcd29f4abba97ba, result=SpeechRecognitionResult(result_id=78b8e4b25b424db9aee5a7153cbbeda8, text=\"there's a few\", reason=ResultReason.RecognizingSpeech))\n",
            "RECOGNIZING: SpeechRecognitionEventArgs(session_id=3723bd2f928e4abe8bcd29f4abba97ba, result=SpeechRecognitionResult(result_id=952eb74334a1443d82760f28cee85179, text=\"there's a few\", reason=ResultReason.RecognizingSpeech))\n",
            "RECOGNIZING: SpeechRecognitionEventArgs(session_id=3723bd2f928e4abe8bcd29f4abba97ba, result=SpeechRecognitionResult(result_id=7f2bfe944bfa44e7a16a59c6db8c48d2, text=\"there's a few\", reason=ResultReason.RecognizingSpeech))\n",
            "RECOGNIZING: SpeechRecognitionEventArgs(session_id=3723bd2f928e4abe8bcd29f4abba97ba, result=SpeechRecognitionResult(result_id=4b803eccc4364976b45016f563868ccb, text=\"there's a food stand over\", reason=ResultReason.RecognizingSpeech))\n",
            "RECOGNIZING: SpeechRecognitionEventArgs(session_id=3723bd2f928e4abe8bcd29f4abba97ba, result=SpeechRecognitionResult(result_id=db460d4e2d204543a1065b7e23171137, text=\"there's a food stand over there\", reason=ResultReason.RecognizingSpeech))\n",
            "RECOGNIZING: SpeechRecognitionEventArgs(session_id=3723bd2f928e4abe8bcd29f4abba97ba, result=SpeechRecognitionResult(result_id=61fecb682cf0436a9c0f005d765bed83, text=\"there's a food stand over there do you want\", reason=ResultReason.RecognizingSpeech))\n",
            "RECOGNIZING: SpeechRecognitionEventArgs(session_id=3723bd2f928e4abe8bcd29f4abba97ba, result=SpeechRecognitionResult(result_id=0a19971779dc447993c6e08dd8308038, text=\"there's a food stand over there do you want it\", reason=ResultReason.RecognizingSpeech))\n",
            "RECOGNIZING: SpeechRecognitionEventArgs(session_id=3723bd2f928e4abe8bcd29f4abba97ba, result=SpeechRecognitionResult(result_id=2ddd8437bf0a4a7a897a8e5faece987a, text=\"there's a food stand over there do you want\", reason=ResultReason.RecognizingSpeech))\n",
            "RECOGNIZING: SpeechRecognitionEventArgs(session_id=3723bd2f928e4abe8bcd29f4abba97ba, result=SpeechRecognitionResult(result_id=33fbbec58f274842b8f729f0786ed6df, text=\"there's a food stand over there you want again\", reason=ResultReason.RecognizingSpeech))\n",
            "RECOGNIZED: SpeechRecognitionEventArgs(session_id=3723bd2f928e4abe8bcd29f4abba97ba, result=SpeechRecognitionResult(result_id=9b52729601194617b498d4eb26a4d951, text=\"There's a food stand over there you want again.\", reason=ResultReason.RecognizedSpeech))\n",
            "RECOGNIZING: SpeechRecognitionEventArgs(session_id=3723bd2f928e4abe8bcd29f4abba97ba, result=SpeechRecognitionResult(result_id=48ef91f050684d3e8f494ea5b4ba1f5e, text=\"yes\", reason=ResultReason.RecognizingSpeech))\n",
            "RECOGNIZING: SpeechRecognitionEventArgs(session_id=3723bd2f928e4abe8bcd29f4abba97ba, result=SpeechRecognitionResult(result_id=28445574bcd54e76a2a004aa4f16dbb0, text=\"an\", reason=ResultReason.RecognizingSpeech))\n",
            "RECOGNIZING: SpeechRecognitionEventArgs(session_id=3723bd2f928e4abe8bcd29f4abba97ba, result=SpeechRecognitionResult(result_id=59ef80ee07124447ade29784c6141bf6, text=\"it's an\", reason=ResultReason.RecognizingSpeech))\n",
            "RECOGNIZING: SpeechRecognitionEventArgs(session_id=3723bd2f928e4abe8bcd29f4abba97ba, result=SpeechRecognitionResult(result_id=bab7f39db4094e6eab73cbc3414dac29, text=\"an i\", reason=ResultReason.RecognizingSpeech))\n",
            "RECOGNIZING: SpeechRecognitionEventArgs(session_id=3723bd2f928e4abe8bcd29f4abba97ba, result=SpeechRecognitionResult(result_id=a600c1c49c5f4f37bb497920e44258da, text=\"and i already have\", reason=ResultReason.RecognizingSpeech))\n",
            "RECOGNIZING: SpeechRecognitionEventArgs(session_id=3723bd2f928e4abe8bcd29f4abba97ba, result=SpeechRecognitionResult(result_id=80854f0b71204fd49d2c93cca9eba30b, text=\"and i already have a\", reason=ResultReason.RecognizingSpeech))\n",
            "RECOGNIZING: SpeechRecognitionEventArgs(session_id=3723bd2f928e4abe8bcd29f4abba97ba, result=SpeechRecognitionResult(result_id=1d9d2a8d11894ac783e28b9096b389c7, text=\"and i already have a bottle of\", reason=ResultReason.RecognizingSpeech))\n",
            "RECOGNIZING: SpeechRecognitionEventArgs(session_id=3723bd2f928e4abe8bcd29f4abba97ba, result=SpeechRecognitionResult(result_id=84d61fe4198e433aa691e2ab47f3276f, text=\"and i already have a bottle of water\", reason=ResultReason.RecognizingSpeech))\n",
            "RECOGNIZING: SpeechRecognitionEventArgs(session_id=3723bd2f928e4abe8bcd29f4abba97ba, result=SpeechRecognitionResult(result_id=56c520f7c4ec478f8739bcdcdc7dd70d, text=\"and i already have a bottle of water i\", reason=ResultReason.RecognizingSpeech))\n",
            "RECOGNIZING: SpeechRecognitionEventArgs(session_id=3723bd2f928e4abe8bcd29f4abba97ba, result=SpeechRecognitionResult(result_id=a5ee22886e3541e68d3ec32d57d9a0a2, text=\"and i already have a bottle of water i want to\", reason=ResultReason.RecognizingSpeech))\n",
            "RECOGNIZING: SpeechRecognitionEventArgs(session_id=3723bd2f928e4abe8bcd29f4abba97ba, result=SpeechRecognitionResult(result_id=c4e132f0e71e4efcbe5d0d22850cbe26, text=\"and i already have a bottle of water i want to back off\", reason=ResultReason.RecognizingSpeech))\n",
            "RECOGNIZING: SpeechRecognitionEventArgs(session_id=3723bd2f928e4abe8bcd29f4abba97ba, result=SpeechRecognitionResult(result_id=74c0cbfe4a774e11a80553cacc3716bf, text=\"and i already have a bottle of water i want to bag of\", reason=ResultReason.RecognizingSpeech))\n",
            "RECOGNIZING: SpeechRecognitionEventArgs(session_id=3723bd2f928e4abe8bcd29f4abba97ba, result=SpeechRecognitionResult(result_id=9458ad6a029c4c3b9c1adf11819e6229, text=\"and i already have a bottle of water i want a bag of chips\", reason=ResultReason.RecognizingSpeech))\n",
            "RECOGNIZING: SpeechRecognitionEventArgs(session_id=3723bd2f928e4abe8bcd29f4abba97ba, result=SpeechRecognitionResult(result_id=642aec9cea674649be35ceaad12d017a, text=\"and i already have a bottle of water i want a bag of chips and a\", reason=ResultReason.RecognizingSpeech))\n",
            "RECOGNIZING: SpeechRecognitionEventArgs(session_id=3723bd2f928e4abe8bcd29f4abba97ba, result=SpeechRecognitionResult(result_id=1fdf212fecc74108ba199b63b4529ff9, text=\"and i already have a bottle of water i want a bag of chips and a soda\", reason=ResultReason.RecognizingSpeech))\n",
            "RECOGNIZING: SpeechRecognitionEventArgs(session_id=3723bd2f928e4abe8bcd29f4abba97ba, result=SpeechRecognitionResult(result_id=9fa0037ffcbc46119eefff708fddb0b5, text=\"and i already have a bottle of water i want a bag of chips and a soda are you\", reason=ResultReason.RecognizingSpeech))\n",
            "RECOGNIZING: SpeechRecognitionEventArgs(session_id=3723bd2f928e4abe8bcd29f4abba97ba, result=SpeechRecognitionResult(result_id=3da42942d1f443e5993875e413e7524b, text=\"and i already have a bottle of water i want a bag of chips and a soda are you sure\", reason=ResultReason.RecognizingSpeech))\n",
            "RECOGNIZING: SpeechRecognitionEventArgs(session_id=3723bd2f928e4abe8bcd29f4abba97ba, result=SpeechRecognitionResult(result_id=264731b3ea9c4d62ab249f6bd9b11944, text=\"and i already have a bottle of water i want a bag of chips and a soda are you sure you\", reason=ResultReason.RecognizingSpeech))\n",
            "RECOGNIZING: SpeechRecognitionEventArgs(session_id=3723bd2f928e4abe8bcd29f4abba97ba, result=SpeechRecognitionResult(result_id=037d58b435de4c6095b77cc2b7276f0a, text=\"and i already have a bottle of water i want a bag of chips and a soda are you sure you do not\", reason=ResultReason.RecognizingSpeech))\n",
            "RECOGNIZING: SpeechRecognitionEventArgs(session_id=3723bd2f928e4abe8bcd29f4abba97ba, result=SpeechRecognitionResult(result_id=3074d3abd689416a8394f3e0c92d9ba5, text=\"and i already have a bottle of water i want a bag of chips and a soda are you sure you do not want\", reason=ResultReason.RecognizingSpeech))\n",
            "RECOGNIZING: SpeechRecognitionEventArgs(session_id=3723bd2f928e4abe8bcd29f4abba97ba, result=SpeechRecognitionResult(result_id=615e53796fae40a49bc3a964bddb783b, text=\"and i already have a bottle of water i want a bag of chips and a soda are you sure you do not want any\", reason=ResultReason.RecognizingSpeech))\n",
            "RECOGNIZING: SpeechRecognitionEventArgs(session_id=3723bd2f928e4abe8bcd29f4abba97ba, result=SpeechRecognitionResult(result_id=f80c41a7b6bf4d80adae2ed155bb1950, text=\"and i already have a bottle of water i want a bag of chips and a soda are you sure you do not want any\", reason=ResultReason.RecognizingSpeech))\n",
            "RECOGNIZING: SpeechRecognitionEventArgs(session_id=3723bd2f928e4abe8bcd29f4abba97ba, result=SpeechRecognitionResult(result_id=a070fbf794184a1bb61c462571d16cd8, text=\"and i already have a bottle of water i want a bag of chips and a soda are you sure you do not want any chips\", reason=ResultReason.RecognizingSpeech))\n",
            "RECOGNIZING: SpeechRecognitionEventArgs(session_id=3723bd2f928e4abe8bcd29f4abba97ba, result=SpeechRecognitionResult(result_id=e3ec4f6c1ee748b09bd8b110acbfa6cc, text=\"and i already have a bottle of water i want a bag of chips and a soda are you sure you do not want any chips jane\", reason=ResultReason.RecognizingSpeech))\n",
            "RECOGNIZED: SpeechRecognitionEventArgs(session_id=3723bd2f928e4abe8bcd29f4abba97ba, result=SpeechRecognitionResult(result_id=e5d7ce3c64cb45e6932b816e03c63dc1, text=\"And I already have a bottle of water. I want a bag of chips and a soda. Are you sure you do not want any chips, Jane?\", reason=ResultReason.RecognizedSpeech))\n",
            "RECOGNIZING: SpeechRecognitionEventArgs(session_id=3723bd2f928e4abe8bcd29f4abba97ba, result=SpeechRecognitionResult(result_id=35d683663c3144d88ce43d779a289568, text=\"and\", reason=ResultReason.RecognizingSpeech))\n",
            "RECOGNIZING: SpeechRecognitionEventArgs(session_id=3723bd2f928e4abe8bcd29f4abba97ba, result=SpeechRecognitionResult(result_id=1206b52f821848378bca504dc315d26b, text=\"i'm quite\", reason=ResultReason.RecognizingSpeech))\n",
            "RECOGNIZING: SpeechRecognitionEventArgs(session_id=3723bd2f928e4abe8bcd29f4abba97ba, result=SpeechRecognitionResult(result_id=4de5cb50e62b4316a9d4fb8cd9f520e2, text=\"not quite sure\", reason=ResultReason.RecognizingSpeech))\n",
            "RECOGNIZING: SpeechRecognitionEventArgs(session_id=3723bd2f928e4abe8bcd29f4abba97ba, result=SpeechRecognitionResult(result_id=a6baa9efe5de47ef8142dbd3353b9183, text=\"i'm quite sure this\", reason=ResultReason.RecognizingSpeech))\n",
            "RECOGNIZING: SpeechRecognitionEventArgs(session_id=3723bd2f928e4abe8bcd29f4abba97ba, result=SpeechRecognitionResult(result_id=0eb4ed1d8a2d458caea4be53f1d4e9a0, text=\"i'm quite sure this is\", reason=ResultReason.RecognizingSpeech))\n",
            "RECOGNIZING: SpeechRecognitionEventArgs(session_id=3723bd2f928e4abe8bcd29f4abba97ba, result=SpeechRecognitionResult(result_id=cddefa1d26c14ce79173bb52c9dcd952, text=\"i'm quite sure this is not\", reason=ResultReason.RecognizingSpeech))\n",
            "RECOGNIZING: SpeechRecognitionEventArgs(session_id=3723bd2f928e4abe8bcd29f4abba97ba, result=SpeechRecognitionResult(result_id=1774a32628f649a693fe9b16d5ee6a75, text=\"i'm quite sure this is my mother\", reason=ResultReason.RecognizingSpeech))\n",
            "RECOGNIZING: SpeechRecognitionEventArgs(session_id=3723bd2f928e4abe8bcd29f4abba97ba, result=SpeechRecognitionResult(result_id=214733eccb27480794be3cdff1a19d02, text=\"i'm quite sure this is my mother is cooking\", reason=ResultReason.RecognizingSpeech))\n",
            "RECOGNIZING: SpeechRecognitionEventArgs(session_id=3723bd2f928e4abe8bcd29f4abba97ba, result=SpeechRecognitionResult(result_id=695bc38ed74f4f5b9560d36d91d4c90d, text=\"i'm quite sure this is my mother is looking good\", reason=ResultReason.RecognizingSpeech))\n",
            "RECOGNIZING: SpeechRecognitionEventArgs(session_id=3723bd2f928e4abe8bcd29f4abba97ba, result=SpeechRecognitionResult(result_id=8ca37f8bfdc448a7b14a7467209ce74d, text=\"i'm quite sure this is my mother is looking good streak\", reason=ResultReason.RecognizingSpeech))\n",
            "RECOGNIZING: SpeechRecognitionEventArgs(session_id=3723bd2f928e4abe8bcd29f4abba97ba, result=SpeechRecognitionResult(result_id=a1a21576ce864dbeaafc728bb34c3e72, text=\"i'm quite sure this is my mother is looking good streak dinner\", reason=ResultReason.RecognizingSpeech))\n",
            "RECOGNIZING: SpeechRecognitionEventArgs(session_id=3723bd2f928e4abe8bcd29f4abba97ba, result=SpeechRecognitionResult(result_id=9c697e12a72a4b098fd0080eb41cfe5b, text=\"i'm quite sure this is my mother is looking good streak dinner and i\", reason=ResultReason.RecognizingSpeech))\n",
            "RECOGNIZING: SpeechRecognitionEventArgs(session_id=3723bd2f928e4abe8bcd29f4abba97ba, result=SpeechRecognitionResult(result_id=d636db0edbc745429a53f5d9ad6b54fd, text=\"i'm quite sure this is my mother is looking good streak dinner and i\", reason=ResultReason.RecognizingSpeech))\n",
            "RECOGNIZING: SpeechRecognitionEventArgs(session_id=3723bd2f928e4abe8bcd29f4abba97ba, result=SpeechRecognitionResult(result_id=5449408a71124012898f231949efc98b, text=\"i'm quite sure this is my mother is looking good streak dinner and i want it\", reason=ResultReason.RecognizingSpeech))\n",
            "RECOGNIZING: SpeechRecognitionEventArgs(session_id=3723bd2f928e4abe8bcd29f4abba97ba, result=SpeechRecognitionResult(result_id=5695e33f357b4429ad9830c2a100db39, text=\"i'm quite sure this is my mother is looking good streak dinner and i want it and i want\", reason=ResultReason.RecognizingSpeech))\n",
            "RECOGNIZING: SpeechRecognitionEventArgs(session_id=3723bd2f928e4abe8bcd29f4abba97ba, result=SpeechRecognitionResult(result_id=48eea6c6aa3f4809a782f4306e7f67e6, text=\"i'm quite sure this is my mother is looking good streak dinner and i want it and i want to see\", reason=ResultReason.RecognizingSpeech))\n",
            "RECOGNIZING: SpeechRecognitionEventArgs(session_id=3723bd2f928e4abe8bcd29f4abba97ba, result=SpeechRecognitionResult(result_id=41d87311d1564c0199dc98fc8537ed63, text=\"i'm quite sure this is my mother is looking good streak dinner and i want it and i want to say\", reason=ResultReason.RecognizingSpeech))\n",
            "RECOGNIZING: SpeechRecognitionEventArgs(session_id=3723bd2f928e4abe8bcd29f4abba97ba, result=SpeechRecognitionResult(result_id=c2f7ee8c6c9d487b8632213b327f5a4f, text=\"i'm quite sure this is my mother is looking good streak dinner and i want it and i want to say my petite\", reason=ResultReason.RecognizingSpeech))\n",
            "RECOGNIZED: SpeechRecognitionEventArgs(session_id=3723bd2f928e4abe8bcd29f4abba97ba, result=SpeechRecognitionResult(result_id=2038959447e44753a0d7d733dc7e522e, text=\"I'm quite sure this is my mother is looking good streak dinner and I want it and I want to say my petite.\", reason=ResultReason.RecognizedSpeech))\n",
            "RECOGNIZING: SpeechRecognitionEventArgs(session_id=3723bd2f928e4abe8bcd29f4abba97ba, result=SpeechRecognitionResult(result_id=55232d13e5dd4772b53a555448e9fdc5, text=\"gene\", reason=ResultReason.RecognizingSpeech))\n",
            "RECOGNIZING: SpeechRecognitionEventArgs(session_id=3723bd2f928e4abe8bcd29f4abba97ba, result=SpeechRecognitionResult(result_id=5a629c0fe68642bd93ec76022f2bd8d9, text=\"jenn\", reason=ResultReason.RecognizingSpeech))\n",
            "RECOGNIZING: SpeechRecognitionEventArgs(session_id=3723bd2f928e4abe8bcd29f4abba97ba, result=SpeechRecognitionResult(result_id=65234bc0d54e4ce5aa6603f258f30ca3, text=\"jenn you\", reason=ResultReason.RecognizingSpeech))\n",
            "RECOGNIZING: SpeechRecognitionEventArgs(session_id=3723bd2f928e4abe8bcd29f4abba97ba, result=SpeechRecognitionResult(result_id=d5293fa693d946d29172a7ce6dc599a5, text=\"jane you're so\", reason=ResultReason.RecognizingSpeech))\n",
            "RECOGNIZING: SpeechRecognitionEventArgs(session_id=3723bd2f928e4abe8bcd29f4abba97ba, result=SpeechRecognitionResult(result_id=5752449f3aff48eea9f72a096eaf3564, text=\"jenn you so lucky\", reason=ResultReason.RecognizingSpeech))\n",
            "RECOGNIZING: SpeechRecognitionEventArgs(session_id=3723bd2f928e4abe8bcd29f4abba97ba, result=SpeechRecognitionResult(result_id=33df48777f444b0daa7679f9e4d4c993, text=\"jenn you so lucky to\", reason=ResultReason.RecognizingSpeech))\n",
            "RECOGNIZING: SpeechRecognitionEventArgs(session_id=3723bd2f928e4abe8bcd29f4abba97ba, result=SpeechRecognitionResult(result_id=dbdc8c63b5744b4ea64e39b2e022c6e5, text=\"jenn you so lucky to have\", reason=ResultReason.RecognizingSpeech))\n",
            "RECOGNIZING: SpeechRecognitionEventArgs(session_id=3723bd2f928e4abe8bcd29f4abba97ba, result=SpeechRecognitionResult(result_id=6880791bd4ea4bce95cdee230b62d1a4, text=\"jenn you so lucky to have such a\", reason=ResultReason.RecognizingSpeech))\n",
            "RECOGNIZING: SpeechRecognitionEventArgs(session_id=3723bd2f928e4abe8bcd29f4abba97ba, result=SpeechRecognitionResult(result_id=69bfed2663374b75b3ba85801f3a6108, text=\"jenn you so lucky to have such a good\", reason=ResultReason.RecognizingSpeech))\n",
            "RECOGNIZING: SpeechRecognitionEventArgs(session_id=3723bd2f928e4abe8bcd29f4abba97ba, result=SpeechRecognitionResult(result_id=0b3e901c70334eca860c5845314c1e54, text=\"jenn you so lucky to have such a good cook\", reason=ResultReason.RecognizingSpeech))\n",
            "RECOGNIZING: SpeechRecognitionEventArgs(session_id=3723bd2f928e4abe8bcd29f4abba97ba, result=SpeechRecognitionResult(result_id=d44a0fb27d59492b89a0e240068e42d3, text=\"jenn you so lucky to have such a good cook for them\", reason=ResultReason.RecognizingSpeech))\n",
            "RECOGNIZING: SpeechRecognitionEventArgs(session_id=3723bd2f928e4abe8bcd29f4abba97ba, result=SpeechRecognitionResult(result_id=dbc567991aa641b3a925e0e6acd498ae, text=\"jenn you so lucky to have such a good cook for a mother\", reason=ResultReason.RecognizingSpeech))\n",
            "RECOGNIZING: SpeechRecognitionEventArgs(session_id=3723bd2f928e4abe8bcd29f4abba97ba, result=SpeechRecognitionResult(result_id=524f90ac15ea42c1b6c0d3be4f4936e6, text=\"jenn you so lucky to have such a good cook for a mother\", reason=ResultReason.RecognizingSpeech))\n",
            "RECOGNIZING: SpeechRecognitionEventArgs(session_id=3723bd2f928e4abe8bcd29f4abba97ba, result=SpeechRecognitionResult(result_id=d0584228f7ae4182b186b23de794c469, text=\"jenn you so lucky to have such a good cook for a mother john\", reason=ResultReason.RecognizingSpeech))\n",
            "RECOGNIZING: SpeechRecognitionEventArgs(session_id=3723bd2f928e4abe8bcd29f4abba97ba, result=SpeechRecognitionResult(result_id=e25177019c2e4ba280fb7dd37e95157c, text=\"jenn you so lucky to have such a good cook for a mother john\", reason=ResultReason.RecognizingSpeech))\n",
            "RECOGNIZING: SpeechRecognitionEventArgs(session_id=3723bd2f928e4abe8bcd29f4abba97ba, result=SpeechRecognitionResult(result_id=9ca2700cfa6541eb84c0f9179d3c4841, text=\"jenn you so lucky to have such a good cook for a mother jaune you\", reason=ResultReason.RecognizingSpeech))\n",
            "RECOGNIZING: SpeechRecognitionEventArgs(session_id=3723bd2f928e4abe8bcd29f4abba97ba, result=SpeechRecognitionResult(result_id=5884890a49dc474cbb324d44f0b05f1b, text=\"jenn you so lucky to have such a good cook for a mother john you have\", reason=ResultReason.RecognizingSpeech))\n",
            "RECOGNIZING: SpeechRecognitionEventArgs(session_id=3723bd2f928e4abe8bcd29f4abba97ba, result=SpeechRecognitionResult(result_id=5b4395c928234659b4f9f26fdc49cadf, text=\"jenn you so lucky to have such a good cook for a mother john you have you have\", reason=ResultReason.RecognizingSpeech))\n",
            "RECOGNIZING: SpeechRecognitionEventArgs(session_id=3723bd2f928e4abe8bcd29f4abba97ba, result=SpeechRecognitionResult(result_id=1511d3d4b7d648acbd527f9fb38e75df, text=\"jenn you so lucky to have such a good cook for a mother john you have you have to\", reason=ResultReason.RecognizingSpeech))\n",
            "RECOGNIZING: SpeechRecognitionEventArgs(session_id=3723bd2f928e4abe8bcd29f4abba97ba, result=SpeechRecognitionResult(result_id=9f712e9b12b64ad7a9f7d2908ecc19e9, text=\"jenn you so lucky to have such a good cook for a mother john you have you have to taste\", reason=ResultReason.RecognizingSpeech))\n",
            "RECOGNIZING: SpeechRecognitionEventArgs(session_id=3723bd2f928e4abe8bcd29f4abba97ba, result=SpeechRecognitionResult(result_id=d8b120ee78674d41a6384868267163f2, text=\"jenn you so lucky to have such a good cook for a mother john you have you have to taste her\", reason=ResultReason.RecognizingSpeech))\n",
            "RECOGNIZING: SpeechRecognitionEventArgs(session_id=3723bd2f928e4abe8bcd29f4abba97ba, result=SpeechRecognitionResult(result_id=b057115ef89a49a084bd5f69f12a7a99, text=\"jenn you so lucky to have such a good cook for a mother john you have you have to taste her cream\", reason=ResultReason.RecognizingSpeech))\n",
            "RECOGNIZING: SpeechRecognitionEventArgs(session_id=3723bd2f928e4abe8bcd29f4abba97ba, result=SpeechRecognitionResult(result_id=e2d0f401009c4c67853d510eaecad032, text=\"jenn you so lucky to have such a good cook for a mother john you have you have to taste her cream cakes\", reason=ResultReason.RecognizingSpeech))\n",
            "RECOGNIZING: SpeechRecognitionEventArgs(session_id=3723bd2f928e4abe8bcd29f4abba97ba, result=SpeechRecognitionResult(result_id=509a5e0552524f46840b66b05f87e790, text=\"jenn you so lucky to have such a good cook for a mother john you have you have to taste her cream cakes one\", reason=ResultReason.RecognizingSpeech))\n",
            "RECOGNIZING: SpeechRecognitionEventArgs(session_id=3723bd2f928e4abe8bcd29f4abba97ba, result=SpeechRecognitionResult(result_id=d17e3bf062ca45b29e8613406dcc90b7, text=\"jenn you so lucky to have such a good cook for a mother john you have you have to taste her cream cakes one of\", reason=ResultReason.RecognizingSpeech))\n",
            "RECOGNIZING: SpeechRecognitionEventArgs(session_id=3723bd2f928e4abe8bcd29f4abba97ba, result=SpeechRecognitionResult(result_id=95d34aba2ed046e19ca13289c45ed10b, text=\"jenn you so lucky to have such a good cook for a mother john you have you have to taste her cream cakes one of these days\", reason=ResultReason.RecognizingSpeech))\n",
            "RECOGNIZING: SpeechRecognitionEventArgs(session_id=3723bd2f928e4abe8bcd29f4abba97ba, result=SpeechRecognitionResult(result_id=d7031edf18ee464caad24dcf9ca8d35b, text=\"jenn you so lucky to have such a good cook for a mother john you have you have to taste her cream cakes one of these days you\", reason=ResultReason.RecognizingSpeech))\n",
            "RECOGNIZING: SpeechRecognitionEventArgs(session_id=3723bd2f928e4abe8bcd29f4abba97ba, result=SpeechRecognitionResult(result_id=770b6bd7cc6c4cb49e9e8b7751783745, text=\"jenn you so lucky to have such a good cook for a mother john you have you have to taste her cream cakes one of these days you cannot\", reason=ResultReason.RecognizingSpeech))\n",
            "RECOGNIZING: SpeechRecognitionEventArgs(session_id=3723bd2f928e4abe8bcd29f4abba97ba, result=SpeechRecognitionResult(result_id=36dd72fb79b940b0b307caed642cde0a, text=\"jenn you so lucky to have such a good cook for a mother john you have you have to taste her cream cakes one of these days you cannot find\", reason=ResultReason.RecognizingSpeech))\n",
            "RECOGNIZING: SpeechRecognitionEventArgs(session_id=3723bd2f928e4abe8bcd29f4abba97ba, result=SpeechRecognitionResult(result_id=f40cad26ae334dfbbd51f1905b8516b4, text=\"jenn you so lucky to have such a good cook for a mother john you have you have to taste her cream cakes one of these days you cannot find butter\", reason=ResultReason.RecognizingSpeech))\n",
            "RECOGNIZING: SpeechRecognitionEventArgs(session_id=3723bd2f928e4abe8bcd29f4abba97ba, result=SpeechRecognitionResult(result_id=b18026886f1145b89423aebfd4b40f97, text=\"jenn you so lucky to have such a good cook for a mother john you have you have to taste her cream cakes one of these days you cannot find buttercream cake\", reason=ResultReason.RecognizingSpeech))\n",
            "RECOGNIZING: SpeechRecognitionEventArgs(session_id=3723bd2f928e4abe8bcd29f4abba97ba, result=SpeechRecognitionResult(result_id=c48906b38316406498559c2654358b5c, text=\"jenn you so lucky to have such a good cook for a mother john you have you have to taste her cream cakes one of these days you cannot find buttercream cakes any\", reason=ResultReason.RecognizingSpeech))\n",
            "RECOGNIZING: SpeechRecognitionEventArgs(session_id=3723bd2f928e4abe8bcd29f4abba97ba, result=SpeechRecognitionResult(result_id=04734cb1fb9e424c9a3bb9ddd5977d25, text=\"jenn you so lucky to have such a good cook for a mother john you have you have to taste her cream cakes one of these days you cannot find buttercream cakes anywhere\", reason=ResultReason.RecognizingSpeech))\n",
            "RECOGNIZING: SpeechRecognitionEventArgs(session_id=3723bd2f928e4abe8bcd29f4abba97ba, result=SpeechRecognitionResult(result_id=b279b7e5e0524016bfee8173bf59785c, text=\"jenn you so lucky to have such a good cook for a mother john you have you have to taste her cream cakes one of these days you cannot find buttercream cakes anywhere in\", reason=ResultReason.RecognizingSpeech))\n",
            "RECOGNIZING: SpeechRecognitionEventArgs(session_id=3723bd2f928e4abe8bcd29f4abba97ba, result=SpeechRecognitionResult(result_id=a13aecb84cce4084bdc251b37091aae3, text=\"jenn you so lucky to have such a good cook for a mother john you have you have to taste her cream cakes one of these days you cannot find buttercream cakes anywhere in this\", reason=ResultReason.RecognizingSpeech))\n",
            "RECOGNIZING: SpeechRecognitionEventArgs(session_id=3723bd2f928e4abe8bcd29f4abba97ba, result=SpeechRecognitionResult(result_id=cc9dd84a0c68482eb374ac334a7b6d9d, text=\"jenn you so lucky to have such a good cook for a mother john you have you have to taste her cream cakes one of these days you cannot find buttercream cakes anywhere in this town\", reason=ResultReason.RecognizingSpeech))\n",
            "RECOGNIZED: SpeechRecognitionEventArgs(session_id=3723bd2f928e4abe8bcd29f4abba97ba, result=SpeechRecognitionResult(result_id=56949e5c041744e080211731dada3c9e, text=\"Jenn, you so lucky to have such a good cook for a mother, John you have you have to taste her cream cakes one of these days. You cannot find buttercream cakes anywhere in this town.\", reason=ResultReason.RecognizedSpeech))\n",
            "RECOGNIZING: SpeechRecognitionEventArgs(session_id=3723bd2f928e4abe8bcd29f4abba97ba, result=SpeechRecognitionResult(result_id=0bed975cd2fe4097aa54c0480f758820, text=\"alpha\", reason=ResultReason.RecognizingSpeech))\n",
            "RECOGNIZING: SpeechRecognitionEventArgs(session_id=3723bd2f928e4abe8bcd29f4abba97ba, result=SpeechRecognitionResult(result_id=26c57b803e3644c68834c4b7540e46ec, text=\"alpha\", reason=ResultReason.RecognizingSpeech))\n",
            "RECOGNIZING: SpeechRecognitionEventArgs(session_id=3723bd2f928e4abe8bcd29f4abba97ba, result=SpeechRecognitionResult(result_id=71e01b582a8c41d199f001d734d0c132, text=\"alpha does\", reason=ResultReason.RecognizingSpeech))\n",
            "RECOGNIZING: SpeechRecognitionEventArgs(session_id=3723bd2f928e4abe8bcd29f4abba97ba, result=SpeechRecognitionResult(result_id=23886af91c3749319d87387803351686, text=\"alpha does it this evening\", reason=ResultReason.RecognizingSpeech))\n",
            "RECOGNIZING: SpeechRecognitionEventArgs(session_id=3723bd2f928e4abe8bcd29f4abba97ba, result=SpeechRecognitionResult(result_id=d66d1c21462348669042bd6a32125912, text=\"alpha desert this evening i will\", reason=ResultReason.RecognizingSpeech))\n",
            "RECOGNIZING: SpeechRecognitionEventArgs(session_id=3723bd2f928e4abe8bcd29f4abba97ba, result=SpeechRecognitionResult(result_id=639c48b020d645d7aa9db2e2790ff999, text=\"alpha desert this evening i'll\", reason=ResultReason.RecognizingSpeech))\n",
            "RECOGNIZING: SpeechRecognitionEventArgs(session_id=3723bd2f928e4abe8bcd29f4abba97ba, result=SpeechRecognitionResult(result_id=3afaf0371f55476a9b91d50a7a527a4c, text=\"alpha desert this evening i'll save\", reason=ResultReason.RecognizingSpeech))\n",
            "RECOGNIZING: SpeechRecognitionEventArgs(session_id=3723bd2f928e4abe8bcd29f4abba97ba, result=SpeechRecognitionResult(result_id=f04c6bbb885c448bb17022813295c979, text=\"alpha desert this evening i will save your\", reason=ResultReason.RecognizingSpeech))\n",
            "RECOGNIZING: SpeechRecognitionEventArgs(session_id=3723bd2f928e4abe8bcd29f4abba97ba, result=SpeechRecognitionResult(result_id=e0f66a2f4b744651835a6644c78a7196, text=\"alpha desert this evening i will save your pieces\", reason=ResultReason.RecognizingSpeech))\n",
            "RECOGNIZING: SpeechRecognitionEventArgs(session_id=3723bd2f928e4abe8bcd29f4abba97ba, result=SpeechRecognitionResult(result_id=8cd539578c5740cfb993e8d5ba9e1724, text=\"alpha desert this evening i will save your peace if\", reason=ResultReason.RecognizingSpeech))\n",
            "RECOGNIZING: SpeechRecognitionEventArgs(session_id=3723bd2f928e4abe8bcd29f4abba97ba, result=SpeechRecognitionResult(result_id=9185624fa2744231858bf0f136125eee, text=\"alpha desert this evening i will save your peace if you\", reason=ResultReason.RecognizingSpeech))\n",
            "RECOGNIZING: SpeechRecognitionEventArgs(session_id=3723bd2f928e4abe8bcd29f4abba97ba, result=SpeechRecognitionResult(result_id=b2508b2e72e54ebbab01eed775495e1f, text=\"alpha desert this evening i will save your peace if you want\", reason=ResultReason.RecognizingSpeech))\n",
            "RECOGNIZING: SpeechRecognitionEventArgs(session_id=3723bd2f928e4abe8bcd29f4abba97ba, result=SpeechRecognitionResult(result_id=37a8dbdc3c864878b51444acd93cc0d1, text=\"alpha desert this evening i will save your peace if you want john\", reason=ResultReason.RecognizingSpeech))\n",
            "RECOGNIZING: SpeechRecognitionEventArgs(session_id=3723bd2f928e4abe8bcd29f4abba97ba, result=SpeechRecognitionResult(result_id=3e5f5b9ebdf247299cec770073f633a3, text=\"alpha desert this evening i will save your peace if you want john and let's not kick\", reason=ResultReason.RecognizingSpeech))\n",
            "RECOGNIZING: SpeechRecognitionEventArgs(session_id=3723bd2f928e4abe8bcd29f4abba97ba, result=SpeechRecognitionResult(result_id=ec28ec97f948469db247691daa09ac8f, text=\"alpha desert this evening i will save your peace if you want john and let's not kick so please\", reason=ResultReason.RecognizingSpeech))\n",
            "RECOGNIZING: SpeechRecognitionEventArgs(session_id=3723bd2f928e4abe8bcd29f4abba97ba, result=SpeechRecognitionResult(result_id=dd5e6557705441cab3fece83801733ca, text=\"alpha desert this evening i will save your peace if you want john and let's not kick so please send me a\", reason=ResultReason.RecognizingSpeech))\n",
            "RECOGNIZING: SpeechRecognitionEventArgs(session_id=3723bd2f928e4abe8bcd29f4abba97ba, result=SpeechRecognitionResult(result_id=c7cb6a11405b4949bf25ba4f7f91dda8, text=\"alpha desert this evening i will save your peace if you want john and let's not kick so please send me a piece\", reason=ResultReason.RecognizingSpeech))\n",
            "RECOGNIZING: SpeechRecognitionEventArgs(session_id=3723bd2f928e4abe8bcd29f4abba97ba, result=SpeechRecognitionResult(result_id=bc07bcd09d2a49e3b4230e4456c37223, text=\"alpha desert this evening i will save your peace if you want john and let's not kick so please send me a piece thanks soon\", reason=ResultReason.RecognizingSpeech))\n",
            "RECOGNIZING: SpeechRecognitionEventArgs(session_id=3723bd2f928e4abe8bcd29f4abba97ba, result=SpeechRecognitionResult(result_id=b17b76bff6a544fd938ae2dee5662709, text=\"alpha desert this evening i will save your peace if you want john and let's not kick so please send me a piece thanks soon about\", reason=ResultReason.RecognizingSpeech))\n",
            "RECOGNIZING: SpeechRecognitionEventArgs(session_id=3723bd2f928e4abe8bcd29f4abba97ba, result=SpeechRecognitionResult(result_id=d6595f8ec25647c4bfd3be56e4a6771a, text=\"alpha desert this evening i will save your peace if you want john and let's not kick so please send me a piece thanks soon how about you\", reason=ResultReason.RecognizingSpeech))\n",
            "RECOGNIZING: SpeechRecognitionEventArgs(session_id=3723bd2f928e4abe8bcd29f4abba97ba, result=SpeechRecognitionResult(result_id=0947aa758d984fb1aafebb00404a17de, text=\"alpha desert this evening i will save your peace if you want john and let's not kick so please send me a piece thanks soon about you alexa piece of cake\", reason=ResultReason.RecognizingSpeech))\n",
            "RECOGNIZING: SpeechRecognitionEventArgs(session_id=3723bd2f928e4abe8bcd29f4abba97ba, result=SpeechRecognitionResult(result_id=a6788c1479264f759bb8900d4dfe40a5, text=\"alpha desert this evening i will save your peace if you want john and let's not kick so please send me a piece thanks soon about you alexa piece of cake for you\", reason=ResultReason.RecognizingSpeech))\n",
            "RECOGNIZING: SpeechRecognitionEventArgs(session_id=3723bd2f928e4abe8bcd29f4abba97ba, result=SpeechRecognitionResult(result_id=748d2d328f124453bb3debced4150b9e, text=\"alpha desert this evening i will save your peace if you want john and let's not kick so please send me a piece thanks soon about you alexa piece of cake for you too\", reason=ResultReason.RecognizingSpeech))\n",
            "RECOGNIZING: SpeechRecognitionEventArgs(session_id=3723bd2f928e4abe8bcd29f4abba97ba, result=SpeechRecognitionResult(result_id=588bf1a8729948c09ab168cda3209db8, text=\"alpha desert this evening i will save your peace if you want john and let's not kick so please send me a piece thanks soon about you alexa piece of cake for you too you\", reason=ResultReason.RecognizingSpeech))\n",
            "RECOGNIZING: SpeechRecognitionEventArgs(session_id=3723bd2f928e4abe8bcd29f4abba97ba, result=SpeechRecognitionResult(result_id=732c27b960534f2db7bbb11cd76a1bb7, text=\"alpha desert this evening i will save your peace if you want john and let's not kick so please send me a piece thanks soon about you alexa piece of cake for you too you know\", reason=ResultReason.RecognizingSpeech))\n",
            "RECOGNIZING: SpeechRecognitionEventArgs(session_id=3723bd2f928e4abe8bcd29f4abba97ba, result=SpeechRecognitionResult(result_id=3a845583d34b4c809b615ffdb16f361d, text=\"alpha desert this evening i will save your peace if you want john and let's not kick so please send me a piece thanks soon about you alexa piece of cake for you to you know i'll see\", reason=ResultReason.RecognizingSpeech))\n",
            "RECOGNIZING: SpeechRecognitionEventArgs(session_id=3723bd2f928e4abe8bcd29f4abba97ba, result=SpeechRecognitionResult(result_id=46cd74b42b6449bfa387720592bdb2ff, text=\"alpha desert this evening i will save your peace if you want john and let's not kick so please send me a piece thanks soon about you alexa piece of cake for you to you know i'll say yes\", reason=ResultReason.RecognizingSpeech))\n",
            "RECOGNIZING: SpeechRecognitionEventArgs(session_id=3723bd2f928e4abe8bcd29f4abba97ba, result=SpeechRecognitionResult(result_id=0af7b9bcbda54f658ace6cc387bf7657, text=\"alpha desert this evening i will save your peace if you want john and let's not kick so please send me a piece thanks soon about you alexa piece of cake for you to you know i'll say\", reason=ResultReason.RecognizingSpeech))\n",
            "RECOGNIZING: SpeechRecognitionEventArgs(session_id=3723bd2f928e4abe8bcd29f4abba97ba, result=SpeechRecognitionResult(result_id=9f6e93af369f452c90251b17191db8f2, text=\"alpha desert this evening i will save your peace if you want john and let's not kick so please send me a piece thanks soon about you alexa piece of cake for you to you know i'll say yes to\", reason=ResultReason.RecognizingSpeech))\n",
            "RECOGNIZING: SpeechRecognitionEventArgs(session_id=3723bd2f928e4abe8bcd29f4abba97ba, result=SpeechRecognitionResult(result_id=0929d23ec27d48b3a93ad9920b459e21, text=\"alpha desert this evening i will save your peace if you want john and let's not kick so please send me a piece thanks soon about you alexa piece of cake for you to you know i'll say yes to a piece of\", reason=ResultReason.RecognizingSpeech))\n",
            "RECOGNIZING: SpeechRecognitionEventArgs(session_id=3723bd2f928e4abe8bcd29f4abba97ba, result=SpeechRecognitionResult(result_id=8741c37d152d4f9bab28e7f969cf3579, text=\"alpha desert this evening i will save your peace if you want john and let's not kick so please send me a piece thanks soon about you alexa piece of cake for you to you know i'll say yes to a piece of your\", reason=ResultReason.RecognizingSpeech))\n",
            "RECOGNIZING: SpeechRecognitionEventArgs(session_id=3723bd2f928e4abe8bcd29f4abba97ba, result=SpeechRecognitionResult(result_id=5523069442ae4b0fae466110239d019d, text=\"alpha desert this evening i will save your peace if you want john and let's not kick so please send me a piece thanks soon about you alexa piece of cake for you to you know i'll say yes to a piece of your mother's\", reason=ResultReason.RecognizingSpeech))\n",
            "RECOGNIZING: SpeechRecognitionEventArgs(session_id=3723bd2f928e4abe8bcd29f4abba97ba, result=SpeechRecognitionResult(result_id=0b92e0ae0f114cec973c10aea215c429, text=\"alpha desert this evening i will save your peace if you want john and let's not kick so please send me a piece thanks soon about you alexa piece of cake for you to you know i'll say yes to a piece of your mother\", reason=ResultReason.RecognizingSpeech))\n",
            "RECOGNIZING: SpeechRecognitionEventArgs(session_id=3723bd2f928e4abe8bcd29f4abba97ba, result=SpeechRecognitionResult(result_id=ce18a3385fb043c68ce035eb04408cd9, text=\"alpha desert this evening i will save your peace if you want john and let's not kick so please send me a piece thanks soon about you alexa piece of cake for you to you know i'll say yes to a piece of your mother screen\", reason=ResultReason.RecognizingSpeech))\n",
            "RECOGNIZING: SpeechRecognitionEventArgs(session_id=3723bd2f928e4abe8bcd29f4abba97ba, result=SpeechRecognitionResult(result_id=e6a8893d5dbf4000bac26bee52535b08, text=\"alpha desert this evening i will save your peace if you want john and let's not kick so please send me a piece thanks soon about you alexa piece of cake for you to you know i'll say yes to a piece of your mother's cream\", reason=ResultReason.RecognizingSpeech))\n",
            "RECOGNIZING: SpeechRecognitionEventArgs(session_id=3723bd2f928e4abe8bcd29f4abba97ba, result=SpeechRecognitionResult(result_id=635dea6a5bdf48139f5148a149d8e83f, text=\"alpha desert this evening i will save your peace if you want john and let's not kick so please send me a piece thanks soon about you alexa piece of cake for you to you know i'll say yes to a piece of your mother's cream cake\", reason=ResultReason.RecognizingSpeech))\n",
            "RECOGNIZING: SpeechRecognitionEventArgs(session_id=3723bd2f928e4abe8bcd29f4abba97ba, result=SpeechRecognitionResult(result_id=de9bfad904ac4abc974bbe3ddb68bd04, text=\"alpha desert this evening i will save your peace if you want john and let's not kick so please send me a piece thanks soon about you alexa piece of cake for you to you know i'll say yes to a piece of your mother's cream cake any day\", reason=ResultReason.RecognizingSpeech))\n",
            "RECOGNIZED: SpeechRecognitionEventArgs(session_id=3723bd2f928e4abe8bcd29f4abba97ba, result=SpeechRecognitionResult(result_id=011b4240a9f149c08f4def937a1c99c2, text=\"Alpha desert this evening I will save your peace if you want John and let's not kick so please send me a piece thanks soon about you Alexa. Piece of cake for you to you know I'll say yes to a piece of your Mother's cream cake any day.\", reason=ResultReason.RecognizedSpeech))\n",
            "RECOGNIZING: SpeechRecognitionEventArgs(session_id=3723bd2f928e4abe8bcd29f4abba97ba, result=SpeechRecognitionResult(result_id=21c767453e974946af6bed4ff33293f0, text=\"how's it\", reason=ResultReason.RecognizingSpeech))\n",
            "RECOGNIZING: SpeechRecognitionEventArgs(session_id=3723bd2f928e4abe8bcd29f4abba97ba, result=SpeechRecognitionResult(result_id=f067b158545444aa9958260cbd51dbb3, text=\"how's it disables\", reason=ResultReason.RecognizingSpeech))\n",
            "RECOGNIZING: SpeechRecognitionEventArgs(session_id=3723bd2f928e4abe8bcd29f4abba97ba, result=SpeechRecognitionResult(result_id=0e4114d6c6044d86825f421f5c81739b, text=\"how's it disable 2\", reason=ResultReason.RecognizingSpeech))\n",
            "RECOGNIZING: SpeechRecognitionEventArgs(session_id=3723bd2f928e4abe8bcd29f4abba97ba, result=SpeechRecognitionResult(result_id=622028bb99f54e97b1c8b9cc7773d710, text=\"how's it disable 2 pieces of\", reason=ResultReason.RecognizingSpeech))\n",
            "RECOGNIZING: SpeechRecognitionEventArgs(session_id=3723bd2f928e4abe8bcd29f4abba97ba, result=SpeechRecognitionResult(result_id=8e6b1cf6984240c5b90ed90591c17c4f, text=\"how's it disable piece of\", reason=ResultReason.RecognizingSpeech))\n",
            "RECOGNIZING: SpeechRecognitionEventArgs(session_id=3723bd2f928e4abe8bcd29f4abba97ba, result=SpeechRecognitionResult(result_id=90c40c92a3074cb2abc9ef3fed942713, text=\"how's it disable 2 pieces of\", reason=ResultReason.RecognizingSpeech))\n",
            "RECOGNIZING: SpeechRecognitionEventArgs(session_id=3723bd2f928e4abe8bcd29f4abba97ba, result=SpeechRecognitionResult(result_id=9aa4408e8f7841aa8611eb6c55e6efc0, text=\"how's it disable 2 pieces of cream\", reason=ResultReason.RecognizingSpeech))\n",
            "RECOGNIZING: SpeechRecognitionEventArgs(session_id=3723bd2f928e4abe8bcd29f4abba97ba, result=SpeechRecognitionResult(result_id=54bf794e4b3047f1b23c85c701bc321d, text=\"how's it disable 2 pieces of cream cake\", reason=ResultReason.RecognizingSpeech))\n",
            "RECOGNIZING: SpeechRecognitionEventArgs(session_id=3723bd2f928e4abe8bcd29f4abba97ba, result=SpeechRecognitionResult(result_id=079bb9d47c2f448ebd7d12ebdd55bd34, text=\"how's it disable 2 pieces of cream cake for both of you\", reason=ResultReason.RecognizingSpeech))\n",
            "RECOGNIZING: SpeechRecognitionEventArgs(session_id=3723bd2f928e4abe8bcd29f4abba97ba, result=SpeechRecognitionResult(result_id=4d113f4d1b704c169824341466dbf0c0, text=\"how's it disable 2 pieces of cream cake for both of you tonight\", reason=ResultReason.RecognizingSpeech))\n",
            "RECOGNIZING: SpeechRecognitionEventArgs(session_id=3723bd2f928e4abe8bcd29f4abba97ba, result=SpeechRecognitionResult(result_id=0275bd6ed4a44c33b9c593414e7d50ea, text=\"how's it disable 2 pieces of cream cake for both of you tonight we can meet\", reason=ResultReason.RecognizingSpeech))\n",
            "RECOGNIZING: SpeechRecognitionEventArgs(session_id=3723bd2f928e4abe8bcd29f4abba97ba, result=SpeechRecognitionResult(result_id=1566d3295e21424b81eda7150df2ca32, text=\"how's it disable 2 pieces of cream cake for both of you tonight we can meet in the\", reason=ResultReason.RecognizingSpeech))\n",
            "RECOGNIZING: SpeechRecognitionEventArgs(session_id=3723bd2f928e4abe8bcd29f4abba97ba, result=SpeechRecognitionResult(result_id=e74a9f8243bf4209b3ad39dc546ef9df, text=\"how's it disable 2 pieces of cream cake for both of you tonight we can meet in the\", reason=ResultReason.RecognizingSpeech))\n",
            "RECOGNIZING: SpeechRecognitionEventArgs(session_id=3723bd2f928e4abe8bcd29f4abba97ba, result=SpeechRecognitionResult(result_id=a4afe0729e4e4f10ab653d4287a0c10c, text=\"how's it disable 2 pieces of cream cake for both of you tonight we can meet in the cafeteria\", reason=ResultReason.RecognizingSpeech))\n",
            "RECOGNIZING: SpeechRecognitionEventArgs(session_id=3723bd2f928e4abe8bcd29f4abba97ba, result=SpeechRecognitionResult(result_id=3d80610ecfd642dab2c94d7b7b6a784b, text=\"how's it disable 2 pieces of cream cake for both of you tonight we can meet in the cafeteria at lunch\", reason=ResultReason.RecognizingSpeech))\n",
            "RECOGNIZING: SpeechRecognitionEventArgs(session_id=3723bd2f928e4abe8bcd29f4abba97ba, result=SpeechRecognitionResult(result_id=bf0481ce35ce458092391c3bec77d826, text=\"how's it disable 2 pieces of cream cake for both of you tonight we can meet in the cafeteria at lunch time\", reason=ResultReason.RecognizingSpeech))\n",
            "RECOGNIZING: SpeechRecognitionEventArgs(session_id=3723bd2f928e4abe8bcd29f4abba97ba, result=SpeechRecognitionResult(result_id=30f529c786dc417d996b7b531f6b1aa5, text=\"how's it disable 2 pieces of cream cake for both of you tonight we can meet in the cafeteria at lunch time tomorrow\", reason=ResultReason.RecognizingSpeech))\n",
            "RECOGNIZING: SpeechRecognitionEventArgs(session_id=3723bd2f928e4abe8bcd29f4abba97ba, result=SpeechRecognitionResult(result_id=3ecfa31969e24ce9a2c624d302929107, text=\"how's it disable 2 pieces of cream cake for both of you tonight we can meet in the cafeteria at lunch time tomorrow and i'll give\", reason=ResultReason.RecognizingSpeech))\n",
            "RECOGNIZING: SpeechRecognitionEventArgs(session_id=3723bd2f928e4abe8bcd29f4abba97ba, result=SpeechRecognitionResult(result_id=2b7675a026124a588a7627a5b0e8adf8, text=\"how's it disable 2 pieces of cream cake for both of you tonight we can meet in the cafeteria at lunch time tomorrow and i'll give you\", reason=ResultReason.RecognizingSpeech))\n",
            "RECOGNIZING: SpeechRecognitionEventArgs(session_id=3723bd2f928e4abe8bcd29f4abba97ba, result=SpeechRecognitionResult(result_id=88976ea001d4496d8c7ecbdc76ab8268, text=\"how's it disable 2 pieces of cream cake for both of you tonight we can meet in the cafeteria at lunch time tomorrow and i'll give you something to\", reason=ResultReason.RecognizingSpeech))\n",
            "RECOGNIZING: SpeechRecognitionEventArgs(session_id=3723bd2f928e4abe8bcd29f4abba97ba, result=SpeechRecognitionResult(result_id=eb18f120759f438a957f93acb10a3c87, text=\"how's it disable 2 pieces of cream cake for both of you tonight we can meet in the cafeteria at lunch time tomorrow and i'll give you something to you\", reason=ResultReason.RecognizingSpeech))\n",
            "RECOGNIZING: SpeechRecognitionEventArgs(session_id=3723bd2f928e4abe8bcd29f4abba97ba, result=SpeechRecognitionResult(result_id=3398e44fab7d4bf0826c182714e0bd36, text=\"how's it disable 2 pieces of cream cake for both of you tonight we can meet in the cafeteria at lunch time tomorrow and i'll give you something to you alex\", reason=ResultReason.RecognizingSpeech))\n",
            "RECOGNIZING: SpeechRecognitionEventArgs(session_id=3723bd2f928e4abe8bcd29f4abba97ba, result=SpeechRecognitionResult(result_id=ff614c5f3f0749f09886afe9af9f22a5, text=\"how's it disable 2 pieces of cream cake for both of you tonight we can meet in the cafeteria at lunch time tomorrow and i'll give you something to you alex you gotta get your\", reason=ResultReason.RecognizingSpeech))\n",
            "RECOGNIZING: SpeechRecognitionEventArgs(session_id=3723bd2f928e4abe8bcd29f4abba97ba, result=SpeechRecognitionResult(result_id=9d2db22a6d224925ab228f10b4210fa1, text=\"how's it disable 2 pieces of cream cake for both of you tonight we can meet in the cafeteria at lunch time tomorrow and i'll give you something to you alex you gotta get your chips and\", reason=ResultReason.RecognizingSpeech))\n",
            "RECOGNIZING: SpeechRecognitionEventArgs(session_id=3723bd2f928e4abe8bcd29f4abba97ba, result=SpeechRecognitionResult(result_id=b835471e0390446394792129cf775332, text=\"how's it disable 2 pieces of cream cake for both of you tonight we can meet in the cafeteria at lunch time tomorrow and i'll give you something to you alex you gotta get your chips and soda\", reason=ResultReason.RecognizingSpeech))\n",
            "RECOGNIZING: SpeechRecognitionEventArgs(session_id=3723bd2f928e4abe8bcd29f4abba97ba, result=SpeechRecognitionResult(result_id=2e873cc237644664bb3de8351e0f650f, text=\"how's it disable 2 pieces of cream cake for both of you tonight we can meet in the cafeteria at lunch time tomorrow and i'll give you something to you alex you gotta get your chips and soda now if you still\", reason=ResultReason.RecognizingSpeech))\n",
            "RECOGNIZING: SpeechRecognitionEventArgs(session_id=3723bd2f928e4abe8bcd29f4abba97ba, result=SpeechRecognitionResult(result_id=d1ba7ea9c89242f19e99e6b6ad3f07ca, text=\"how's it disable 2 pieces of cream cake for both of you tonight we can meet in the cafeteria at lunch time tomorrow and i'll give you something to you alex you gotta get your chips and soda now if you still want\", reason=ResultReason.RecognizingSpeech))\n",
            "RECOGNIZING: SpeechRecognitionEventArgs(session_id=3723bd2f928e4abe8bcd29f4abba97ba, result=SpeechRecognitionResult(result_id=15bf5a2493184a1ca7c30b77707dc1c5, text=\"how's it disable 2 pieces of cream cake for both of you tonight we can meet in the cafeteria at lunch time tomorrow and i'll give you something to you alex you gotta get your chips and soda now if you still want them\", reason=ResultReason.RecognizingSpeech))\n",
            "RECOGNIZING: SpeechRecognitionEventArgs(session_id=3723bd2f928e4abe8bcd29f4abba97ba, result=SpeechRecognitionResult(result_id=d58464d40b9043ebb995be29758e6a49, text=\"how's it disable 2 pieces of cream cake for both of you tonight we can meet in the cafeteria at lunch time tomorrow and i'll give you something to you alex you gotta get your chips and soda now if you still want them it's\", reason=ResultReason.RecognizingSpeech))\n",
            "RECOGNIZING: SpeechRecognitionEventArgs(session_id=3723bd2f928e4abe8bcd29f4abba97ba, result=SpeechRecognitionResult(result_id=c126cbb240e449eca742f24e01fc20e5, text=\"how's it disable 2 pieces of cream cake for both of you tonight we can meet in the cafeteria at lunch time tomorrow and i'll give you something to you alex you gotta get your chips and soda now if you still want them it's almost\", reason=ResultReason.RecognizingSpeech))\n",
            "RECOGNIZING: SpeechRecognitionEventArgs(session_id=3723bd2f928e4abe8bcd29f4abba97ba, result=SpeechRecognitionResult(result_id=012fee3d48854960a29610b54fd0129a, text=\"how's it disable 2 pieces of cream cake for both of you tonight we can meet in the cafeteria at lunch time tomorrow and i'll give you something to you alex you gotta get your chips and soda now if you still want them it's almost trivial\", reason=ResultReason.RecognizingSpeech))\n",
            "RECOGNIZING: SpeechRecognitionEventArgs(session_id=3723bd2f928e4abe8bcd29f4abba97ba, result=SpeechRecognitionResult(result_id=399fed265f9b422e8a2cbadd2c795c06, text=\"how's it disable 2 pieces of cream cake for both of you tonight we can meet in the cafeteria at lunch time tomorrow and i'll give you something to you alex you gotta get your chips and soda now if you still want them it's almost trivial with the\", reason=ResultReason.RecognizingSpeech))\n",
            "RECOGNIZING: SpeechRecognitionEventArgs(session_id=3723bd2f928e4abe8bcd29f4abba97ba, result=SpeechRecognitionResult(result_id=2fff61bc7e5e4f529129112cd156aee0, text=\"how's it disable 2 pieces of cream cake for both of you tonight we can meet in the cafeteria at lunch time tomorrow and i'll give you something to you alex you gotta get your chips and soda now if you still want them it's almost trivial with the concept is\", reason=ResultReason.RecognizingSpeech))\n",
            "RECOGNIZING: SpeechRecognitionEventArgs(session_id=3723bd2f928e4abe8bcd29f4abba97ba, result=SpeechRecognitionResult(result_id=cc275dd0278144329b7edb9ba4e82a0b, text=\"how's it disable 2 pieces of cream cake for both of you tonight we can meet in the cafeteria at lunch time tomorrow and i'll give you something to you alex you gotta get your chips and soda now if you still want them it's almost trivial with the concept is about\", reason=ResultReason.RecognizingSpeech))\n",
            "RECOGNIZING: SpeechRecognitionEventArgs(session_id=3723bd2f928e4abe8bcd29f4abba97ba, result=SpeechRecognitionResult(result_id=7545d98bc4874bf4b787b6faf6db3ece, text=\"how's it disable 2 pieces of cream cake for both of you tonight we can meet in the cafeteria at lunch time tomorrow and i'll give you something to you alex you gotta get your chips and soda now if you still want them it's almost trivial with the concept is about to\", reason=ResultReason.RecognizingSpeech))\n",
            "RECOGNIZING: SpeechRecognitionEventArgs(session_id=3723bd2f928e4abe8bcd29f4abba97ba, result=SpeechRecognitionResult(result_id=e201f3ec2c3f48bc8c2d802fde167d90, text=\"how's it disable 2 pieces of cream cake for both of you tonight we can meet in the cafeteria at lunch time tomorrow and i'll give you something to you alex you gotta get your chips and soda now if you still want them it's almost trivial with the concept is about to start\", reason=ResultReason.RecognizingSpeech))\n",
            "RECOGNIZING: SpeechRecognitionEventArgs(session_id=3723bd2f928e4abe8bcd29f4abba97ba, result=SpeechRecognitionResult(result_id=fc56f7ec392b486880ba567c30f9b04e, text=\"how's it disable 2 pieces of cream cake for both of you tonight we can meet in the cafeteria at lunch time tomorrow and i'll give you something to you alex you gotta get your chips and soda now if you still want them it's almost trivial with the concept is about to start for the\", reason=ResultReason.RecognizingSpeech))\n",
            "RECOGNIZING: SpeechRecognitionEventArgs(session_id=3723bd2f928e4abe8bcd29f4abba97ba, result=SpeechRecognitionResult(result_id=eeffc7a477bf4a0793c8f0b4f2486fca, text=\"how's it disable 2 pieces of cream cake for both of you tonight we can meet in the cafeteria at lunch time tomorrow and i'll give you something to you alex you gotta get your chips and soda now if you still want them it's almost trivial with the concept is about to start for the last time\", reason=ResultReason.RecognizingSpeech))\n",
            "RECOGNIZING: SpeechRecognitionEventArgs(session_id=3723bd2f928e4abe8bcd29f4abba97ba, result=SpeechRecognitionResult(result_id=d9e4155e47614e82b86098650c0fa5b9, text=\"how's it disable 2 pieces of cream cake for both of you tonight we can meet in the cafeteria at lunch time tomorrow and i'll give you something to you alex you gotta get your chips and soda now if you still want them it's almost trivial with the concept is about to start for the last time you go\", reason=ResultReason.RecognizingSpeech))\n",
            "RECOGNIZING: SpeechRecognitionEventArgs(session_id=3723bd2f928e4abe8bcd29f4abba97ba, result=SpeechRecognitionResult(result_id=393e87b4772e45b9b34a5587a7b8851d, text=\"how's it disable 2 pieces of cream cake for both of you tonight we can meet in the cafeteria at lunch time tomorrow and i'll give you something to you alex you gotta get your chips and soda now if you still want them it's almost trivial with the concept is about to start for the last time you go do\", reason=ResultReason.RecognizingSpeech))\n",
            "RECOGNIZING: SpeechRecognitionEventArgs(session_id=3723bd2f928e4abe8bcd29f4abba97ba, result=SpeechRecognitionResult(result_id=105b8950c16c47f6800d89aee326e2b6, text=\"how's it disable 2 pieces of cream cake for both of you tonight we can meet in the cafeteria at lunch time tomorrow and i'll give you something to you alex you gotta get your chips and soda now if you still want them it's almost trivial with the concept is about to start for the last time you go do that\", reason=ResultReason.RecognizingSpeech))\n",
            "RECOGNIZING: SpeechRecognitionEventArgs(session_id=3723bd2f928e4abe8bcd29f4abba97ba, result=SpeechRecognitionResult(result_id=6cf7aa924bdb43b2bd246ed088e35534, text=\"how's it disable 2 pieces of cream cake for both of you tonight we can meet in the cafeteria at lunch time tomorrow and i'll give you something to you alex you gotta get your chips and soda now if you still want them it's almost trivial with the concept is about to start for the last time you go do that find\", reason=ResultReason.RecognizingSpeech))\n",
            "RECOGNIZING: SpeechRecognitionEventArgs(session_id=3723bd2f928e4abe8bcd29f4abba97ba, result=SpeechRecognitionResult(result_id=49d88afd30cd417ba97222e715d7fb4a, text=\"how's it disable 2 pieces of cream cake for both of you tonight we can meet in the cafeteria at lunch time tomorrow and i'll give you something to you alex you gotta get your chips and soda now if you still want them it's almost trivial with the concept is about to start for the last time you go do you guys want anything\", reason=ResultReason.RecognizingSpeech))\n",
            "RECOGNIZING: SpeechRecognitionEventArgs(session_id=3723bd2f928e4abe8bcd29f4abba97ba, result=SpeechRecognitionResult(result_id=9989411ce8a242409205faea5b092eb6, text=\"how's it disable 2 pieces of cream cake for both of you tonight we can meet in the cafeteria at lunch time tomorrow and i'll give you something to you alex you gotta get your chips and soda now if you still want them it's almost trivial with the concept is about to start for the last time you go do you guys want anything i'm\", reason=ResultReason.RecognizingSpeech))\n",
            "RECOGNIZING: SpeechRecognitionEventArgs(session_id=3723bd2f928e4abe8bcd29f4abba97ba, result=SpeechRecognitionResult(result_id=da59b3c5e646400aa07cfc2a3101f122, text=\"how's it disable 2 pieces of cream cake for both of you tonight we can meet in the cafeteria at lunch time tomorrow and i'll give you something to you alex you gotta get your chips and soda now if you still want them it's almost trivial with the concept is about to start for the last time you go do you guys want anything i'm sure\", reason=ResultReason.RecognizingSpeech))\n",
            "RECOGNIZING: SpeechRecognitionEventArgs(session_id=3723bd2f928e4abe8bcd29f4abba97ba, result=SpeechRecognitionResult(result_id=ce6879a0b82247bdbca5c2411c849d16, text=\"how's it disable 2 pieces of cream cake for both of you tonight we can meet in the cafeteria at lunch time tomorrow and i'll give you something to you alex you gotta get your chips and soda now if you still want them it's almost trivial with the concept is about to start for the last time you go do you guys want anything i'm sure don't need\", reason=ResultReason.RecognizingSpeech))\n",
            "RECOGNIZING: SpeechRecognitionEventArgs(session_id=3723bd2f928e4abe8bcd29f4abba97ba, result=SpeechRecognitionResult(result_id=23f63164fe9243fbb9cfb0e590c374af, text=\"how's it disable 2 pieces of cream cake for both of you tonight we can meet in the cafeteria at lunch time tomorrow and i'll give you something to you alex you gotta get your chips and soda now if you still want them it's almost trivial with the concept is about to start for the last time you go do you guys want anything i'm sure don't need anything\", reason=ResultReason.RecognizingSpeech))\n",
            "RECOGNIZED: SpeechRecognitionEventArgs(session_id=3723bd2f928e4abe8bcd29f4abba97ba, result=SpeechRecognitionResult(result_id=8f060c5e3e9741eea6ffdb729951baf4, text=\"How's It Disable 2 pieces of cream cake for both of you? Tonight we can meet in the cafeteria at lunch time tomorrow and I'll give you something to you. Alex, you gotta get your chips and soda now. If you still want them, it's almost trivial with the concept is about to start for the last time you go. Do you guys want anything? I'm sure don't need anything.\", reason=ResultReason.RecognizedSpeech))\n",
            "RECOGNIZING: SpeechRecognitionEventArgs(session_id=3723bd2f928e4abe8bcd29f4abba97ba, result=SpeechRecognitionResult(result_id=854393d8838b4393865a88eca79167b8, text=\"thank you\", reason=ResultReason.RecognizingSpeech))\n",
            "RECOGNIZING: SpeechRecognitionEventArgs(session_id=3723bd2f928e4abe8bcd29f4abba97ba, result=SpeechRecognitionResult(result_id=b25837fa36d34e1f8ffc349096fe5b78, text=\"thank you very\", reason=ResultReason.RecognizingSpeech))\n",
            "RECOGNIZING: SpeechRecognitionEventArgs(session_id=3723bd2f928e4abe8bcd29f4abba97ba, result=SpeechRecognitionResult(result_id=6c1552bf1e2549869ae13704ae7acd12, text=\"included\", reason=ResultReason.RecognizingSpeech))\n",
            "RECOGNIZING: SpeechRecognitionEventArgs(session_id=3723bd2f928e4abe8bcd29f4abba97ba, result=SpeechRecognitionResult(result_id=e6a2e924c78248a397c0d77c97b207fd, text=\"and if it is\", reason=ResultReason.RecognizingSpeech))\n",
            "RECOGNIZED: SpeechRecognitionEventArgs(session_id=3723bd2f928e4abe8bcd29f4abba97ba, result=SpeechRecognitionResult(result_id=baa9105f91a94562affbde09bf46e26b, text=\"And if it is.\", reason=ResultReason.RecognizedSpeech))\n",
            "RECOGNIZING: SpeechRecognitionEventArgs(session_id=3723bd2f928e4abe8bcd29f4abba97ba, result=SpeechRecognitionResult(result_id=e0283d8c0ffe46c1ae5cad646b53bc74, text=\"yes\", reason=ResultReason.RecognizingSpeech))\n",
            "RECOGNIZING: SpeechRecognitionEventArgs(session_id=3723bd2f928e4abe8bcd29f4abba97ba, result=SpeechRecognitionResult(result_id=f6fddd575bef465989cd08c20406d4b8, text=\"yes it\", reason=ResultReason.RecognizingSpeech))\n",
            "RECOGNIZING: SpeechRecognitionEventArgs(session_id=3723bd2f928e4abe8bcd29f4abba97ba, result=SpeechRecognitionResult(result_id=884d4a79a0034fe5a12c37ff938f1dfb, text=\"yes it i'll be right\", reason=ResultReason.RecognizingSpeech))\n",
            "RECOGNIZING: SpeechRecognitionEventArgs(session_id=3723bd2f928e4abe8bcd29f4abba97ba, result=SpeechRecognitionResult(result_id=54b546a0bc154c0bb95ee0fb00e7b981, text=\"yes it i'll be right back\", reason=ResultReason.RecognizingSpeech))\n",
            "RECOGNIZED: SpeechRecognitionEventArgs(session_id=3723bd2f928e4abe8bcd29f4abba97ba, result=SpeechRecognitionResult(result_id=a63ffb36072e4f39af88dfcf90ada520, text=\"Yes it, I'll be right back.\", reason=ResultReason.RecognizedSpeech))\n",
            "RECOGNIZING: SpeechRecognitionEventArgs(session_id=3723bd2f928e4abe8bcd29f4abba97ba, result=SpeechRecognitionResult(result_id=5d4cbc7431c24bb0b355ff29240e6287, text=\"but it\", reason=ResultReason.RecognizingSpeech))\n",
            "RECOGNIZING: SpeechRecognitionEventArgs(session_id=3723bd2f928e4abe8bcd29f4abba97ba, result=SpeechRecognitionResult(result_id=a7537bb9cf9b40fc9eadad94819c9e78, text=\"actually\", reason=ResultReason.RecognizingSpeech))\n",
            "RECOGNIZED: SpeechRecognitionEventArgs(session_id=3723bd2f928e4abe8bcd29f4abba97ba, result=SpeechRecognitionResult(result_id=cd14078d30544236a9ca650da8ebb4af, text=\"Actually.\", reason=ResultReason.RecognizedSpeech))\n",
            "RECOGNIZED: SpeechRecognitionEventArgs(session_id=3723bd2f928e4abe8bcd29f4abba97ba, result=SpeechRecognitionResult(result_id=ad6c4a382fad4efbbeac56ec332ad997, text=\"\", reason=ResultReason.RecognizedSpeech))\n",
            "CLOSING on SpeechRecognitionCanceledEventArgs(session_id=3723bd2f928e4abe8bcd29f4abba97ba, result=SpeechRecognitionResult(result_id=2440e949bf2d45699ca288fa0317dd9d, text=\"\", reason=ResultReason.Canceled))\n",
            "SESSION STOPPED SessionEventArgs(session_id=3723bd2f928e4abe8bcd29f4abba97ba)\n",
            "CLOSING on SessionEventArgs(session_id=3723bd2f928e4abe8bcd29f4abba97ba)\n"
          ],
          "name": "stdout"
        }
      ]
    },
    {
      "cell_type": "code",
      "metadata": {
        "id": "I8JIDvsAgYU9",
        "colab_type": "code",
        "colab": {}
      },
      "source": [
        "#used to trim audio and video.\n",
        "\n",
        "import ffmpeg \n",
        "\n",
        "#first finding out the length of the list to easily iterate over it.\n",
        "\n",
        "# print(len(labelling))\n",
        "\n",
        "#trim entire audio into segments based on end and start time\n",
        "\n",
        "for index in range(len(labelling)) : \n",
        "\n",
        "  print(labelling[index][1])"
      ],
      "execution_count": null,
      "outputs": []
    },
    {
      "cell_type": "code",
      "metadata": {
        "id": "tkJYPvw1sjHw",
        "colab_type": "code",
        "colab": {
          "base_uri": "https://localhost:8080/",
          "height": 136
        },
        "outputId": "432f5e58-6776-4da5-c89c-91ad556afb16"
      },
      "source": [
        "!git clone https://github.com/tyiannak/pyAudioAnalysis.git"
      ],
      "execution_count": null,
      "outputs": [
        {
          "output_type": "stream",
          "text": [
            "Cloning into 'pyAudioAnalysis'...\n",
            "remote: Enumerating objects: 40, done.\u001b[K\n",
            "remote: Counting objects: 100% (40/40), done.\u001b[K\n",
            "remote: Compressing objects: 100% (35/35), done.\u001b[K\n",
            "remote: Total 2399 (delta 22), reused 10 (delta 5), pack-reused 2359\u001b[K\n",
            "Receiving objects: 100% (2399/2399), 134.59 MiB | 30.52 MiB/s, done.\n",
            "Resolving deltas: 100% (1482/1482), done.\n"
          ],
          "name": "stdout"
        }
      ]
    },
    {
      "cell_type": "code",
      "metadata": {
        "id": "38oYXgmCgpB2",
        "colab_type": "code",
        "colab": {
          "base_uri": "https://localhost:8080/",
          "height": 34
        },
        "outputId": "872733c5-b21e-41d3-ce5a-dafdc74ccd3f"
      },
      "source": [
        "!pip install -r ./requirements.txt"
      ],
      "execution_count": null,
      "outputs": [
        {
          "output_type": "stream",
          "text": [
            "\u001b[31mERROR: Could not open requirements file: [Errno 2] No such file or directory: './requirements.txt'\u001b[0m\n"
          ],
          "name": "stdout"
        }
      ]
    },
    {
      "cell_type": "code",
      "metadata": {
        "id": "N50ivOZ0g145",
        "colab_type": "code",
        "colab": {
          "base_uri": "https://localhost:8080/",
          "height": 34
        },
        "outputId": "cbbe1238-5b96-496b-f48b-935d6857f446"
      },
      "source": [
        "cd pyAudioAnalysis/"
      ],
      "execution_count": null,
      "outputs": [
        {
          "output_type": "stream",
          "text": [
            "/content/pyAudioAnalysis\n"
          ],
          "name": "stdout"
        }
      ]
    },
    {
      "cell_type": "code",
      "metadata": {
        "id": "jQKljdhcg6Ux",
        "colab_type": "code",
        "colab": {
          "base_uri": "https://localhost:8080/",
          "height": 1000
        },
        "outputId": "bf254346-1502-4f23-d497-c11b8c78d8fd"
      },
      "source": [
        "!pip install -r ./requirements.txt"
      ],
      "execution_count": null,
      "outputs": [
        {
          "output_type": "stream",
          "text": [
            "Collecting matplotlib==3.1.2\n",
            "\u001b[?25l  Downloading https://files.pythonhosted.org/packages/4e/11/06958a2b895a3853206dea1fb2a5b11bf044f626f90745987612af9c8f2c/matplotlib-3.1.2-cp36-cp36m-manylinux1_x86_64.whl (13.1MB)\n",
            "\u001b[K     |████████████████████████████████| 13.1MB 242kB/s \n",
            "\u001b[?25hCollecting simplejson==3.16.0\n",
            "\u001b[?25l  Downloading https://files.pythonhosted.org/packages/e3/24/c35fb1c1c315fc0fffe61ea00d3f88e85469004713dab488dee4f35b0aff/simplejson-3.16.0.tar.gz (81kB)\n",
            "\u001b[K     |████████████████████████████████| 81kB 12.8MB/s \n",
            "\u001b[?25hRequirement already satisfied: scipy==1.4.1 in /usr/local/lib/python3.6/dist-packages (from -r ./requirements.txt (line 3)) (1.4.1)\n",
            "Collecting numpy==1.18.1\n",
            "\u001b[?25l  Downloading https://files.pythonhosted.org/packages/62/20/4d43e141b5bc426ba38274933ef8e76e85c7adea2c321ecf9ebf7421cedf/numpy-1.18.1-cp36-cp36m-manylinux1_x86_64.whl (20.1MB)\n",
            "\u001b[K     |████████████████████████████████| 20.2MB 1.4MB/s \n",
            "\u001b[?25hCollecting hmmlearn==0.2.2\n",
            "\u001b[?25l  Downloading https://files.pythonhosted.org/packages/d7/c5/91b43156b193d180ed94069269bcf88d3c7c6e54514a8482050fa9995e10/hmmlearn-0.2.2.tar.gz (146kB)\n",
            "\u001b[K     |████████████████████████████████| 153kB 51.0MB/s \n",
            "\u001b[?25hCollecting eyeD3==0.8.12\n",
            "\u001b[?25l  Downloading https://files.pythonhosted.org/packages/f5/bc/909d3934afd2847394359d6ecceec037677595cb216519901ce2161d9e3b/eyeD3-0.8.12-py2.py3-none-any.whl (147kB)\n",
            "\u001b[K     |████████████████████████████████| 153kB 52.3MB/s \n",
            "\u001b[?25hCollecting pydub==0.23.1\n",
            "  Downloading https://files.pythonhosted.org/packages/79/db/eaf620b73a1eec3c8c6f8f5b0b236a50f9da88ad57802154b7ba7664d0b8/pydub-0.23.1-py2.py3-none-any.whl\n",
            "Collecting scikit_learn==0.21.3\n",
            "\u001b[?25l  Downloading https://files.pythonhosted.org/packages/a0/c5/d2238762d780dde84a20b8c761f563fe882b88c5a5fb03c056547c442a19/scikit_learn-0.21.3-cp36-cp36m-manylinux1_x86_64.whl (6.7MB)\n",
            "\u001b[K     |████████████████████████████████| 6.7MB 52.2MB/s \n",
            "\u001b[?25hCollecting tqdm==4.44.1\n",
            "\u001b[?25l  Downloading https://files.pythonhosted.org/packages/1c/1a/cd6ee6b8b06557dcc5590785af2fe90fa10c19c28e567c1e3a299d5081e7/tqdm-4.44.1-py2.py3-none-any.whl (60kB)\n",
            "\u001b[K     |████████████████████████████████| 61kB 9.7MB/s \n",
            "\u001b[?25hRequirement already satisfied: kiwisolver>=1.0.1 in /usr/local/lib/python3.6/dist-packages (from matplotlib==3.1.2->-r ./requirements.txt (line 1)) (1.2.0)\n",
            "Requirement already satisfied: cycler>=0.10 in /usr/local/lib/python3.6/dist-packages (from matplotlib==3.1.2->-r ./requirements.txt (line 1)) (0.10.0)\n",
            "Requirement already satisfied: pyparsing!=2.0.4,!=2.1.2,!=2.1.6,>=2.0.1 in /usr/local/lib/python3.6/dist-packages (from matplotlib==3.1.2->-r ./requirements.txt (line 1)) (2.4.7)\n",
            "Requirement already satisfied: python-dateutil>=2.1 in /usr/local/lib/python3.6/dist-packages (from matplotlib==3.1.2->-r ./requirements.txt (line 1)) (2.8.1)\n",
            "Requirement already satisfied: six in /usr/local/lib/python3.6/dist-packages (from eyeD3==0.8.12->-r ./requirements.txt (line 6)) (1.15.0)\n",
            "Collecting python-magic\n",
            "  Downloading https://files.pythonhosted.org/packages/59/77/c76dc35249df428ce2c38a3196e2b2e8f9d2f847a8ca1d4d7a3973c28601/python_magic-0.4.18-py2.py3-none-any.whl\n",
            "Requirement already satisfied: joblib>=0.11 in /usr/local/lib/python3.6/dist-packages (from scikit_learn==0.21.3->-r ./requirements.txt (line 8)) (0.16.0)\n",
            "Building wheels for collected packages: simplejson, hmmlearn\n",
            "  Building wheel for simplejson (setup.py) ... \u001b[?25l\u001b[?25hdone\n",
            "  Created wheel for simplejson: filename=simplejson-3.16.0-cp36-cp36m-linux_x86_64.whl size=114013 sha256=cda5b194610bc15af4d60e9ac833397eccc808791e9a5bb53107d530e0efdc28\n",
            "  Stored in directory: /root/.cache/pip/wheels/5d/1a/1e/0350bb3df3e74215cd91325344cc86c2c691f5306eb4d22c77\n",
            "  Building wheel for hmmlearn (setup.py) ... \u001b[?25l\u001b[?25hdone\n",
            "  Created wheel for hmmlearn: filename=hmmlearn-0.2.2-cp36-cp36m-linux_x86_64.whl size=323264 sha256=6ee4670611325526a7449f606496a92bcd1a76d97267db934f03451c1f9a4924\n",
            "  Stored in directory: /root/.cache/pip/wheels/2c/b6/0e/63a865a30e21e01d04f417d8995fbfb793d6bd464707efc546\n",
            "Successfully built simplejson hmmlearn\n",
            "\u001b[31mERROR: datascience 0.10.6 has requirement folium==0.2.1, but you'll have folium 0.8.3 which is incompatible.\u001b[0m\n",
            "\u001b[31mERROR: albumentations 0.1.12 has requirement imgaug<0.2.7,>=0.2.5, but you'll have imgaug 0.2.9 which is incompatible.\u001b[0m\n",
            "Installing collected packages: numpy, matplotlib, simplejson, scikit-learn, hmmlearn, python-magic, eyeD3, pydub, tqdm\n",
            "  Found existing installation: numpy 1.18.5\n",
            "    Uninstalling numpy-1.18.5:\n",
            "      Successfully uninstalled numpy-1.18.5\n",
            "  Found existing installation: matplotlib 3.2.2\n",
            "    Uninstalling matplotlib-3.2.2:\n",
            "      Successfully uninstalled matplotlib-3.2.2\n",
            "  Found existing installation: scikit-learn 0.22.2.post1\n",
            "    Uninstalling scikit-learn-0.22.2.post1:\n",
            "      Successfully uninstalled scikit-learn-0.22.2.post1\n",
            "  Found existing installation: tqdm 4.41.1\n",
            "    Uninstalling tqdm-4.41.1:\n",
            "      Successfully uninstalled tqdm-4.41.1\n",
            "Successfully installed eyeD3-0.8.12 hmmlearn-0.2.2 matplotlib-3.1.2 numpy-1.18.1 pydub-0.23.1 python-magic-0.4.18 scikit-learn-0.21.3 simplejson-3.16.0 tqdm-4.44.1\n"
          ],
          "name": "stdout"
        },
        {
          "output_type": "display_data",
          "data": {
            "application/vnd.colab-display-data+json": {
              "pip_warning": {
                "packages": [
                  "matplotlib",
                  "mpl_toolkits",
                  "numpy"
                ]
              }
            }
          },
          "metadata": {
            "tags": []
          }
        }
      ]
    },
    {
      "cell_type": "code",
      "metadata": {
        "id": "CxGngP71g-kf",
        "colab_type": "code",
        "colab": {
          "base_uri": "https://localhost:8080/",
          "height": 357
        },
        "outputId": "58a3657d-2d27-498c-d0eb-203565ed8b9a"
      },
      "source": [
        "!pip install -e ."
      ],
      "execution_count": null,
      "outputs": [
        {
          "output_type": "stream",
          "text": [
            "Obtaining file:///content/pyAudioAnalysis\n",
            "Requirement already satisfied: matplotlib==3.1.2 in /usr/local/lib/python3.6/dist-packages (from pyAudioAnalysis==0.3.2) (3.1.2)\n",
            "Requirement already satisfied: simplejson==3.16.0 in /usr/local/lib/python3.6/dist-packages (from pyAudioAnalysis==0.3.2) (3.16.0)\n",
            "Requirement already satisfied: scipy==1.4.1 in /usr/local/lib/python3.6/dist-packages (from pyAudioAnalysis==0.3.2) (1.4.1)\n",
            "Requirement already satisfied: numpy==1.18.1 in /usr/local/lib/python3.6/dist-packages (from pyAudioAnalysis==0.3.2) (1.18.1)\n",
            "Requirement already satisfied: hmmlearn==0.2.2 in /usr/local/lib/python3.6/dist-packages (from pyAudioAnalysis==0.3.2) (0.2.2)\n",
            "Requirement already satisfied: eyeD3==0.8.12 in /usr/local/lib/python3.6/dist-packages (from pyAudioAnalysis==0.3.2) (0.8.12)\n",
            "Requirement already satisfied: pydub==0.23.1 in /usr/local/lib/python3.6/dist-packages (from pyAudioAnalysis==0.3.2) (0.23.1)\n",
            "Requirement already satisfied: scikit_learn==0.21.3 in /usr/local/lib/python3.6/dist-packages (from pyAudioAnalysis==0.3.2) (0.21.3)\n",
            "Requirement already satisfied: tqdm==4.44.1 in /usr/local/lib/python3.6/dist-packages (from pyAudioAnalysis==0.3.2) (4.44.1)\n",
            "Requirement already satisfied: kiwisolver>=1.0.1 in /usr/local/lib/python3.6/dist-packages (from matplotlib==3.1.2->pyAudioAnalysis==0.3.2) (1.2.0)\n",
            "Requirement already satisfied: pyparsing!=2.0.4,!=2.1.2,!=2.1.6,>=2.0.1 in /usr/local/lib/python3.6/dist-packages (from matplotlib==3.1.2->pyAudioAnalysis==0.3.2) (2.4.7)\n",
            "Requirement already satisfied: cycler>=0.10 in /usr/local/lib/python3.6/dist-packages (from matplotlib==3.1.2->pyAudioAnalysis==0.3.2) (0.10.0)\n",
            "Requirement already satisfied: python-dateutil>=2.1 in /usr/local/lib/python3.6/dist-packages (from matplotlib==3.1.2->pyAudioAnalysis==0.3.2) (2.8.1)\n",
            "Requirement already satisfied: python-magic in /usr/local/lib/python3.6/dist-packages (from eyeD3==0.8.12->pyAudioAnalysis==0.3.2) (0.4.18)\n",
            "Requirement already satisfied: six in /usr/local/lib/python3.6/dist-packages (from eyeD3==0.8.12->pyAudioAnalysis==0.3.2) (1.15.0)\n",
            "Requirement already satisfied: joblib>=0.11 in /usr/local/lib/python3.6/dist-packages (from scikit_learn==0.21.3->pyAudioAnalysis==0.3.2) (0.16.0)\n",
            "Installing collected packages: pyAudioAnalysis\n",
            "  Running setup.py develop for pyAudioAnalysis\n",
            "Successfully installed pyAudioAnalysis\n"
          ],
          "name": "stdout"
        }
      ]
    },
    {
      "cell_type": "code",
      "metadata": {
        "id": "x4Lp656VhIyz",
        "colab_type": "code",
        "colab": {
          "base_uri": "https://localhost:8080/",
          "height": 129
        },
        "outputId": "285e34eb-54ca-4364-8c3c-c088519cceaa"
      },
      "source": [
        "python audioAnalysis.py speakerDiarization -i /content/drive/My Drive/threepeople.wav --num 0"
      ],
      "execution_count": null,
      "outputs": [
        {
          "output_type": "error",
          "ename": "SyntaxError",
          "evalue": "ignored",
          "traceback": [
            "\u001b[0;36m  File \u001b[0;32m\"<ipython-input-7-15c02c15d8e5>\"\u001b[0;36m, line \u001b[0;32m1\u001b[0m\n\u001b[0;31m    python audioAnalysis.py speakerDiarization -i /content/drive/My Drive/threepeople.wav --num 0\u001b[0m\n\u001b[0m                       ^\u001b[0m\n\u001b[0;31mSyntaxError\u001b[0m\u001b[0;31m:\u001b[0m invalid syntax\n"
          ]
        }
      ]
    },
    {
      "cell_type": "code",
      "metadata": {
        "id": "uQyBCVsVhhwO",
        "colab_type": "code",
        "colab": {
          "base_uri": "https://localhost:8080/",
          "height": 129
        },
        "outputId": "b0cbcd76-cbc6-417b-a3f2-9832957aa203"
      },
      "source": [
        "python audioAnalysis.py speakerDiarization -i /content/drive/My Drive/threepeople.wav --num 0"
      ],
      "execution_count": null,
      "outputs": [
        {
          "output_type": "error",
          "ename": "SyntaxError",
          "evalue": "ignored",
          "traceback": [
            "\u001b[0;36m  File \u001b[0;32m\"<ipython-input-10-15c02c15d8e5>\"\u001b[0;36m, line \u001b[0;32m1\u001b[0m\n\u001b[0;31m    python audioAnalysis.py speakerDiarization -i /content/drive/My Drive/threepeople.wav --num 0\u001b[0m\n\u001b[0m                       ^\u001b[0m\n\u001b[0;31mSyntaxError\u001b[0m\u001b[0;31m:\u001b[0m invalid syntax\n"
          ]
        }
      ]
    },
    {
      "cell_type": "code",
      "metadata": {
        "id": "A1iFhOFfha9S",
        "colab_type": "code",
        "colab": {
          "base_uri": "https://localhost:8080/",
          "height": 435
        },
        "outputId": "3754b285-ae14-43aa-8c35-c77cafc0186c"
      },
      "source": [
        "import audioAnalysis\n",
        "\n"
      ],
      "execution_count": null,
      "outputs": [
        {
          "output_type": "error",
          "ename": "ModuleNotFoundError",
          "evalue": "ignored",
          "traceback": [
            "\u001b[0;31m---------------------------------------------------------------------------\u001b[0m",
            "\u001b[0;31mModuleNotFoundError\u001b[0m                       Traceback (most recent call last)",
            "\u001b[0;32m<ipython-input-12-8704c42cbb14>\u001b[0m in \u001b[0;36m<module>\u001b[0;34m()\u001b[0m\n\u001b[0;32m----> 1\u001b[0;31m \u001b[0;32mimport\u001b[0m \u001b[0maudioAnalysis\u001b[0m\u001b[0;34m\u001b[0m\u001b[0;34m\u001b[0m\u001b[0m\n\u001b[0m\u001b[1;32m      2\u001b[0m \u001b[0;34m\u001b[0m\u001b[0m\n",
            "\u001b[0;32m/content/pyAudioAnalysis/pyAudioAnalysis/audioAnalysis.py\u001b[0m in \u001b[0;36m<module>\u001b[0;34m()\u001b[0m\n\u001b[1;32m      5\u001b[0m \u001b[0;32mimport\u001b[0m \u001b[0mglob\u001b[0m\u001b[0;34m\u001b[0m\u001b[0;34m\u001b[0m\u001b[0m\n\u001b[1;32m      6\u001b[0m \u001b[0;32mimport\u001b[0m \u001b[0mmatplotlib\u001b[0m\u001b[0;34m.\u001b[0m\u001b[0mpyplot\u001b[0m \u001b[0;32mas\u001b[0m \u001b[0mplt\u001b[0m\u001b[0;34m\u001b[0m\u001b[0;34m\u001b[0m\u001b[0m\n\u001b[0;32m----> 7\u001b[0;31m \u001b[0;32mfrom\u001b[0m \u001b[0mpyAudioAnalysis\u001b[0m \u001b[0;32mimport\u001b[0m \u001b[0mShortTermFeatures\u001b[0m \u001b[0;32mas\u001b[0m \u001b[0msF\u001b[0m\u001b[0;34m\u001b[0m\u001b[0;34m\u001b[0m\u001b[0m\n\u001b[0m\u001b[1;32m      8\u001b[0m \u001b[0;32mfrom\u001b[0m \u001b[0mpyAudioAnalysis\u001b[0m \u001b[0;32mimport\u001b[0m \u001b[0mMidTermFeatures\u001b[0m \u001b[0;32mas\u001b[0m \u001b[0maF\u001b[0m\u001b[0;34m\u001b[0m\u001b[0;34m\u001b[0m\u001b[0m\n\u001b[1;32m      9\u001b[0m \u001b[0;32mfrom\u001b[0m \u001b[0mpyAudioAnalysis\u001b[0m \u001b[0;32mimport\u001b[0m \u001b[0maudioTrainTest\u001b[0m \u001b[0;32mas\u001b[0m \u001b[0maT\u001b[0m\u001b[0;34m\u001b[0m\u001b[0;34m\u001b[0m\u001b[0m\n",
            "\u001b[0;31mModuleNotFoundError\u001b[0m: No module named 'pyAudioAnalysis'",
            "",
            "\u001b[0;31m---------------------------------------------------------------------------\u001b[0;32m\nNOTE: If your import is failing due to a missing package, you can\nmanually install dependencies using either !pip or !apt.\n\nTo view examples of installing some common dependencies, click the\n\"Open Examples\" button below.\n\u001b[0;31m---------------------------------------------------------------------------\u001b[0m\n"
          ]
        }
      ]
    }
  ]
}